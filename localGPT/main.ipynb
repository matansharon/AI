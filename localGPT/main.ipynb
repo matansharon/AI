{
 "cells": [
  {
   "attachments": {},
   "cell_type": "markdown",
   "metadata": {},
   "source": [
    "להתחיל בסרטון שראיתי אתמוך\n",
    "https://www.youtube.com/watch?v=MlyoObdIHyo&t=66s\n",
    "להתחיל עם הקובץ ingest.py"
   ]
  },
  {
   "cell_type": "code",
   "execution_count": null,
   "metadata": {},
   "outputs": [],
   "source": []
  }
 ],
 "metadata": {
  "language_info": {
   "name": "python"
  },
  "orig_nbformat": 4
 },
 "nbformat": 4,
 "nbformat_minor": 2
}
