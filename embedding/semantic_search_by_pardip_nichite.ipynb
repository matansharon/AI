{
 "cells": [
  {
   "cell_type": "markdown",
   "metadata": {},
   "source": [
    "like to the youtube: https://www.youtube.com/watch?v=eCCHDxMaFIk&t=128s"
   ]
  },
  {
   "cell_type": "code",
   "execution_count": 28,
   "metadata": {},
   "outputs": [],
   "source": [
    "import chromadb\n",
    "import os\n",
    "from datetime import datetime\n",
    "import pandas as pd\n",
    "import numpy as np\n",
    "import matplotlib.pyplot as plt\n",
    "# import seaborn as sns\n",
    "import re\n",
    "from PyPDF2 import PdfReader\n",
    "import os\n"
   ]
  },
  {
   "cell_type": "code",
   "execution_count": 33,
   "metadata": {},
   "outputs": [
    {
     "name": "stdout",
     "output_type": "stream",
     "text": [
      "name='test' id=UUID('515c23cd-9cb9-49d1-ad1b-01e32f845604') metadata=None\n"
     ]
    }
   ],
   "source": [
    "\n",
    "def create_collection():\n",
    "    client=chromadb.Client()\n",
    "    collection = client.get_or_create_collection(name=\"test\")\n",
    "    return collection\n",
    "    \n",
    "\n"
   ]
  },
  {
   "cell_type": "code",
   "execution_count": 59,
   "metadata": {},
   "outputs": [],
   "source": [
    "def read_pdf_text(pdf_path):\n",
    "    \"\"\"\n",
    "    Read the text content from a PDF file.\n",
    "    \n",
    "    Parameters:\n",
    "        pdf_path (str): The path to the PDF file.\n",
    "        \n",
    "    Returns:\n",
    "        str: The text content of the PDF.\n",
    "    \"\"\"\n",
    "    # Check if the file exists\n",
    "    if not os.path.exists(pdf_path):\n",
    "        return \"File not found.\"\n",
    "    \n",
    "    # Initialize a PdfReader object\n",
    "    pdf_reader = PdfReader(pdf_path)\n",
    "    \n",
    "    # Initialize an empty string to hold the text content\n",
    "    text_content = \"\"\n",
    "    \n",
    "    # Loop through each page and extract text\n",
    "    for page_num in range(len(pdf_reader.pages)):\n",
    "        # Get a Page object\n",
    "        page = pdf_reader.pages[page_num]\n",
    "        \n",
    "        # Extract text from the page\n",
    "        text = page.extract_text()\n",
    "        \n",
    "        # Add the text to the text_content string\n",
    "        text_content += text\n",
    "    \n",
    "    return text_content"
   ]
  },
  {
   "cell_type": "code",
   "execution_count": 74,
   "metadata": {},
   "outputs": [],
   "source": [
    "def read_files_from_folder():\n",
    "    file_data=[]\n",
    "    folder_path=os.getcwd()\n",
    "    for file_name in os.listdir(folder_path):\n",
    "        if file_name.endswith('.txt'):\n",
    "            with open(os.path.join(folder_path, file_name), 'r') as file:\n",
    "                content=file.read()\n",
    "                file_data.append({\"file_name\": file_name, \"content\": content})\n",
    "        elif file_name.endswith('.pdf'):\n",
    "            content=read_pdf_text(os.path.join(folder_path, file_name))\n",
    "            file_data.append({\"file_name\": file_name, \"content\": content})\n",
    "    return file_data"
   ]
  },
  {
   "cell_type": "code",
   "execution_count": 61,
   "metadata": {},
   "outputs": [],
   "source": [
    "def add_documents_to_collection(collection, file_data):\n",
    "    documents=[]\n",
    "    metadata=[]\n",
    "    ids=[]\n",
    "    for file in file_data:\n",
    "        collection.add(\n",
    "            documents.append(file['content']),\n",
    "            metadata.append({'file_name': file['file_name']}),\n",
    "            ids.append(file['file_name'])\n",
    "        )"
   ]
  },
  {
   "cell_type": "code",
   "execution_count": 40,
   "metadata": {},
   "outputs": [
    {
     "ename": "NameError",
     "evalue": "name 'client' is not defined",
     "output_type": "error",
     "traceback": [
      "\u001b[1;31m---------------------------------------------------------------------------\u001b[0m",
      "\u001b[1;31mNameError\u001b[0m                                 Traceback (most recent call last)",
      "Cell \u001b[1;32mIn[40], line 11\u001b[0m\n\u001b[0;32m      8\u001b[0m         \u001b[39mpass\u001b[39;00m\n\u001b[0;32m     10\u001b[0m main()\n\u001b[1;32m---> 11\u001b[0m \u001b[39mprint\u001b[39m(client)\n",
      "\u001b[1;31mNameError\u001b[0m: name 'client' is not defined"
     ]
    }
   ],
   "source": [
    "def main():\n",
    "    collection = create_collection()\n",
    "    file_data = read_files_from_folder()\n",
    "    add_documents_to_collection(collection, file_data)\n",
    "    \n",
    "    \n",
    "main()\n",
    "print(client)"
   ]
  }
 ],
 "metadata": {
  "kernelspec": {
   "display_name": "ai",
   "language": "python",
   "name": "python3"
  },
  "language_info": {
   "codemirror_mode": {
    "name": "ipython",
    "version": 3
   },
   "file_extension": ".py",
   "mimetype": "text/x-python",
   "name": "python",
   "nbconvert_exporter": "python",
   "pygments_lexer": "ipython3",
   "version": "3.10.9"
  },
  "orig_nbformat": 4
 },
 "nbformat": 4,
 "nbformat_minor": 2
}
