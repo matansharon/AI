{
 "cells": [
  {
   "cell_type": "markdown",
   "metadata": {},
   "source": [
    "like to the youtube: https://www.youtube.com/watch?v=eCCHDxMaFIk&t=128s"
   ]
  },
  {
   "cell_type": "code",
   "execution_count": 24,
   "metadata": {},
   "outputs": [],
   "source": [
    "import chromadb\n",
    "import os\n",
    "import datetime\n",
    "import pandas as pd\n",
    "import numpy as np\n",
    "import matplotlib.pyplot as plt\n",
    "# import seaborn as sns\n",
    "import re\n",
    "from PyPDF2 import PdfReader\n",
    "import os\n"
   ]
  },
  {
   "cell_type": "code",
   "execution_count": 23,
   "metadata": {},
   "outputs": [],
   "source": [
    "def create_collection():\n",
    "    # Create a collection\n",
    "    date = datetime.datetime.now().strftime(\"%Y-%m-%d %H:%M:%S\")\n",
    "    collection_name = \"chromadb\"+str(date)\n",
    "    client=chromadb.Client()\n",
    "    collection=client.create_collection('test2')\n",
    "    collection.add(\n",
    "        document=[],\n",
    "        metadata=[],\n",
    "        ids=[]\n",
    "    )\n",
    "    return collection"
   ]
  },
  {
   "cell_type": "code",
   "execution_count": 25,
   "metadata": {},
   "outputs": [],
   "source": [
    "def read_pdf_text(pdf_path):\n",
    "    \"\"\"\n",
    "    Read the text content from a PDF file.\n",
    "    \n",
    "    Parameters:\n",
    "        pdf_path (str): The path to the PDF file.\n",
    "        \n",
    "    Returns:\n",
    "        str: The text content of the PDF.\n",
    "    \"\"\"\n",
    "    # Check if the file exists\n",
    "    if not os.path.exists(pdf_path):\n",
    "        return \"File not found.\"\n",
    "    \n",
    "    # Initialize a PdfReader object\n",
    "    pdf_reader = PdfReader(pdf_path)\n",
    "    \n",
    "    # Initialize an empty string to hold the text content\n",
    "    text_content = \"\"\n",
    "    \n",
    "    # Loop through each page and extract text\n",
    "    for page_num in range(len(pdf_reader.pages)):\n",
    "        # Get a Page object\n",
    "        page = pdf_reader.pages[page_num]\n",
    "        \n",
    "        # Extract text from the page\n",
    "        text = page.extract_text()\n",
    "        \n",
    "        # Add the text to the text_content string\n",
    "        text_content += text\n",
    "    \n",
    "    return text_content"
   ]
  },
  {
   "cell_type": "code",
   "execution_count": 26,
   "metadata": {},
   "outputs": [],
   "source": [
    "def read_files_from_folder(folder_path):\n",
    "    file_data=[]\n",
    "    \n",
    "    for file_name in os.listdir(folder_path):\n",
    "        if file_name.endswith('.txt'):\n",
    "            with open(os.path.join(folder_path, file_name), 'r') as file:\n",
    "                content=file.read()\n",
    "                file_data.append({\"file_name\": file_name, \"content\": content})\n",
    "        elif file_name.endswith('.pdf'):\n",
    "            content=read_pdf_text(os.path.join(folder_path, file_name))\n",
    "            file_data.append({\"file_name\": file_name, \"content\": content})\n",
    "    return file_data"
   ]
  },
  {
   "cell_type": "code",
   "execution_count": 28,
   "metadata": {},
   "outputs": [],
   "source": [
    "def add_documents_to_collection(collection, file_data):\n",
    "    for file in file_data:\n",
    "        collection.add(\n",
    "            documents.append(file['content']),\n",
    "            metadatas.append({'file_name': file['file_name']}),\n",
    "            ids.append(file['file_name'])\n",
    "        )"
   ]
  },
  {
   "cell_type": "code",
   "execution_count": 14,
   "metadata": {},
   "outputs": [
    {
     "ename": "NameError",
     "evalue": "name 'documents' is not defined",
     "output_type": "error",
     "traceback": [
      "\u001b[1;31m---------------------------------------------------------------------------\u001b[0m",
      "\u001b[1;31mNameError\u001b[0m                                 Traceback (most recent call last)",
      "Cell \u001b[1;32mIn[14], line 15\u001b[0m\n\u001b[0;32m     10\u001b[0m     results\u001b[39m=\u001b[39mcollection\u001b[39m.\u001b[39mquery(\n\u001b[0;32m     11\u001b[0m         query_texts\u001b[39m=\u001b[39mquery,\n\u001b[0;32m     12\u001b[0m         n_results\u001b[39m=\u001b[39m\u001b[39m1\u001b[39m\n\u001b[0;32m     13\u001b[0m     )\n\u001b[0;32m     14\u001b[0m     \u001b[39mprint\u001b[39m(results)\n\u001b[1;32m---> 15\u001b[0m main()\n",
      "Cell \u001b[1;32mIn[14], line 7\u001b[0m, in \u001b[0;36mmain\u001b[1;34m()\u001b[0m\n\u001b[0;32m      5\u001b[0m file_data\u001b[39m=\u001b[39mread_files_from_folder(os\u001b[39m.\u001b[39mgetcwd())\n\u001b[0;32m      6\u001b[0m \u001b[39m#add documents to collection\u001b[39;00m\n\u001b[1;32m----> 7\u001b[0m add_documents_to_collection(collection, file_data)\n\u001b[0;32m      8\u001b[0m \u001b[39m#write a query to search for a document\u001b[39;00m\n\u001b[0;32m      9\u001b[0m query\u001b[39m=\u001b[39m\u001b[39m'\u001b[39m\u001b[39mcat\u001b[39m\u001b[39m'\u001b[39m\n",
      "Cell \u001b[1;32mIn[5], line 4\u001b[0m, in \u001b[0;36madd_documents_to_collection\u001b[1;34m(collection, file_data)\u001b[0m\n\u001b[0;32m      1\u001b[0m \u001b[39mdef\u001b[39;00m \u001b[39madd_documents_to_collection\u001b[39m(collection, file_data):\n\u001b[0;32m      2\u001b[0m     \u001b[39mfor\u001b[39;00m file \u001b[39min\u001b[39;00m file_data:\n\u001b[0;32m      3\u001b[0m         collection\u001b[39m.\u001b[39madd(\n\u001b[1;32m----> 4\u001b[0m             documents\u001b[39m.\u001b[39mappend(file[\u001b[39m'\u001b[39m\u001b[39mcontent\u001b[39m\u001b[39m'\u001b[39m]),\n\u001b[0;32m      5\u001b[0m             metadatas\u001b[39m.\u001b[39mappend({\u001b[39m'\u001b[39m\u001b[39mfile_name\u001b[39m\u001b[39m'\u001b[39m: file[\u001b[39m'\u001b[39m\u001b[39mfile_name\u001b[39m\u001b[39m'\u001b[39m]}),\n\u001b[0;32m      6\u001b[0m             ids\u001b[39m.\u001b[39mappend(file[\u001b[39m'\u001b[39m\u001b[39mfile_name\u001b[39m\u001b[39m'\u001b[39m])\n\u001b[0;32m      7\u001b[0m         )\n",
      "\u001b[1;31mNameError\u001b[0m: name 'documents' is not defined"
     ]
    }
   ],
   "source": [
    "def main():\n",
    "    #create a collection\n",
    "    client=chromadb.Client()\n",
    "    collection=client.create_collection('test2')\n",
    "    file_data=read_files_from_folder(os.getcwd())\n",
    "    #add documents to collection\n",
    "    add_documents_to_collection(collection, file_data)\n",
    "    #write a query to search for a document\n",
    "    query='cat'\n",
    "    results=collection.query(\n",
    "        query_texts=query,\n",
    "        n_results=1\n",
    "    )\n",
    "    print(results)\n",
    "main()"
   ]
  },
  {
   "cell_type": "code",
   "execution_count": 13,
   "metadata": {},
   "outputs": [],
   "source": [
    "\n"
   ]
  }
 ],
 "metadata": {
  "kernelspec": {
   "display_name": "ai",
   "language": "python",
   "name": "python3"
  },
  "language_info": {
   "codemirror_mode": {
    "name": "ipython",
    "version": 3
   },
   "file_extension": ".py",
   "mimetype": "text/x-python",
   "name": "python",
   "nbconvert_exporter": "python",
   "pygments_lexer": "ipython3",
   "version": "3.10.9"
  },
  "orig_nbformat": 4
 },
 "nbformat": 4,
 "nbformat_minor": 2
}
