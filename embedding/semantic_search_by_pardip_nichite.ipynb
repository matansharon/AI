{
 "cells": [
  {
   "cell_type": "markdown",
   "metadata": {},
   "source": [
    "like to the youtube: https://www.youtube.com/watch?v=eCCHDxMaFIk&t=128s"
   ]
  },
  {
   "cell_type": "code",
   "execution_count": 12,
   "metadata": {},
   "outputs": [],
   "source": [
    "import chromadb\n",
    "import os\n",
    "from datetime import datetime\n",
    "import pandas as pd\n",
    "import numpy as np\n",
    "import matplotlib.pyplot as plt\n",
    "# import seaborn as sns\n",
    "import re\n",
    "from PyPDF2 import PdfReader\n",
    "import os\n"
   ]
  },
  {
   "cell_type": "code",
   "execution_count": 13,
   "metadata": {},
   "outputs": [],
   "source": [
    "\n",
    "def create_collection():\n",
    "    client=chromadb.Client()\n",
    "    collection = client.get_or_create_collection(name=\"test\")\n",
    "    return collection\n",
    "    \n",
    "\n"
   ]
  },
  {
   "cell_type": "code",
   "execution_count": 14,
   "metadata": {},
   "outputs": [],
   "source": [
    "#create a function that read pdf file and return the text useing PyPDF2\n",
    "def read_pdf_file(file_path):\n",
    "    from PyPDF2 import PdfReader\n",
    "    res=''\n",
    "    reader = PdfReader(file_path)\n",
    "    for page in reader.pages:\n",
    "        res+=page.extract_text()\n",
    "    return res\n",
    "    \n",
    "    \n",
    "#test the function\n"
   ]
  },
  {
   "cell_type": "code",
   "execution_count": 15,
   "metadata": {},
   "outputs": [],
   "source": [
    "#create a function that read text file and return the text\n",
    "def read_text_file(file_path):\n",
    "    with open(file_path, 'r', encoding='ISO-8859-1') as file:\n",
    "        data = file.read()\n",
    "        return data\n",
    "#test the function\n"
   ]
  },
  {
   "cell_type": "code",
   "execution_count": 40,
   "metadata": {},
   "outputs": [],
   "source": [
    "def read_files_from_folder():\n",
    "    file_data={}\n",
    "    folder_path=os.getcwd()+\"/data\"\n",
    "    index=0\n",
    "    \n",
    "    for file_name in os.listdir(folder_path):\n",
    "        if file_name not in file_data:\n",
    "            if file_name.endswith('.txt'):\n",
    "                \n",
    "                file_data[file_name]={'id':index,'name':file_name,'content':read_text_file(folder_path+'\\\\'+file_name)}\n",
    "                file_data[file_name]['length']=len(file_data[file_name]['content'])\n",
    "            elif file_name.endswith('.pdf'):\n",
    "                \n",
    "                file_data[file_name]={'id':index,'name':file_name,'content':read_text_file(folder_path+'\\\\'+file_name)}\n",
    "                file_data[file_name]['length']=len(file_data[file_name]['content'])\n",
    "            else:\n",
    "                continue\n",
    "    file_data['num_of_files']=index\n",
    "    return file_data"
   ]
  },
  {
   "cell_type": "code",
   "execution_count": 17,
   "metadata": {},
   "outputs": [],
   "source": [
    "def add_documents_to_collection(collection, file_data):\n",
    "    documents=[]\n",
    "    metadata=[]\n",
    "    ids=[]\n",
    "    for file in file_data:\n",
    "        print(file)\n",
    "        # collection.add(\n",
    "        #     documents.append(file['content']),\n",
    "        #     metadata.append({'file_name': file['file_name']}),\n",
    "        #     ids.append(file['file_name'])\n",
    "        # )"
   ]
  },
  {
   "cell_type": "code",
   "execution_count": 43,
   "metadata": {},
   "outputs": [
    {
     "name": "stdout",
     "output_type": "stream",
     "text": [
      "temp.pdf\n",
      "temp.txt\n",
      "TMV MVP for DV.txt\n",
      "num_of_files\n"
     ]
    }
   ],
   "source": [
    "def main():\n",
    "    collection = create_collection()\n",
    "    file_data = read_files_from_folder()\n",
    "    # add_documents_to_collection(collection, file_data)\n",
    "    for file in file_data:\n",
    "        try:\n",
    "            print(file_data[file]['name'])\n",
    "        except:\n",
    "            print((file))\n",
    "            \n",
    "\n",
    "main()"
   ]
  }
 ],
 "metadata": {
  "kernelspec": {
   "display_name": "ai",
   "language": "python",
   "name": "python3"
  },
  "language_info": {
   "codemirror_mode": {
    "name": "ipython",
    "version": 3
   },
   "file_extension": ".py",
   "mimetype": "text/x-python",
   "name": "python",
   "nbconvert_exporter": "python",
   "pygments_lexer": "ipython3",
   "version": "3.10.9"
  },
  "orig_nbformat": 4
 },
 "nbformat": 4,
 "nbformat_minor": 2
}
