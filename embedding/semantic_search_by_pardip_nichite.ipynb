{
 "cells": [
  {
   "cell_type": "markdown",
   "metadata": {},
   "source": [
    "like to the youtube: https://www.youtube.com/watch?v=eCCHDxMaFIk&t=128s"
   ]
  },
  {
   "cell_type": "code",
   "execution_count": 57,
   "metadata": {},
   "outputs": [],
   "source": [
    "import chromadb\n",
    "import os\n",
    "from datetime import datetime\n",
    "import pandas as pd\n",
    "import numpy as np\n",
    "import matplotlib.pyplot as plt\n",
    "# import seaborn as sns\n",
    "import re\n",
    "from PyPDF2 import PdfReader\n",
    "import os\n"
   ]
  },
  {
   "cell_type": "code",
   "execution_count": 75,
   "metadata": {},
   "outputs": [],
   "source": [
    "def create_collection():\n",
    "    current_time = datetime.now()\n",
    "\n",
    "    # Format the date string to be compliant with collection name rules\n",
    "    date_str = current_time.strftime(\"%Y-%m-%d_%H-%M-%S\")\n",
    "\n",
    "    # Create the collection name\n",
    "    name = \"db\" + date_str\n",
    "\n",
    "    # print(name)\n",
    "    client=chromadb.Client()\n",
    "    collection=client.create_collection(name)\n",
    "    collection_name = \"chromadb\"+(date)\n",
    "    "
   ]
  },
  {
   "cell_type": "code",
   "execution_count": 59,
   "metadata": {},
   "outputs": [],
   "source": [
    "def read_pdf_text(pdf_path):\n",
    "    \"\"\"\n",
    "    Read the text content from a PDF file.\n",
    "    \n",
    "    Parameters:\n",
    "        pdf_path (str): The path to the PDF file.\n",
    "        \n",
    "    Returns:\n",
    "        str: The text content of the PDF.\n",
    "    \"\"\"\n",
    "    # Check if the file exists\n",
    "    if not os.path.exists(pdf_path):\n",
    "        return \"File not found.\"\n",
    "    \n",
    "    # Initialize a PdfReader object\n",
    "    pdf_reader = PdfReader(pdf_path)\n",
    "    \n",
    "    # Initialize an empty string to hold the text content\n",
    "    text_content = \"\"\n",
    "    \n",
    "    # Loop through each page and extract text\n",
    "    for page_num in range(len(pdf_reader.pages)):\n",
    "        # Get a Page object\n",
    "        page = pdf_reader.pages[page_num]\n",
    "        \n",
    "        # Extract text from the page\n",
    "        text = page.extract_text()\n",
    "        \n",
    "        # Add the text to the text_content string\n",
    "        text_content += text\n",
    "    \n",
    "    return text_content"
   ]
  },
  {
   "cell_type": "code",
   "execution_count": 74,
   "metadata": {},
   "outputs": [],
   "source": [
    "def read_files_from_folder():\n",
    "    file_data=[]\n",
    "    folder_path=os.getcwd()\n",
    "    for file_name in os.listdir(folder_path):\n",
    "        if file_name.endswith('.txt'):\n",
    "            with open(os.path.join(folder_path, file_name), 'r') as file:\n",
    "                content=file.read()\n",
    "                file_data.append({\"file_name\": file_name, \"content\": content})\n",
    "        elif file_name.endswith('.pdf'):\n",
    "            content=read_pdf_text(os.path.join(folder_path, file_name))\n",
    "            file_data.append({\"file_name\": file_name, \"content\": content})\n",
    "    return file_data"
   ]
  },
  {
   "cell_type": "code",
   "execution_count": 61,
   "metadata": {},
   "outputs": [],
   "source": [
    "def add_documents_to_collection(collection, file_data):\n",
    "    documents=[]\n",
    "    metadata=[]\n",
    "    ids=[]\n",
    "    for file in file_data:\n",
    "        collection.add(\n",
    "            documents.append(file['content']),\n",
    "            metadata.append({'file_name': file['file_name']}),\n",
    "            ids.append(file['file_name'])\n",
    "        )"
   ]
  },
  {
   "cell_type": "code",
   "execution_count": 76,
   "metadata": {},
   "outputs": [
    {
     "ename": "AttributeError",
     "evalue": "'Collection' object has no attribute 'insert'",
     "output_type": "error",
     "traceback": [
      "\u001b[1;31m---------------------------------------------------------------------------\u001b[0m",
      "\u001b[1;31mAttributeError\u001b[0m                            Traceback (most recent call last)",
      "Cell \u001b[1;32mIn[76], line 6\u001b[0m\n\u001b[0;32m      3\u001b[0m     collection\u001b[39m=\u001b[39mcreate_collection()\n\u001b[0;32m      4\u001b[0m     \u001b[39mprint\u001b[39m(collection)\n\u001b[1;32m----> 6\u001b[0m main()\n",
      "Cell \u001b[1;32mIn[76], line 3\u001b[0m, in \u001b[0;36mmain\u001b[1;34m()\u001b[0m\n\u001b[0;32m      1\u001b[0m \u001b[39mdef\u001b[39;00m \u001b[39mmain\u001b[39m():\n\u001b[0;32m      2\u001b[0m     \u001b[39m# date = datetime.now().strftime(\"%Y-%m-%d_%H-%M-%S\")\u001b[39;00m\n\u001b[1;32m----> 3\u001b[0m     collection\u001b[39m=\u001b[39mcreate_collection()\n\u001b[0;32m      4\u001b[0m     \u001b[39mprint\u001b[39m(collection)\n",
      "Cell \u001b[1;32mIn[75], line 17\u001b[0m, in \u001b[0;36mcreate_collection\u001b[1;34m()\u001b[0m\n\u001b[0;32m     14\u001b[0m file_data \u001b[39m=\u001b[39m read_files_from_folder()\n\u001b[0;32m     16\u001b[0m \u001b[39mfor\u001b[39;00m file \u001b[39min\u001b[39;00m file_data:\n\u001b[1;32m---> 17\u001b[0m     collection\u001b[39m.\u001b[39;49minsert(file)\n\u001b[0;32m     18\u001b[0m \u001b[39mreturn\u001b[39;00m collection\n",
      "\u001b[1;31mAttributeError\u001b[0m: 'Collection' object has no attribute 'insert'"
     ]
    }
   ],
   "source": [
    "def main():\n",
    "    # date = datetime.now().strftime(\"%Y-%m-%d_%H-%M-%S\")\n",
    "    collection=create_collection()\n",
    "    print(collection)\n",
    "    \n",
    "main()"
   ]
  }
 ],
 "metadata": {
  "kernelspec": {
   "display_name": "ai",
   "language": "python",
   "name": "python3"
  },
  "language_info": {
   "codemirror_mode": {
    "name": "ipython",
    "version": 3
   },
   "file_extension": ".py",
   "mimetype": "text/x-python",
   "name": "python",
   "nbconvert_exporter": "python",
   "pygments_lexer": "ipython3",
   "version": "3.10.9"
  },
  "orig_nbformat": 4
 },
 "nbformat": 4,
 "nbformat_minor": 2
}
