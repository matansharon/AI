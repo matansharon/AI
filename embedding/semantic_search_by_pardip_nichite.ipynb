{
 "cells": [
  {
   "cell_type": "markdown",
   "metadata": {},
   "source": [
    "like to the youtube: https://www.youtube.com/watch?v=eCCHDxMaFIk&t=128s"
   ]
  },
  {
   "cell_type": "code",
   "execution_count": 12,
   "metadata": {},
   "outputs": [],
   "source": [
    "import chromadb\n",
    "import os\n",
    "from datetime import datetime\n",
    "import pandas as pd\n",
    "import numpy as np\n",
    "import matplotlib.pyplot as plt\n",
    "# import seaborn as sns\n",
    "import re\n",
    "from PyPDF2 import PdfReader\n",
    "import os\n"
   ]
  },
  {
   "cell_type": "code",
   "execution_count": 13,
   "metadata": {},
   "outputs": [],
   "source": [
    "\n",
    "def create_collection():\n",
    "    client=chromadb.Client()\n",
    "    collection = client.get_or_create_collection(name=\"test\")\n",
    "    return collection\n",
    "    \n",
    "\n"
   ]
  },
  {
   "cell_type": "code",
   "execution_count": 14,
   "metadata": {},
   "outputs": [],
   "source": [
    "#create a function that read pdf file and return the text useing PyPDF2\n",
    "def read_pdf_file(file_path):\n",
    "    from PyPDF2 import PdfReader\n",
    "    res=''\n",
    "    reader = PdfReader(file_path)\n",
    "    for page in reader.pages:\n",
    "        res+=page.extract_text()\n",
    "    return res\n",
    "    \n",
    "    \n",
    "#test the function\n"
   ]
  },
  {
   "cell_type": "code",
   "execution_count": 15,
   "metadata": {},
   "outputs": [],
   "source": [
    "#create a function that read text file and return the text\n",
    "def read_text_file(file_path):\n",
    "    with open(file_path, 'r', encoding='ISO-8859-1') as file:\n",
    "        data = file.read()\n",
    "        return data\n",
    "#test the function\n"
   ]
  },
  {
   "cell_type": "code",
   "execution_count": 22,
   "metadata": {},
   "outputs": [],
   "source": [
    "def read_files_from_folder():\n",
    "    file_data=[]\n",
    "    folder_path=os.getcwd()+\"/data\"\n",
    "    for file_name in os.listdir(folder_path):\n",
    "        if file_name.endswith('.txt'):\n",
    "            print(f\"text- {file_name}\")\n",
    "        elif file_name.endswith('.pdf'):\n",
    "            print(f'pdf- {file_name}')\n",
    "        else:\n",
    "            continue\n",
    "    return file_data"
   ]
  },
  {
   "cell_type": "code",
   "execution_count": 17,
   "metadata": {},
   "outputs": [],
   "source": [
    "def add_documents_to_collection(collection, file_data):\n",
    "    documents=[]\n",
    "    metadata=[]\n",
    "    ids=[]\n",
    "    for file in file_data:\n",
    "        collection.add(\n",
    "            documents.append(file['content']),\n",
    "            metadata.append({'file_name': file['file_name']}),\n",
    "            ids.append(file['file_name'])\n",
    "        )"
   ]
  },
  {
   "cell_type": "code",
   "execution_count": 23,
   "metadata": {},
   "outputs": [
    {
     "name": "stdout",
     "output_type": "stream",
     "text": [
      "pdf- temp.pdf\n",
      "text- temp.txt\n",
      "text- TMV MVP for DV.txt\n"
     ]
    }
   ],
   "source": [
    "def main():\n",
    "    collection = create_collection()\n",
    "    file_data = read_files_from_folder()\n",
    "    # add_documents_to_collection(collection, file_data)\n",
    "\n",
    "main()"
   ]
  }
 ],
 "metadata": {
  "kernelspec": {
   "display_name": "ai",
   "language": "python",
   "name": "python3"
  },
  "language_info": {
   "codemirror_mode": {
    "name": "ipython",
    "version": 3
   },
   "file_extension": ".py",
   "mimetype": "text/x-python",
   "name": "python",
   "nbconvert_exporter": "python",
   "pygments_lexer": "ipython3",
   "version": "3.10.9"
  },
  "orig_nbformat": 4
 },
 "nbformat": 4,
 "nbformat_minor": 2
}
