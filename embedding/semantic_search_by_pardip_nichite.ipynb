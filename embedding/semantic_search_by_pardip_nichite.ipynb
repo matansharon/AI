{
 "cells": [
  {
   "cell_type": "markdown",
   "metadata": {},
   "source": [
    "like to the youtube: https://www.youtube.com/watch?v=eCCHDxMaFIk&t=128s"
   ]
  },
  {
   "cell_type": "code",
   "execution_count": null,
   "metadata": {},
   "outputs": [],
   "source": [
    "import chromadb\n",
    "import os\n",
    "from datetime import datetime\n",
    "import pandas as pd\n",
    "import numpy as np\n",
    "import matplotlib.pyplot as plt\n",
    "# import seaborn as sns\n",
    "import re\n",
    "from PyPDF2 import PdfReader\n",
    "import os\n"
   ]
  },
  {
   "cell_type": "code",
   "execution_count": null,
   "metadata": {},
   "outputs": [],
   "source": [
    "class Data:\n",
    "    def __init__(self):\n",
    "        import chromadb\n",
    "        self.name\n",
    "        self.client=chromadb.Client()\n",
    "        self.collection=self.client.get_or_create_collection('db')\n",
    "        self.index=0\n",
    "\n",
    "    \n",
    "\n",
    "    def read_txt(self,path):\n",
    "        with open(path, 'r', encoding='ISO-8859-1') as file:\n",
    "            data = file.read()\n",
    "\n",
    "    def read_pdf(self,path):\n",
    "        from PyPDF2 import PdfReader\n",
    "        res=''\n",
    "        reader = PdfReader(path)\n",
    "        for page in reader.pages:\n",
    "            res+=page.extract_text()\n",
    "\n",
    "    def read_all_files(self,path):\n",
    "        for file in os.listdir(path):\n",
    "            if file.endswith(\".txt\"):\n",
    "                self.read_txt(path+file)\n",
    "            elif file.endswith(\".pdf\"):\n",
    "                self.read_pdf(path+file)\n",
    "            else:\n",
    "                print(\"Not a valid file format\")\n",
    "    \n",
    "    def add(self,path):\n",
    "        pass"
   ]
  },
  {
   "cell_type": "code",
   "execution_count": null,
   "metadata": {},
   "outputs": [],
   "source": []
  },
  {
   "cell_type": "code",
   "execution_count": null,
   "metadata": {},
   "outputs": [],
   "source": [
    "def main():\n",
    "    pass\n",
    "            \n",
    "\n",
    "main()"
   ]
  },
  {
   "cell_type": "code",
   "execution_count": null,
   "metadata": {},
   "outputs": [],
   "source": []
  }
 ],
 "metadata": {
  "kernelspec": {
   "display_name": "ai",
   "language": "python",
   "name": "python3"
  },
  "language_info": {
   "codemirror_mode": {
    "name": "ipython",
    "version": 3
   },
   "file_extension": ".py",
   "mimetype": "text/x-python",
   "name": "python",
   "nbconvert_exporter": "python",
   "pygments_lexer": "ipython3",
   "version": "3.10.9"
  },
  "orig_nbformat": 4
 },
 "nbformat": 4,
 "nbformat_minor": 2
}
