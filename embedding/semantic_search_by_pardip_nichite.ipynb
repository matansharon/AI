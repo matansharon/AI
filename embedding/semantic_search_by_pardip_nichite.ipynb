{
 "cells": [
  {
   "cell_type": "markdown",
   "metadata": {},
   "source": [
    "like to the youtube: https://www.youtube.com/watch?v=eCCHDxMaFIk&t=128s"
   ]
  },
  {
   "cell_type": "code",
   "execution_count": 1,
   "metadata": {},
   "outputs": [],
   "source": [
    "import chromadb\n",
    "import os\n",
    "from datetime import datetime\n",
    "import pandas as pd\n",
    "import numpy as np\n",
    "import matplotlib.pyplot as plt\n",
    "# import seaborn as sns\n",
    "import re\n",
    "from PyPDF2 import PdfReader\n",
    "import os\n"
   ]
  },
  {
   "cell_type": "code",
   "execution_count": 47,
   "metadata": {},
   "outputs": [],
   "source": [
    "class Data:\n",
    "    def __init__(self):\n",
    "        import chromadb\n",
    "        self.name\n",
    "        self.client=chromadb.Client()\n",
    "        self.collection=self.client.get_or_create_collection('db')\n",
    "        self.index=0\n",
    "\n",
    "    \n",
    "\n",
    "    def read_txt(self,path):\n",
    "        with open(path, 'r', encoding='ISO-8859-1') as file:\n",
    "            data = file.read()\n",
    "\n",
    "    def read_pdf(self,path):\n",
    "        from PyPDF2 import PdfReader\n",
    "        res=''\n",
    "        reader = PdfReader(path)\n",
    "        for page in reader.pages:\n",
    "            res+=page.extract_text()\n",
    "\n",
    "    def read_all_files(self,path):\n",
    "        for file in os.listdir(path):\n",
    "            if file.endswith(\".txt\"):\n",
    "                self.read_txt(path+file)\n",
    "            elif file.endswith(\".pdf\"):\n",
    "                self.read_pdf(path+file)\n",
    "            else:\n",
    "                print(\"Not a valid file format\")\n",
    "    \n",
    "    def add(self,path):\n",
    "        pass"
   ]
  },
  {
   "cell_type": "code",
   "execution_count": 17,
   "metadata": {},
   "outputs": [],
   "source": [
    "def add_documents_to_collection(collection, file_data):\n",
    "    documents=[]\n",
    "    metadata=[]\n",
    "    ids=[]\n",
    "    for file in file_data:\n",
    "        print(file)\n",
    "        # collection.add(\n",
    "        #     documents.append(file['content']),\n",
    "        #     metadata.append({'file_name': file['file_name']}),\n",
    "        #     ids.append(file['file_name'])\n",
    "        # )"
   ]
  },
  {
   "cell_type": "code",
   "execution_count": 6,
   "metadata": {},
   "outputs": [
    {
     "name": "stdout",
     "output_type": "stream",
     "text": [
      "environment='' chroma_db_impl=None chroma_api_impl='chromadb.api.segment.SegmentAPI' chroma_telemetry_impl='chromadb.telemetry.posthog.Posthog' chroma_sysdb_impl='chromadb.db.impl.sqlite.SqliteDB' chroma_producer_impl='chromadb.db.impl.sqlite.SqliteDB' chroma_consumer_impl='chromadb.db.impl.sqlite.SqliteDB' chroma_segment_manager_impl='chromadb.segment.impl.manager.local.LocalSegmentManager' tenant_id='default' topic_namespace='default' is_persistent=False persist_directory='./chroma' chroma_server_host=None chroma_server_headers=None chroma_server_http_port=None chroma_server_ssl_enabled=False chroma_server_grpc_port=None chroma_server_cors_allow_origins=[] chroma_server_auth_provider=None chroma_server_auth_configuration_provider=None chroma_server_auth_configuration_file=None chroma_server_auth_credentials_provider=None chroma_server_auth_credentials_file=None chroma_server_auth_credentials=None chroma_client_auth_provider=None chroma_server_auth_ignore_paths={'/api/v1': ['GET'], '/api/v1/heartbeat': ['GET'], '/api/v1/version': ['GET']} chroma_client_auth_credentials_provider='chromadb.auth.providers.ConfigurationClientAuthCredentialsProvider' chroma_client_auth_protocol_adapter='chromadb.auth.providers.RequestsClientAuthProtocolAdapter' chroma_client_auth_credentials_file=None chroma_client_auth_credentials=None chroma_client_auth_token_transport_header=None chroma_server_auth_token_transport_header=None anonymized_telemetry=True allow_reset=False migrations='apply'\n",
      "('environment', '')\n",
      "('chroma_db_impl', None)\n",
      "('chroma_api_impl', 'chromadb.api.segment.SegmentAPI')\n",
      "('chroma_telemetry_impl', 'chromadb.telemetry.posthog.Posthog')\n",
      "('chroma_sysdb_impl', 'chromadb.db.impl.sqlite.SqliteDB')\n",
      "('chroma_producer_impl', 'chromadb.db.impl.sqlite.SqliteDB')\n",
      "('chroma_consumer_impl', 'chromadb.db.impl.sqlite.SqliteDB')\n",
      "('chroma_segment_manager_impl', 'chromadb.segment.impl.manager.local.LocalSegmentManager')\n",
      "('tenant_id', 'default')\n",
      "('topic_namespace', 'default')\n",
      "('is_persistent', False)\n",
      "('persist_directory', './chroma')\n",
      "('chroma_server_host', None)\n",
      "('chroma_server_headers', None)\n",
      "('chroma_server_http_port', None)\n",
      "('chroma_server_ssl_enabled', False)\n",
      "('chroma_server_grpc_port', None)\n",
      "('chroma_server_cors_allow_origins', [])\n",
      "('chroma_server_auth_provider', None)\n",
      "('chroma_server_auth_configuration_provider', None)\n",
      "('chroma_server_auth_configuration_file', None)\n",
      "('chroma_server_auth_credentials_provider', None)\n",
      "('chroma_server_auth_credentials_file', None)\n",
      "('chroma_server_auth_credentials', None)\n",
      "('chroma_client_auth_provider', None)\n",
      "('chroma_server_auth_ignore_paths', {'/api/v1': ['GET'], '/api/v1/heartbeat': ['GET'], '/api/v1/version': ['GET']})\n",
      "('chroma_client_auth_credentials_provider', 'chromadb.auth.providers.ConfigurationClientAuthCredentialsProvider')\n",
      "('chroma_client_auth_protocol_adapter', 'chromadb.auth.providers.RequestsClientAuthProtocolAdapter')\n",
      "('chroma_client_auth_credentials_file', None)\n",
      "('chroma_client_auth_credentials', None)\n",
      "('chroma_client_auth_token_transport_header', None)\n",
      "('chroma_server_auth_token_transport_header', None)\n",
      "('anonymized_telemetry', True)\n",
      "('allow_reset', False)\n",
      "('migrations', 'apply')\n"
     ]
    }
   ],
   "source": [
    "def main():\n",
    "    pass\n",
    "            \n",
    "\n",
    "main()"
   ]
  },
  {
   "cell_type": "code",
   "execution_count": 5,
   "metadata": {},
   "outputs": [
    {
     "ename": "NameError",
     "evalue": "name 'client' is not defined",
     "output_type": "error",
     "traceback": [
      "\u001b[1;31m---------------------------------------------------------------------------\u001b[0m",
      "\u001b[1;31mNameError\u001b[0m                                 Traceback (most recent call last)",
      "Cell \u001b[1;32mIn[5], line 1\u001b[0m\n\u001b[1;32m----> 1\u001b[0m client\n",
      "\u001b[1;31mNameError\u001b[0m: name 'client' is not defined"
     ]
    }
   ],
   "source": []
  }
 ],
 "metadata": {
  "kernelspec": {
   "display_name": "ai",
   "language": "python",
   "name": "python3"
  },
  "language_info": {
   "codemirror_mode": {
    "name": "ipython",
    "version": 3
   },
   "file_extension": ".py",
   "mimetype": "text/x-python",
   "name": "python",
   "nbconvert_exporter": "python",
   "pygments_lexer": "ipython3",
   "version": "3.10.9"
  },
  "orig_nbformat": 4
 },
 "nbformat": 4,
 "nbformat_minor": 2
}
