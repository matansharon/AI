{
 "cells": [
  {
   "cell_type": "code",
   "execution_count": 2,
   "metadata": {},
   "outputs": [
    {
     "data": {
      "text/plain": [
       "[]"
      ]
     },
     "execution_count": 2,
     "metadata": {},
     "output_type": "execute_result"
    }
   ],
   "source": [
    "import chromadb\n",
    "from datetime import datetime\n",
    "client=chromadb.Client()\n",
    "client.list_collections()"
   ]
  },
  {
   "cell_type": "code",
   "execution_count": null,
   "metadata": {},
   "outputs": [],
   "source": [
    "client=chromadb.Client()\n",
    "collection=client.get_or_create_collection('db2')\n",
    "print(client.get_settings())\n",
    "for i in client.get_settings():\n",
    "    print(i)"
   ]
  },
  {
   "cell_type": "code",
   "execution_count": null,
   "metadata": {},
   "outputs": [],
   "source": [
    "current_time = datetime.now()\n",
    "\n",
    "# Format the date string to be compliant with collection name rules\n",
    "date_str = current_time.strftime(\"%Y-%m-%d_%H-%M-%S\")\n",
    "\n",
    "# Create the collection name\n",
    "name = \"db\" + date_str\n",
    "\n",
    "print(name)\n",
    "client=chromadb.Client()\n",
    "collection=client.create_collection(name)\n",
    "collection.documents"
   ]
  },
  {
   "cell_type": "code",
   "execution_count": null,
   "metadata": {},
   "outputs": [],
   "source": [
    "# collection.add(\n",
    "#     documents=['this is a document about cats', 'this is a document about dogs'],\n",
    "#     metadatas=[{'id': 'cat'}, {'id': 'dog'}],\n",
    "#     ids=['id1', 'id2']\n",
    "# )"
   ]
  },
  {
   "cell_type": "code",
   "execution_count": null,
   "metadata": {},
   "outputs": [],
   "source": [
    "# results=collection.query(\n",
    "#     query_texts='car',\n",
    "#     n_results=1\n",
    "# )\n",
    "# results"
   ]
  },
  {
   "cell_type": "code",
   "execution_count": null,
   "metadata": {},
   "outputs": [],
   "source": [
    "folder_path='F:\\python\\AI\\embedding\\docs\\\\'\n",
    "file_data=read_files_from_folder(folder_path)\n",
    "print('number of files:', len(file_data)) \n",
    "for file in file_data:\n",
    "    print(file['file_name'])\n",
    "    print(file['content'][:100])\n",
    "    print('-'*100)"
   ]
  },
  {
   "cell_type": "code",
   "execution_count": null,
   "metadata": {},
   "outputs": [],
   "source": [
    "# #write a query to search for a document\n",
    "# query='cat'\n",
    "# results=collection.query(\n",
    "#     query_texts=query,\n",
    "#     n_results=1\n",
    "# )\n",
    "# results"
   ]
  },
  {
   "cell_type": "code",
   "execution_count": null,
   "metadata": {},
   "outputs": [],
   "source": [
    "from sentence_transformers import SentenceTransformer\n",
    "sentences = [\"This is an example sentence\", \"Each sentence is converted\"]\n",
    "\n",
    "model = SentenceTransformer('sentence-transformers/all-mpnet-base-v2')\n",
    "embeddings = model.encode(sentences)\n",
    "print(embeddings)\n"
   ]
  },
  {
   "cell_type": "code",
   "execution_count": null,
   "metadata": {},
   "outputs": [],
   "source": [
    "\n",
    "def create_collection():\n",
    "    client=chromadb.Client()\n",
    "    collection = client.get_or_create_collection(name=\"test\")\n",
    "    return collection"
   ]
  },
  {
   "cell_type": "code",
   "execution_count": null,
   "metadata": {},
   "outputs": [],
   "source": [
    "#create a function that read text file and return the text\n",
    "def read_text_file(file_path):\n",
    "    with open(file_path, 'r', encoding='ISO-8859-1') as file:\n",
    "        data = file.read()\n",
    "        return data\n",
    "#test the function\n"
   ]
  },
  {
   "cell_type": "code",
   "execution_count": null,
   "metadata": {},
   "outputs": [],
   "source": [
    "#create a function that read pdf file and return the text useing PyPDF2\n",
    "def read_pdf_file(file_path):\n",
    "    from PyPDF2 import PdfReader\n",
    "    res=''\n",
    "    reader = PdfReader(file_path)\n",
    "    for page in reader.pages:\n",
    "        res+=page.extract_text()\n",
    "    return res\n",
    "    \n",
    "    \n",
    "#test the function"
   ]
  },
  {
   "cell_type": "code",
   "execution_count": null,
   "metadata": {},
   "outputs": [],
   "source": [
    "def read_files_from_folder():\n",
    "    file_data={}\n",
    "    folder_path=os.getcwd()+\"/data\"\n",
    "    index=0\n",
    "    \n",
    "    for file_name in os.listdir(folder_path):\n",
    "        if file_name not in file_data:\n",
    "            if file_name.endswith('.txt'):\n",
    "                \n",
    "                file_data[file_name]={'id':index,'name':file_name,'content':read_text_file(folder_path+'\\\\'+file_name)}\n",
    "                file_data[file_name]['length']=len(file_data[file_name]['content'])\n",
    "            elif file_name.endswith('.pdf'):\n",
    "                \n",
    "                file_data[file_name]={'id':index,'name':file_name,'content':read_text_file(folder_path+'\\\\'+file_name)}\n",
    "                file_data[file_name]['length']=len(file_data[file_name]['content'])\n",
    "            else:\n",
    "                continue\n",
    "    file_data['num_of_files']=index\n",
    "    return file_data"
   ]
  },
  {
   "cell_type": "code",
   "execution_count": null,
   "metadata": {},
   "outputs": [],
   "source": []
  }
 ],
 "metadata": {
  "kernelspec": {
   "display_name": "ai",
   "language": "python",
   "name": "python3"
  },
  "language_info": {
   "codemirror_mode": {
    "name": "ipython",
    "version": 3
   },
   "file_extension": ".py",
   "mimetype": "text/x-python",
   "name": "python",
   "nbconvert_exporter": "python",
   "pygments_lexer": "ipython3",
   "version": "3.10.9"
  },
  "orig_nbformat": 4
 },
 "nbformat": 4,
 "nbformat_minor": 2
}
