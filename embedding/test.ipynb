{
 "cells": [
  {
   "cell_type": "code",
   "execution_count": 2,
   "metadata": {},
   "outputs": [
    {
     "data": {
      "text/plain": [
       "[]"
      ]
     },
     "execution_count": 2,
     "metadata": {},
     "output_type": "execute_result"
    }
   ],
   "source": [
    "import chromadb\n",
    "from datetime import datetime\n",
    "client=chromadb.Client()\n",
    "client.list_collections()"
   ]
  },
  {
   "cell_type": "code",
   "execution_count": null,
   "metadata": {},
   "outputs": [],
   "source": [
    "client=chromadb.Client()\n",
    "collection=client.get_or_create_collection('db2')\n",
    "print(client.get_settings())\n",
    "for i in client.get_settings():\n",
    "    print(i)"
   ]
  },
  {
   "cell_type": "code",
   "execution_count": null,
   "metadata": {},
   "outputs": [],
   "source": [
    "current_time = datetime.now()\n",
    "\n",
    "# Format the date string to be compliant with collection name rules\n",
    "date_str = current_time.strftime(\"%Y-%m-%d_%H-%M-%S\")\n",
    "\n",
    "# Create the collection name\n",
    "name = \"db\" + date_str\n",
    "\n",
    "print(name)\n",
    "client=chromadb.Client()\n",
    "collection=client.create_collection(name)\n",
    "collection.documents"
   ]
  },
  {
   "cell_type": "code",
   "execution_count": null,
   "metadata": {},
   "outputs": [],
   "source": [
    "# collection.add(\n",
    "#     documents=['this is a document about cats', 'this is a document about dogs'],\n",
    "#     metadatas=[{'id': 'cat'}, {'id': 'dog'}],\n",
    "#     ids=['id1', 'id2']\n",
    "# )"
   ]
  },
  {
   "cell_type": "code",
   "execution_count": null,
   "metadata": {},
   "outputs": [],
   "source": [
    "# results=collection.query(\n",
    "#     query_texts='car',\n",
    "#     n_results=1\n",
    "# )\n",
    "# results"
   ]
  },
  {
   "cell_type": "code",
   "execution_count": null,
   "metadata": {},
   "outputs": [],
   "source": [
    "folder_path='F:\\python\\AI\\embedding\\docs\\\\'\n",
    "file_data=read_files_from_folder(folder_path)\n",
    "print('number of files:', len(file_data)) \n",
    "for file in file_data:\n",
    "    print(file['file_name'])\n",
    "    print(file['content'][:100])\n",
    "    print('-'*100)"
   ]
  },
  {
   "cell_type": "code",
   "execution_count": null,
   "metadata": {},
   "outputs": [],
   "source": [
    "# #write a query to search for a document\n",
    "# query='cat'\n",
    "# results=collection.query(\n",
    "#     query_texts=query,\n",
    "#     n_results=1\n",
    "# )\n",
    "# results"
   ]
  },
  {
   "cell_type": "code",
   "execution_count": null,
   "metadata": {},
   "outputs": [],
   "source": [
    "from sentence_transformers import SentenceTransformer\n",
    "sentences = [\"This is an example sentence\", \"Each sentence is converted\"]\n",
    "\n",
    "model = SentenceTransformer('sentence-transformers/all-mpnet-base-v2')\n",
    "embeddings = model.encode(sentences)\n",
    "print(embeddings)\n"
   ]
  },
  {
   "cell_type": "code",
   "execution_count": null,
   "metadata": {},
   "outputs": [],
   "source": [
    "\n",
    "def create_collection():\n",
    "    client=chromadb.Client()\n",
    "    collection = client.get_or_create_collection(name=\"test\")\n",
    "    return collection"
   ]
  },
  {
   "cell_type": "code",
   "execution_count": 5,
   "metadata": {},
   "outputs": [],
   "source": [
    "#create a function that read text file and return the text\n",
    "def read_text_file(file_path):\n",
    "    \n",
    "    with open(file_path, 'r', encoding='ISO-8859-1') as file:\n",
    "        data = file.read()\n",
    "    return {'file_name':file_path.split('\\\\')[-1], 'content':data}\n",
    "#test the function\n"
   ]
  },
  {
   "cell_type": "code",
   "execution_count": 6,
   "metadata": {},
   "outputs": [
    {
     "data": {
      "text/plain": [
       "{'file_name': 'TMV MVP for DV.txt',\n",
       " 'content': '1. General\\n1.1. Project Name: \\n1.2. Project ID#: PRS-0003\\nProject Description: The GNTP Injector Pen is an electro-mechanical reusable auto-injector (AI) pen for use with GNTP drug for subcutaneous injection.\\nThe product elements include a reusable injection device and a disposable cartridge.\\n2. Purpose\\n2.1. This Test Method Validation Master Plan (TM VMP) serves as a summary of the overall strategy and outlines the validation activities to establish TM used in Genotropin Injector pen Device test plan\\n\\n3. Scope\\nThis VMP will cover the overall strategy for the validation activities to be performed by E3D to establish TM used in the device test plan for the following products:\\n\\nName\\nCAT\\nFrenly Device\\n391773\\nGH COACH Device\\n391774\\n\\n\\n4. Responsibilities\\n4.1. The table below defines the relevant functions involved in the method validation process and the activities they responsible for:\\n\\nFunction\\nResponsibility\\nE3D Manufacturing Engineer\\n* Develop the test method and create the plans, protocols and reports\\n* E3D Quality Engineer\\n* Review and approval of plans, protocols and reports\\nTesting department employees\\n* Perform the tests and document the results\\n* Customer\\n* According to DDP plan\\n* Hermon Laboratories\\n* Execute EMC tests according to IEC 60601\\n5. References\\n5.1. Documents:\\nDescription\\nDocument ID\\nRevision\\n* Test Method Validation - TMV\\n* SOP 7-04-02\\n* 2\\n* PRS-0003-Genotropin Injector pen - Device Test Plan\\n* Doc-284065\\n* 1\\n\\n6. Terms, Acronyms and Definitions\\nAcronyms\\nDefinitions\\nE3D\\nElcam Drug Delivery Device\\nGNTP\\nGenotropin drug product\\nNHF\\nNeedle Hiding Feature\\nPRD\\nProduct Requirement Document\\nPRS\\nSystem Project\\nQE\\nQuality Engineer\\nTM\\nTest Method\\nTMV\\nTest Method Validation\\n7. Validation Strategy \\n7.1. Elementary and Self-Evident Test Methods do not require a TMV\\n7.2. For standard test methods (tests based on scientific principles and are included in recognized standard) a test method validation is not required. \\n7.3. All PRD requirements concerning software (e.g. visual/audio checks) test method validations are not required as these will be validated as part of the software validation\\n7.4. For non-standard methods, laboratory-developed methods and standard methods used outside of the supplier scope that are not covered by sections? 5.1- ?5.3, a Test method validation will be performed (see list below).\\n7.5. Minor changes may be addressed by the project team and summarized in the validation report. Deviations/changes from the plan that require a change in the validation strategy and or plan will be communicated and agreed upon with the customer.\\n\\n7.6. List of tests:\\nItem\\nTest name\\nTM SOP+Revision (if applicable)\\nTest performed by: (specify location+ site + department)\\nTMV required?\\n(If no, justify)\\nRemarks\\n1. \\nTraining parts\\n8.1\\nE3D R&D, Elcam Laboratory\\nNo\\nElementary /Self-Evident TM\\n2. \\nDose Accuracy Test \\n8.3, 8.6, 8.16\\n1) E3D R&D, Elcam Laboratory\\n2) Hermon labs \\nYes\\n2 validations are required- 1 per location\\n3. \\nSensors\\n8.4\\nE3D R&D, Elcam Laboratory\\nNo\\nElementary /Self-Evident TM\\n4. \\nBattery Performance\\n8.5\\nE3D R&D, Elcam Laboratory\\nNo\\nElementary /Self-Evident TM\\n5. \\nNHF Maximum Retraction Force\\n8.9\\nE3D R&D, Elcam Laboratory\\nYes\\nN/A\\n6. \\nNHF Minimum Retraction Force\\n8.18\\nE3D R&D, Elcam Laboratory\\nYes\\nN/A\\n7. \\nInjection Force\\n8.14\\nE3D R&D, Elcam Laboratory\\nYes\\nN/A\\n8. \\nDoor Closing Force\\n8.8\\nE3D R&D, Elcam Laboratory\\nYes\\nN/A\\n9. \\nDoor Pulling Force\\n8.12\\nE3D R&D, Elcam Laboratory\\nYes\\nN/A\\n10. \\nCartridge Removal Force \\n8.13\\nE3D R&D, Elcam Laboratory\\nNo\\nA rational will be written\\n11. \\nCartridge Insertion Force \\n8.13\\nE3D R&D, Elcam Laboratory\\nNo\\nA rational will be written\\n12. \\nMechanical Buttons Force\\n8.11\\n1) E3D R&D, Elcam Laboratory\\n2) Hermon\\nYes\\n2 validations are required- Hermon TMV for injection button only\\n13. \\nNHF Pulling Force\\n8.10\\nE3D R&D, Elcam Laboratory\\nNo\\nA rational will be written\\n14. \\nInjection Time\\n8.7\\nE3D R&D, Elcam Laboratory\\nYes\\nN/A\\n15. \\nCartridge Temperature\\n8.2\\nE3D R&D, Elcam Laboratory\\nNo\\nA rational will be written\\n16. \\nAccelerometer\\n8.15\\nE3D R&D, Elcam Laboratory\\nNo\\nElementary /Self-Evident TM\\n17. \\nFridge Storage Case Lifetime\\n8.19\\nE3D R&D, Elcam Laboratory\\nYes\\nN/A\\n18. \\nCartridge Compatibility\\n8.17\\nE3D R&D, Elcam Laboratory\\nNo\\nDimension and tolerance analysis\\n19. \\nTorque to attach needle between 0.06Nm to 0.08Nm\\nPRD-1429\\n\\nHermon Lab \\nYes\\nnot accredited with ISO-11608-2,5), External Lab responsibility\\n20. \\nTorque to remove needle up to 0.1Nm\\nPRD-1430\\n\\nHermon Lab \\nYes\\nnot accredited with ISO-11608-2,5), External Lab responsibility\\n21. \\nDose Accuracy Test (ISO 11608-2)\\nPRD-1417\\nHermon Lab \\nYes\\nnot accredited with ISO-11608-2,5), External Lab responsibility\\n22. \\nNHF requirements according to the standard (ISO 11608-5, 5.6)\\nPRD-1431\\nHermon Lab \\nNo\\nnot accredited with ISO-11608-2,5), Elementary test method\\n\\n7.7. Final validation report will include a summery of the validations performed from the plan, results, deviations, and a final conclusion.  \\n\\n8. Version Management\\nVersion Number\\nDescription of the Change\\nUpdated by\\nDate of update\\n1\\nNew\\nTal Millar\\n31/08/2023\\n\\n9. Approvals\\nSignature\\nDate\\nName\\nPosition\\n\\n31/08/2023\\nTal Millar\\nProduct Engineer / Manufacturing Engineer\\n\\n\\n\\nR&D Manager /Manufacturing Engineering Manager\\n\\n\\n\\nQA Manager/engineer\\n-End of Document-\\n\\n\\n\\n\\n\\nSOP#\\n7-04-02 \\nAppendix#\\n3\\nAppendix Rev\\n1\\nValid from\\n31/08/2023\\n\\nAppendix status\\nRelease\\n   \\n\\nProject name\\nDocument Owner\\n\\tR&D\\n\\nGenotropin Injector pen\\nDocument status\\nReleased\\n\\n\\nWritten by\\nTal Millar\\n\\nTitle\\nRevision\\n\\t\\t1\\n\\nTest Method Validation (TMV) protocol    - E3D\\nRelease Date\\n\\t\\t-\\n\\n\\nDocument#\\nDoc-289273\\n\\nProject ID\\n0003\\nWork Report Code\\n\\t\\t80195\\nBudget code#\\n02402\\nPage 2 of  2\\n\\n\\n\\n\\n'}"
      ]
     },
     "execution_count": 6,
     "metadata": {},
     "output_type": "execute_result"
    }
   ],
   "source": [
    "read_text_file('F:\\python\\AI\\embedding\\data\\TMV MVP for DV.txt')"
   ]
  },
  {
   "cell_type": "code",
   "execution_count": 14,
   "metadata": {},
   "outputs": [],
   "source": [
    "#create a function that read pdf file and return the text useing PyPDF2\n",
    "def read_pdf(file_path):\n",
    "    from PyPDF2 import PdfReader\n",
    "    data=''\n",
    "    reader = PdfReader(file_path)\n",
    "    for page in reader.pages:\n",
    "        data+=page.extract_text()\n",
    "    return {'file_name':file_path.split('/')[-1], 'content':data}\n",
    "    \n",
    "    \n",
    "#test the function"
   ]
  },
  {
   "cell_type": "code",
   "execution_count": 10,
   "metadata": {},
   "outputs": [
    {
     "name": "stdout",
     "output_type": "stream",
     "text": [
      "f:\\python\\AI\\embedding\\temp.pdf\n",
      "f:\\python\\AI\\embedding\\temp.txt\n",
      "f:\\python\\AI\\embedding\\TMV MVP for DV.txt\n"
     ]
    }
   ],
   "source": [
    "import os\n",
    "def read_all_files(path=os.getcwd()):\n",
    "    \n",
    "    for file in os.listdir(path+'\\\\data'):\n",
    "        print(path+'\\\\'+file)\n",
    "        # if file.endswith(\".txt\"):\n",
    "        #     self.read_txt(path+file)\n",
    "        # elif file.endswith(\".pdf\"):\n",
    "        #     self.read_pdf(path+file)\n",
    "        # else:\n",
    "        #     print(\"Not a valid file format\")\n",
    "            \n",
    "read_all_files()"
   ]
  },
  {
   "cell_type": "code",
   "execution_count": null,
   "metadata": {},
   "outputs": [],
   "source": []
  },
  {
   "cell_type": "code",
   "execution_count": null,
   "metadata": {},
   "outputs": [],
   "source": [
    "def read_files_from_folder():\n",
    "    file_data={}\n",
    "    folder_path=os.getcwd()+\"/data\"\n",
    "    index=0\n",
    "    \n",
    "    for file_name in os.listdir(folder_path):\n",
    "        if file_name not in file_data:\n",
    "            if file_name.endswith('.txt'):\n",
    "                \n",
    "                file_data[file_name]={'id':index,'name':file_name,'content':read_text_file(folder_path+'\\\\'+file_name)}\n",
    "                file_data[file_name]['length']=len(file_data[file_name]['content'])\n",
    "            elif file_name.endswith('.pdf'):\n",
    "                \n",
    "                file_data[file_name]={'id':index,'name':file_name,'content':read_text_file(folder_path+'\\\\'+file_name)}\n",
    "                file_data[file_name]['length']=len(file_data[file_name]['content'])\n",
    "            else:\n",
    "                continue\n",
    "    file_data['num_of_files']=index\n",
    "    return file_data"
   ]
  },
  {
   "cell_type": "code",
   "execution_count": null,
   "metadata": {},
   "outputs": [],
   "source": [
    "def add_documents_to_collection(collection, file_data):\n",
    "    documents=[]\n",
    "    metadata=[]\n",
    "    ids=[]\n",
    "    for file in file_data:\n",
    "        print(file)\n",
    "        # collection.add(\n",
    "        #     documents.append(file['content']),\n",
    "        #     metadata.append({'file_name': file['file_name']}),\n",
    "        #     ids.append(file['file_name'])\n",
    "        # )"
   ]
  },
  {
   "cell_type": "code",
   "execution_count": 5,
   "metadata": {},
   "outputs": [
    {
     "data": {
      "text/plain": [
       "['temp.pdf', 'temp.txt', 'TMV MVP for DV.txt']"
      ]
     },
     "execution_count": 5,
     "metadata": {},
     "output_type": "execute_result"
    }
   ],
   "source": [
    "import os\n",
    "path=os.getcwd()+'/data'\n",
    "path=path.replace('\\\\','/')\n",
    "os.listdir(path)"
   ]
  },
  {
   "cell_type": "code",
   "execution_count": 22,
   "metadata": {},
   "outputs": [
    {
     "name": "stdout",
     "output_type": "stream",
     "text": [
      "temp.pdf temp.txt TMV MVP for DV.txt\n"
     ]
    }
   ],
   "source": [
    "def get_all_files_names(path):\n",
    "    files=[]\n",
    "    for file in os.listdir(path):\n",
    "        files.append(file)\n",
    "    return files\n",
    "t=get_all_files_names('F:/python/AI/embedding/data')\n",
    "print(*t)"
   ]
  },
  {
   "cell_type": "code",
   "execution_count": 27,
   "metadata": {},
   "outputs": [
    {
     "name": "stdout",
     "output_type": "stream",
     "text": [
      "106\n"
     ]
    }
   ],
   "source": [
    "import os\n",
    "path='F:\\python\\AI'\n",
    "path=path.replace('\\\\', '/')\n",
    "list_of_all=os.listdir(path)\n",
    "# print(list_of_all)\n",
    "res=[]\n",
    "for i in list_of_all:\n",
    "    \n",
    "    if os.path.isfile(path+'/'+i):\n",
    "        res.append(i)\n",
    "    if os.path.isdir(path+'/'+i):\n",
    "        files=get_all_files_names(path+'/'+i)\n",
    "        for i in files:\n",
    "            res.append(i)\n",
    "\n",
    "print(len(res))"
   ]
  }
 ],
 "metadata": {
  "kernelspec": {
   "display_name": "ai",
   "language": "python",
   "name": "python3"
  },
  "language_info": {
   "codemirror_mode": {
    "name": "ipython",
    "version": 3
   },
   "file_extension": ".py",
   "mimetype": "text/x-python",
   "name": "python",
   "nbconvert_exporter": "python",
   "pygments_lexer": "ipython3",
   "version": "3.10.9"
  },
  "orig_nbformat": 4
 },
 "nbformat": 4,
 "nbformat_minor": 2
}
