{
 "cells": [
  {
   "cell_type": "code",
   "execution_count": 12,
   "metadata": {},
   "outputs": [],
   "source": [
    "import chromadb\n",
    "from datetime import datetime"
   ]
  },
  {
   "cell_type": "code",
   "execution_count": 11,
   "metadata": {},
   "outputs": [
    {
     "name": "stdout",
     "output_type": "stream",
     "text": [
      "db2023-09-05_13-54-10\n"
     ]
    }
   ],
   "source": [
    "\n",
    "\n",
    "# Get current date and time\n",
    "\n",
    "\n",
    "# Now you can proceed to create the collection\n",
    "# client = chromadb.Client()\n",
    "# collection = client.create_collection(name)\n",
    "\n"
   ]
  },
  {
   "cell_type": "code",
   "execution_count": 16,
   "metadata": {},
   "outputs": [
    {
     "name": "stdout",
     "output_type": "stream",
     "text": [
      "db2023-09-05_15-38-58\n"
     ]
    },
    {
     "ename": "AttributeError",
     "evalue": "'Collection' object has no attribute 'documents'",
     "output_type": "error",
     "traceback": [
      "\u001b[1;31m---------------------------------------------------------------------------\u001b[0m",
      "\u001b[1;31mAttributeError\u001b[0m                            Traceback (most recent call last)",
      "Cell \u001b[1;32mIn[16], line 12\u001b[0m\n\u001b[0;32m     10\u001b[0m client\u001b[39m=\u001b[39mchromadb\u001b[39m.\u001b[39mClient()\n\u001b[0;32m     11\u001b[0m collection\u001b[39m=\u001b[39mclient\u001b[39m.\u001b[39mcreate_collection(name)\n\u001b[1;32m---> 12\u001b[0m collection\u001b[39m.\u001b[39;49mdocuments\n",
      "\u001b[1;31mAttributeError\u001b[0m: 'Collection' object has no attribute 'documents'"
     ]
    }
   ],
   "source": [
    "current_time = datetime.now()\n",
    "\n",
    "# Format the date string to be compliant with collection name rules\n",
    "date_str = current_time.strftime(\"%Y-%m-%d_%H-%M-%S\")\n",
    "\n",
    "# Create the collection name\n",
    "name = \"db\" + date_str\n",
    "\n",
    "print(name)\n",
    "client=chromadb.Client()\n",
    "collection=client.create_collection(name)\n",
    "collection.documents"
   ]
  },
  {
   "cell_type": "code",
   "execution_count": null,
   "metadata": {},
   "outputs": [],
   "source": [
    "# collection.add(\n",
    "#     documents=['this is a document about cats', 'this is a document about dogs'],\n",
    "#     metadatas=[{'id': 'cat'}, {'id': 'dog'}],\n",
    "#     ids=['id1', 'id2']\n",
    "# )"
   ]
  },
  {
   "cell_type": "code",
   "execution_count": null,
   "metadata": {},
   "outputs": [],
   "source": [
    "# results=collection.query(\n",
    "#     query_texts='car',\n",
    "#     n_results=1\n",
    "# )\n",
    "# results"
   ]
  },
  {
   "cell_type": "code",
   "execution_count": null,
   "metadata": {},
   "outputs": [],
   "source": [
    "folder_path='F:\\python\\AI\\embedding\\docs\\\\'\n",
    "file_data=read_files_from_folder(folder_path)\n",
    "print('number of files:', len(file_data)) \n",
    "for file in file_data:\n",
    "    print(file['file_name'])\n",
    "    print(file['content'][:100])\n",
    "    print('-'*100)"
   ]
  },
  {
   "cell_type": "code",
   "execution_count": null,
   "metadata": {},
   "outputs": [],
   "source": [
    "# #write a query to search for a document\n",
    "# query='cat'\n",
    "# results=collection.query(\n",
    "#     query_texts=query,\n",
    "#     n_results=1\n",
    "# )\n",
    "# results"
   ]
  }
 ],
 "metadata": {
  "kernelspec": {
   "display_name": "ai",
   "language": "python",
   "name": "python3"
  },
  "language_info": {
   "codemirror_mode": {
    "name": "ipython",
    "version": 3
   },
   "file_extension": ".py",
   "mimetype": "text/x-python",
   "name": "python",
   "nbconvert_exporter": "python",
   "pygments_lexer": "ipython3",
   "version": "3.10.9"
  },
  "orig_nbformat": 4
 },
 "nbformat": 4,
 "nbformat_minor": 2
}
