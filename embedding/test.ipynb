{
 "cells": [
  {
   "cell_type": "code",
   "execution_count": null,
   "metadata": {},
   "outputs": [],
   "source": [
    "# collection.add(\n",
    "#     documents=['this is a document about cats', 'this is a document about dogs'],\n",
    "#     metadatas=[{'id': 'cat'}, {'id': 'dog'}],\n",
    "#     ids=['id1', 'id2']\n",
    "# )"
   ]
  },
  {
   "cell_type": "code",
   "execution_count": null,
   "metadata": {},
   "outputs": [],
   "source": [
    "# results=collection.query(\n",
    "#     query_texts='car',\n",
    "#     n_results=1\n",
    "# )\n",
    "# results"
   ]
  },
  {
   "cell_type": "code",
   "execution_count": null,
   "metadata": {},
   "outputs": [],
   "source": [
    "folder_path='F:\\python\\AI\\embedding\\docs\\\\'\n",
    "file_data=read_files_from_folder(folder_path)\n",
    "print('number of files:', len(file_data)) \n",
    "for file in file_data:\n",
    "    print(file['file_name'])\n",
    "    print(file['content'][:100])\n",
    "    print('-'*100)"
   ]
  },
  {
   "cell_type": "code",
   "execution_count": null,
   "metadata": {},
   "outputs": [],
   "source": [
    "# #write a query to search for a document\n",
    "# query='cat'\n",
    "# results=collection.query(\n",
    "#     query_texts=query,\n",
    "#     n_results=1\n",
    "# )\n",
    "# results"
   ]
  }
 ],
 "metadata": {
  "kernelspec": {
   "display_name": "ai",
   "language": "python",
   "name": "python3"
  },
  "language_info": {
   "codemirror_mode": {
    "name": "ipython",
    "version": 3
   },
   "file_extension": ".py",
   "mimetype": "text/x-python",
   "name": "python",
   "nbconvert_exporter": "python",
   "pygments_lexer": "ipython3",
   "version": "3.10.9"
  },
  "orig_nbformat": 4
 },
 "nbformat": 4,
 "nbformat_minor": 2
}
