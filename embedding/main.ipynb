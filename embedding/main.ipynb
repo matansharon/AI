{
 "cells": [
  {
   "cell_type": "code",
   "execution_count": 33,
   "metadata": {},
   "outputs": [],
   "source": [
    "# from langchain.vectorstores import Chroma\n",
    "# from langchain.text_splitter import RecursiveCharacterTextSplitter\n",
    "# from langchain.llms import OpenAI\n",
    "# from langchain.chains import RetrievalQA\n",
    "# from langchain.document_loaders import PyPDFLoader\n",
    "# from langchain.document_loaders import DirectoryLoader\n",
    "# from langchain.document_loaders import TextFileLoader"
   ]
  },
  {
   "cell_type": "code",
   "execution_count": 3,
   "metadata": {},
   "outputs": [
    {
     "name": "stderr",
     "output_type": "stream",
     "text": [
      "c:\\Users\\matan.s\\AppData\\Local\\anaconda3\\envs\\emb\\lib\\site-packages\\InstructorEmbedding\\instructor.py:7: TqdmExperimentalWarning: Using `tqdm.autonotebook.tqdm` in notebook mode. Use `tqdm.tqdm` instead to force console mode (e.g. in jupyter console)\n",
      "  from tqdm.autonotebook import trange\n"
     ]
    }
   ],
   "source": [
    "# # InstructorEmbedding \n",
    "# from InstructorEmbedding import INSTRUCTOR\n",
    "# from langchain.embeddings import HuggingFaceInstructEmbeddings"
   ]
  },
  {
   "cell_type": "code",
   "execution_count": 4,
   "metadata": {},
   "outputs": [],
   "source": [
    "# from langchain.embeddings import OpenAIEmbeddings"
   ]
  },
  {
   "cell_type": "code",
   "execution_count": 26,
   "metadata": {},
   "outputs": [
    {
     "ename": "TypeError",
     "evalue": "'str' object does not support item assignment",
     "output_type": "error",
     "traceback": [
      "\u001b[1;31m---------------------------------------------------------------------------\u001b[0m",
      "\u001b[1;31mTypeError\u001b[0m                                 Traceback (most recent call last)",
      "Cell \u001b[1;32mIn[26], line 4\u001b[0m\n\u001b[0;32m      2\u001b[0m \u001b[39mimport\u001b[39;00m \u001b[39mPyPDF2\u001b[39;00m \n\u001b[0;32m      3\u001b[0m file \u001b[39m=\u001b[39m PyPDF2\u001b[39m.\u001b[39mPdfReader(\u001b[39m\"\u001b[39m\u001b[39mdocs/temp.pdf\u001b[39m\u001b[39m\"\u001b[39m)\n\u001b[1;32m----> 4\u001b[0m file\u001b[39m.\u001b[39;49mpages[\u001b[39m0\u001b[39;49m]\u001b[39m.\u001b[39;49mextract_text()[:\u001b[39m11\u001b[39;49m]\u001b[39m=\u001b[39m \u001b[39m\"\u001b[39m\u001b[39mHello World\u001b[39m\u001b[39m\"\u001b[39m\n\u001b[0;32m      5\u001b[0m file\u001b[39m.\u001b[39mpages[\u001b[39m0\u001b[39m]\u001b[39m.\u001b[39mextract_text()\n",
      "\u001b[1;31mTypeError\u001b[0m: 'str' object does not support item assignment"
     ]
    }
   ],
   "source": [
    "from langchain.document_loaders import PyPDFLoader\n",
    "import PyPDF2 \n",
    "file = PyPDF2.PdfReader(\"docs/temp.pdf\")\n",
    "file.pages[0].extract_text()[:11]= \"Hello World\"\n",
    "file.pages[0].extract_text()"
   ]
  },
  {
   "cell_type": "code",
   "execution_count": 30,
   "metadata": {},
   "outputs": [
    {
     "data": {
      "text/plain": [
       "['Approaching (Almost) Any Machine Learning Problem – Abhishek Thakur \\n 3 Before you start, there are a few things that you must be aware of while going through this book.   This is not a traditional book.  The book expects you to have basic knowledge of machine learning and deep learning.   Important terms are bold.   Variable names and function/class names are italic.   ═════════════════════════════════════════════════════════════════════════ All the code is between these two lines ═════════════════════════════════════════════════════════════════════════  Most of the times, the output is provided right after the code blocks.  Figures are locally defined. For example, figure 1 is the first figure   Code is very important in this book and there is a lot of it. You must go through the code carefully and implement it on your own if you want to understand what’s going on.  Comments in Python begin with a hash (#). All the code in this book is explained line-by-line only using comments. Thus, these comments must not be ignored.  Bash commands start with $ or ❯.  If you find a pirated copy of this book (print or e-book or pdf), contact me directly with the details so that I can take necessary actions.       If you didn’t code, you didn’t learn.']"
      ]
     },
     "execution_count": 30,
     "metadata": {},
     "output_type": "execute_result"
    }
   ],
   "source": [
    "p=pages[2]\n",
    "from langchain.text_splitter import CharacterTextSplitter\n",
    "text_splitter = CharacterTextSplitter.from_tiktoken_encoder(\n",
    "    chunk_size=100, chunk_overlap=0\n",
    ")\n",
    "texts = text_splitter.split_text(p.page_content)\n",
    "texts\n"
   ]
  }
 ],
 "metadata": {
  "kernelspec": {
   "display_name": "ai",
   "language": "python",
   "name": "python3"
  },
  "language_info": {
   "codemirror_mode": {
    "name": "ipython",
    "version": 3
   },
   "file_extension": ".py",
   "mimetype": "text/x-python",
   "name": "python",
   "nbconvert_exporter": "python",
   "pygments_lexer": "ipython3",
   "version": "3.10.9"
  },
  "orig_nbformat": 4
 },
 "nbformat": 4,
 "nbformat_minor": 2
}
