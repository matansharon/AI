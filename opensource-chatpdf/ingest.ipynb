{
 "cells": [
  {
   "cell_type": "code",
   "execution_count": 1,
   "metadata": {},
   "outputs": [],
   "source": [
    "import os\n",
    "\n",
    "from chromadb.config import Settings\n",
    "from dotenv import load_dotenv\n",
    "from langchain.document_loaders import (\n",
    "    DirectoryLoader,\n",
    "    PyPDFLoader,\n",
    "    TextLoader,\n",
    "    UnstructuredMarkdownLoader,\n",
    ")\n",
    "from langchain.embeddings import HuggingFaceEmbeddings\n",
    "from langchain.text_splitter import RecursiveCharacterTextSplitter\n",
    "from langchain.vectorstores import Chroma"
   ]
  },
  {
   "cell_type": "code",
   "execution_count": null,
   "metadata": {},
   "outputs": [],
   "source": [
    "\n",
    "\n",
    "# Load environment variables from .env file\n",
    "load_dotenv()\n",
    "\n",
    "HUGGINGFACEHUB_API_TOKEN = os.getenv(\"HUGGINGFACEHUB_API_TOKEN\")\n",
    "\n",
    "DB_CHROMA_PATH = \"./../vectorstore/db_chroma\"\n",
    "DATA_DIR = \"./../data\""
   ]
  },
  {
   "cell_type": "code",
   "execution_count": 2,
   "metadata": {},
   "outputs": [],
   "source": [
    "\n",
    "\n",
    "\n",
    "# Create vector database\n",
    "def create_vector_database():\n",
    "    \"\"\"\n",
    "    Creates a vector database using document loaders and embeddings.\n",
    "\n",
    "    This function loads data from PDF, markdown and text files in the 'data/' directory,\n",
    "    splits the loaded documents into chunks, transforms them into embeddings using HuggingFace,\n",
    "    and finally persists the embeddings into a Chroma vector database.\n",
    "\n",
    "    \"\"\"\n",
    "    # Initialize loaders for different file types\n",
    "    \"\"\" pdf_loader = DirectoryLoader(DATA_DIR, glob=\"**/*.pdf\", loader_cls=PyPDFLoader)\n",
    "    markdown_loader = DirectoryLoader(\n",
    "        DATA_DIR, glob=\"**/*.md\", loader_cls=UnstructuredMarkdownLoader\n",
    "    )\n",
    "    text_loader = DirectoryLoader(DATA_DIR, glob=\"**/*.txt\", loader_cls=TextLoader)\n",
    "\n",
    "    all_loaders = [pdf_loader, markdown_loader, text_loader]\n",
    "\n",
    "    # Load documents from all loaders\n",
    "    loaded_documents = []\n",
    "    for loader in all_loaders:\n",
    "        loaded_documents.extend(loader.load()) \"\"\"\n",
    "\n",
    "    text_loader = DirectoryLoader(DATA_DIR, glob=\"**/*.txt\", loader_cls=TextLoader)\n",
    "    loaded_documents = text_loader.load()\n",
    "\n",
    "    # len(loaded_documents)\n",
    "    # loaded_documents[0]\n",
    "\n",
    "    # Split loaded documents into chunks\n",
    "    text_splitter = RecursiveCharacterTextSplitter(chunk_size=1000, chunk_overlap=100)\n",
    "    chunked_documents = text_splitter.split_documents(loaded_documents)\n",
    "\n",
    "    # len(chunked_documents)\n",
    "\n",
    "    # Initialize HuggingFace embeddings\n",
    "    huggingface_embeddings = HuggingFaceEmbeddings(\n",
    "        model_name=\"sentence-transformers/all-MiniLM-L6-v2\",\n",
    "        model_kwargs={\"device\": \"cpu\"},\n",
    "    )\n",
    "\n",
    "    # Create and persist a Chroma vector database from the chunked documents\n",
    "    vector_database = Chroma.from_documents(\n",
    "        documents=chunked_documents,\n",
    "        embedding=huggingface_embeddings,\n",
    "        persist_directory=DB_CHROMA_PATH,\n",
    "    )\n",
    "\n",
    "    vector_database.persist()\n"
   ]
  },
  {
   "cell_type": "code",
   "execution_count": null,
   "metadata": {},
   "outputs": [],
   "source": [
    "\n",
    "\n",
    "if __name__ == \"__main__\":\n",
    "    create_vector_database()"
   ]
  }
 ],
 "metadata": {
  "kernelspec": {
   "display_name": "ai",
   "language": "python",
   "name": "python3"
  },
  "language_info": {
   "codemirror_mode": {
    "name": "ipython",
    "version": 3
   },
   "file_extension": ".py",
   "mimetype": "text/x-python",
   "name": "python",
   "nbconvert_exporter": "python",
   "pygments_lexer": "ipython3",
   "version": "3.10.9"
  },
  "orig_nbformat": 4
 },
 "nbformat": 4,
 "nbformat_minor": 2
}
