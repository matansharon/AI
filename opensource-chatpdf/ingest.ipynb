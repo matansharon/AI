{
 "cells": [
  {
   "cell_type": "code",
   "execution_count": 1,
   "metadata": {},
   "outputs": [],
   "source": [
    "import os\n",
    "\n",
    "from chromadb.config import Settings\n",
    "from dotenv import load_dotenv\n",
    "from langchain.document_loaders import (\n",
    "    DirectoryLoader,\n",
    "    PyPDFLoader,\n",
    "    TextLoader,\n",
    "    UnstructuredMarkdownLoader,\n",
    ")\n",
    "from langchain.embeddings import HuggingFaceEmbeddings\n",
    "from langchain.text_splitter import RecursiveCharacterTextSplitter\n",
    "from langchain.vectorstores import Chroma"
   ]
  },
  {
   "cell_type": "code",
   "execution_count": null,
   "metadata": {},
   "outputs": [],
   "source": [
    "\n",
    "\n",
    "# Load environment variables from .env file\n",
    "load_dotenv()\n",
    "\n",
    "HUGGINGFACEHUB_API_TOKEN = os.getenv(\"HUGGINGFACEHUB_API_TOKEN\")\n",
    "\n",
    "DB_CHROMA_PATH = \"./../vectorstore/db_chroma\"\n",
    "DATA_DIR = \"./../data\""
   ]
  },
  {
   "cell_type": "code",
   "execution_count": 2,
   "metadata": {},
   "outputs": [],
   "source": [
    "\n",
    "\n",
    "\n",
    "# Create vector database\n",
    "def create_vector_database():\n",
    "    \"\"\"\n",
    "    Creates a vector database using document loaders and embeddings.\n",
    "\n",
    "    This function loads data from PDF, markdown and text files in the 'data/' directory,\n",
    "    splits the loaded documents into chunks, transforms them into embeddings using HuggingFace,\n",
    "    and finally persists the embeddings into a Chroma vector database.\n",
    "\n",
    "    \"\"\"\n",
    "    # Initialize loaders for different file types\n",
    "    \"\"\" pdf_loader = DirectoryLoader(DATA_DIR, glob=\"**/*.pdf\", loader_cls=PyPDFLoader)\n",
    "    markdown_loader = DirectoryLoader(\n",
    "        DATA_DIR, glob=\"**/*.md\", loader_cls=UnstructuredMarkdownLoader\n",
    "    )\n",
    "    text_loader = DirectoryLoader(DATA_DIR, glob=\"**/*.txt\", loader_cls=TextLoader)\n",
    "\n",
    "    all_loaders = [pdf_loader, markdown_loader, text_loader]\n",
    "\n",
    "    # Load documents from all loaders\n",
    "    loaded_documents = []\n",
    "    for loader in all_loaders:\n",
    "        loaded_documents.extend(loader.load()) \"\"\"\n",
    "\n",
    "    text_loader = DirectoryLoader(DATA_DIR, glob=\"**/*.txt\", loader_cls=TextLoader)\n",
    "    loaded_documents = text_loader.load()\n",
    "\n",
    "    # len(loaded_documents)\n",
    "    # loaded_documents[0]\n",
    "\n",
    "    # Split loaded documents into chunks\n",
    "    text_splitter = RecursiveCharacterTextSplitter(chunk_size=1000, chunk_overlap=100)\n",
    "    chunked_documents = text_splitter.split_documents(loaded_documents)\n",
    "\n",
    "    # len(chunked_documents)\n",
    "\n",
    "    # Initialize HuggingFace embeddings\n",
    "    huggingface_embeddings = HuggingFaceEmbeddings(\n",
    "        model_name=\"sentence-transformers/all-MiniLM-L6-v2\",\n",
    "        model_kwargs={\"device\": \"cpu\"},\n",
    "    )\n",
    "\n",
    "    # Create and persist a Chroma vector database from the chunked documents\n",
    "    vector_database = Chroma.from_documents(\n",
    "        documents=chunked_documents,\n",
    "        embedding=huggingface_embeddings,\n",
    "        persist_directory=DB_CHROMA_PATH,\n",
    "    )\n",
    "\n",
    "    vector_database.persist()\n"
   ]
  },
  {
   "cell_type": "code",
   "execution_count": 3,
   "metadata": {},
   "outputs": [
    {
     "ename": "NameError",
     "evalue": "name 'DATA_DIR' is not defined",
     "output_type": "error",
     "traceback": [
      "\u001b[1;31m---------------------------------------------------------------------------\u001b[0m",
      "\u001b[1;31mNameError\u001b[0m                                 Traceback (most recent call last)",
      "\u001b[1;32mf:\\python\\AI\\opensource-chatpdf\\ingest.ipynb Cell 4\u001b[0m line \u001b[0;36m2\n\u001b[0;32m      <a href='vscode-notebook-cell:/f%3A/python/AI/opensource-chatpdf/ingest.ipynb#W3sZmlsZQ%3D%3D?line=0'>1</a>\u001b[0m \u001b[39mif\u001b[39;00m \u001b[39m__name__\u001b[39m \u001b[39m==\u001b[39m \u001b[39m\"\u001b[39m\u001b[39m__main__\u001b[39m\u001b[39m\"\u001b[39m:\n\u001b[1;32m----> <a href='vscode-notebook-cell:/f%3A/python/AI/opensource-chatpdf/ingest.ipynb#W3sZmlsZQ%3D%3D?line=1'>2</a>\u001b[0m     create_vector_database()\n",
      "\u001b[1;32mf:\\python\\AI\\opensource-chatpdf\\ingest.ipynb Cell 4\u001b[0m line \u001b[0;36m2\n\u001b[0;32m     <a href='vscode-notebook-cell:/f%3A/python/AI/opensource-chatpdf/ingest.ipynb#W3sZmlsZQ%3D%3D?line=10'>11</a>\u001b[0m \u001b[39m# Initialize loaders for different file types\u001b[39;00m\n\u001b[0;32m     <a href='vscode-notebook-cell:/f%3A/python/AI/opensource-chatpdf/ingest.ipynb#W3sZmlsZQ%3D%3D?line=11'>12</a>\u001b[0m \u001b[39m\u001b[39m\u001b[39m\"\"\" pdf_loader = DirectoryLoader(DATA_DIR, glob=\"**/*.pdf\", loader_cls=PyPDFLoader)\u001b[39;00m\n\u001b[0;32m     <a href='vscode-notebook-cell:/f%3A/python/AI/opensource-chatpdf/ingest.ipynb#W3sZmlsZQ%3D%3D?line=12'>13</a>\u001b[0m \u001b[39mmarkdown_loader = DirectoryLoader(\u001b[39;00m\n\u001b[0;32m     <a href='vscode-notebook-cell:/f%3A/python/AI/opensource-chatpdf/ingest.ipynb#W3sZmlsZQ%3D%3D?line=13'>14</a>\u001b[0m \u001b[39m    DATA_DIR, glob=\"**/*.md\", loader_cls=UnstructuredMarkdownLoader\u001b[39;00m\n\u001b[1;32m   (...)\u001b[0m\n\u001b[0;32m     <a href='vscode-notebook-cell:/f%3A/python/AI/opensource-chatpdf/ingest.ipynb#W3sZmlsZQ%3D%3D?line=21'>22</a>\u001b[0m \u001b[39mfor loader in all_loaders:\u001b[39;00m\n\u001b[0;32m     <a href='vscode-notebook-cell:/f%3A/python/AI/opensource-chatpdf/ingest.ipynb#W3sZmlsZQ%3D%3D?line=22'>23</a>\u001b[0m \u001b[39m    loaded_documents.extend(loader.load()) \"\"\"\u001b[39;00m\n\u001b[1;32m---> <a href='vscode-notebook-cell:/f%3A/python/AI/opensource-chatpdf/ingest.ipynb#W3sZmlsZQ%3D%3D?line=24'>25</a>\u001b[0m text_loader \u001b[39m=\u001b[39m DirectoryLoader(DATA_DIR, glob\u001b[39m=\u001b[39m\u001b[39m\"\u001b[39m\u001b[39m**/*.txt\u001b[39m\u001b[39m\"\u001b[39m, loader_cls\u001b[39m=\u001b[39mTextLoader)\n\u001b[0;32m     <a href='vscode-notebook-cell:/f%3A/python/AI/opensource-chatpdf/ingest.ipynb#W3sZmlsZQ%3D%3D?line=25'>26</a>\u001b[0m loaded_documents \u001b[39m=\u001b[39m text_loader\u001b[39m.\u001b[39mload()\n\u001b[0;32m     <a href='vscode-notebook-cell:/f%3A/python/AI/opensource-chatpdf/ingest.ipynb#W3sZmlsZQ%3D%3D?line=27'>28</a>\u001b[0m \u001b[39m# len(loaded_documents)\u001b[39;00m\n\u001b[0;32m     <a href='vscode-notebook-cell:/f%3A/python/AI/opensource-chatpdf/ingest.ipynb#W3sZmlsZQ%3D%3D?line=28'>29</a>\u001b[0m \u001b[39m# loaded_documents[0]\u001b[39;00m\n\u001b[0;32m     <a href='vscode-notebook-cell:/f%3A/python/AI/opensource-chatpdf/ingest.ipynb#W3sZmlsZQ%3D%3D?line=29'>30</a>\u001b[0m \n\u001b[0;32m     <a href='vscode-notebook-cell:/f%3A/python/AI/opensource-chatpdf/ingest.ipynb#W3sZmlsZQ%3D%3D?line=30'>31</a>\u001b[0m \u001b[39m# Split loaded documents into chunks\u001b[39;00m\n",
      "\u001b[1;31mNameError\u001b[0m: name 'DATA_DIR' is not defined"
     ]
    }
   ],
   "source": [
    "\n",
    "\n",
    "if __name__ == \"__main__\":\n",
    "    create_vector_database()"
   ]
  }
 ],
 "metadata": {
  "kernelspec": {
   "display_name": "ai",
   "language": "python",
   "name": "python3"
  },
  "language_info": {
   "codemirror_mode": {
    "name": "ipython",
    "version": 3
   },
   "file_extension": ".py",
   "mimetype": "text/x-python",
   "name": "python",
   "nbconvert_exporter": "python",
   "pygments_lexer": "ipython3",
   "version": "3.10.9"
  },
  "orig_nbformat": 4
 },
 "nbformat": 4,
 "nbformat_minor": 2
}
