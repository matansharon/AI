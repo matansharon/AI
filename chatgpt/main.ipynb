{
 "cells": [
  {
   "cell_type": "code",
   "execution_count": 3,
   "metadata": {},
   "outputs": [],
   "source": [
    " \n",
    "import streamlit as st\n",
    "from dotenv import load_dotenv\n",
    "import pickle\n",
    "from PyPDF2 import PdfReader\n",
    "from streamlit_extras.add_vertical_space import add_vertical_space\n",
    "from langchain.text_splitter import RecursiveCharacterTextSplitter\n",
    "from langchain.embeddings.openai import OpenAIEmbeddings\n",
    "from langchain.vectorstores import FAISS\n",
    "from langchain.llms import OpenAI\n",
    "from langchain.chains.question_answering import load_qa_chain\n",
    "from langchain.callbacks import get_openai_callback\n",
    "import os\n",
    " "
   ]
  },
  {
   "cell_type": "code",
   "execution_count": 4,
   "metadata": {},
   "outputs": [
    {
     "name": "stderr",
     "output_type": "stream",
     "text": [
      "2023-06-01 11:54:04.532 \n",
      "  \u001b[33m\u001b[1mWarning:\u001b[0m to view this Streamlit app on a browser, run it with the following\n",
      "  command:\n",
      "\n",
      "    streamlit run C:\\Users\\matan.s\\AppData\\Roaming\\Python\\Python39\\site-packages\\ipykernel_launcher.py [ARGUMENTS]\n"
     ]
    },
    {
     "data": {
      "text/plain": [
       "True"
      ]
     },
     "execution_count": 4,
     "metadata": {},
     "output_type": "execute_result"
    }
   ],
   "source": [
    "with st.sidebar:\n",
    "    st.title('🤗💬 LLM Chat App')\n",
    "    st.markdown('''\n",
    "    ## About\n",
    "    This app is an LLM-powered chatbot built using:\n",
    "    - [Streamlit](https://streamlit.io/)\n",
    "    - [LangChain](https://python.langchain.com/)\n",
    "    - [OpenAI](https://platform.openai.com/docs/models) LLM model\n",
    " \n",
    "    ''')\n",
    "    add_vertical_space(5)\n",
    "    st.write('Made with ❤️ by [Prompt Engineer](https://youtube.com/@engineerprompt)')\n",
    " \n",
    "load_dotenv()"
   ]
  },
  {
   "cell_type": "code",
   "execution_count": 5,
   "metadata": {},
   "outputs": [],
   "source": [
    "\n",
    "# Sidebar contents\n",
    "\n",
    " \n",
    "def main():\n",
    "    st.header(\"Chat with PDF 💬\")\n",
    " \n",
    " \n",
    "    # upload a PDF file\n",
    "    pdf = st.file_uploader(\"Upload your PDF\", type='pdf')\n",
    " \n",
    "    # st.write(pdf)\n",
    "    if pdf is not None:\n",
    "        pdf_reader = PdfReader(pdf)\n",
    "        \n",
    "        text = \"\"\n",
    "        for page in pdf_reader.pages:\n",
    "            text += page.extract_text()\n",
    " \n",
    "        text_splitter = RecursiveCharacterTextSplitter(\n",
    "            chunk_size=1000,\n",
    "            chunk_overlap=200,\n",
    "            length_function=len\n",
    "            )\n",
    "        chunks = text_splitter.split_text(text=text)\n",
    " \n",
    "        # # embeddings\n",
    "        store_name = pdf.name[:-4]\n",
    "        st.write(f'{store_name}')\n",
    "        # st.write(chunks)\n",
    " \n",
    "        if os.path.exists(f\"{store_name}.pkl\"):\n",
    "            with open(f\"{store_name}.pkl\", \"rb\") as f:\n",
    "                VectorStore = pickle.load(f)\n",
    "            # st.write('Embeddings Loaded from the Disk')s\n",
    "        else:\n",
    "            embeddings = OpenAIEmbeddings()\n",
    "            VectorStore = FAISS.from_texts(chunks, embedding=embeddings)\n",
    "            with open(f\"{store_name}.pkl\", \"wb\") as f:\n",
    "                pickle.dump(VectorStore, f)\n",
    " \n",
    "        # embeddings = OpenAIEmbeddings()\n",
    "        # VectorStore = FAISS.from_texts(chunks, embedding=embeddings)\n",
    " \n",
    "        # Accept user questions/query\n",
    "        query = st.text_input(\"Ask questions about your PDF file:\")\n",
    "        # st.write(query)\n",
    " \n",
    "        if query:\n",
    "            docs = VectorStore.similarity_search(query=query, k=3)\n",
    " \n",
    "            llm = OpenAI()\n",
    "            chain = load_qa_chain(llm=llm, chain_type=\"stuff\")\n",
    "            with get_openai_callback() as cb:\n",
    "                response = chain.run(input_documents=docs, question=query)\n",
    "                print(cb)\n",
    "            st.write(response)\n",
    " \n"
   ]
  },
  {
   "cell_type": "code",
   "execution_count": 6,
   "metadata": {},
   "outputs": [],
   "source": [
    "if __name__ == '__main__':\n",
    "    main()"
   ]
  },
  {
   "cell_type": "code",
   "execution_count": 1,
   "metadata": {},
   "outputs": [
    {
     "ename": "ModuleNotFoundError",
     "evalue": "No module named 'langflow'",
     "output_type": "error",
     "traceback": [
      "\u001b[1;31m---------------------------------------------------------------------------\u001b[0m",
      "\u001b[1;31mModuleNotFoundError\u001b[0m                       Traceback (most recent call last)",
      "Cell \u001b[1;32mIn[1], line 1\u001b[0m\n\u001b[1;32m----> 1\u001b[0m \u001b[39mfrom\u001b[39;00m \u001b[39mlangflow\u001b[39;00m \u001b[39mimport\u001b[39;00m load_flow_from_json\n\u001b[0;32m      3\u001b[0m flow \u001b[39m=\u001b[39m load_flow_from_json(\u001b[39m\"\u001b[39m\u001b[39mBasic_Chat_windows.json\u001b[39m\u001b[39m\"\u001b[39m)\n\u001b[0;32m      4\u001b[0m \u001b[39m# Now you can use it like any chain\u001b[39;00m\n",
      "\u001b[1;31mModuleNotFoundError\u001b[0m: No module named 'langflow'"
     ]
    }
   ],
   "source": [
    "from langflow import load_flow_from_json\n",
    "\n",
    "flow = load_flow_from_json(\"Basic_Chat_windows.json\")\n",
    "# Now you can use it like any chain\n",
    "flow(\"Hey, have you heard of LangFlow?\")"
   ]
  }
 ],
 "metadata": {
  "kernelspec": {
   "display_name": "AI_env",
   "language": "python",
   "name": "python3"
  },
  "language_info": {
   "codemirror_mode": {
    "name": "ipython",
    "version": 3
   },
   "file_extension": ".py",
   "mimetype": "text/x-python",
   "name": "python",
   "nbconvert_exporter": "python",
   "pygments_lexer": "ipython3",
   "version": "3.9.16"
  },
  "orig_nbformat": 4,
  "vscode": {
   "interpreter": {
    "hash": "667b181c630d0c2792b671a6ac5fb5e28e75373882d6e85ca3fd7749e63b4f48"
   }
  }
 },
 "nbformat": 4,
 "nbformat_minor": 2
}
