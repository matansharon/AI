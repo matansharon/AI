{
 "cells": [
  {
   "cell_type": "code",
   "execution_count": 7,
   "metadata": {},
   "outputs": [
    {
     "name": "stdout",
     "output_type": "stream",
     "text": [
      "Requirement already satisfied: python-dotenv in /Users/matansharon/python/AI/.venv/lib/python3.12/site-packages (1.1.0)\n",
      "\n",
      "\u001b[1m[\u001b[0m\u001b[34;49mnotice\u001b[0m\u001b[1;39;49m]\u001b[0m\u001b[39;49m A new release of pip is available: \u001b[0m\u001b[31;49m24.0\u001b[0m\u001b[39;49m -> \u001b[0m\u001b[32;49m25.1.1\u001b[0m\n",
      "\u001b[1m[\u001b[0m\u001b[34;49mnotice\u001b[0m\u001b[1;39;49m]\u001b[0m\u001b[39;49m To update, run: \u001b[0m\u001b[32;49mpip install --upgrade pip\u001b[0m\n"
     ]
    }
   ],
   "source": [
    "!pip install python-dotenv"
   ]
  },
  {
   "cell_type": "code",
   "execution_count": 8,
   "metadata": {},
   "outputs": [
    {
     "data": {
      "text/plain": [
       "True"
      ]
     },
     "execution_count": 8,
     "metadata": {},
     "output_type": "execute_result"
    }
   ],
   "source": [
    "import streamlit as st\n",
    "import os\n",
    "from google import genai\n",
    "import tempfile\n",
    "from dotenv import load_dotenv\n",
    "from docx import Document\n",
    "import io\n",
    "load_dotenv()"
   ]
  },
  {
   "cell_type": "code",
   "execution_count": 12,
   "metadata": {},
   "outputs": [
    {
     "data": {
      "text/plain": [
       "ListFilesResponse(next_page_token=None, files=[File(name='files/41rci73bsvn4', display_name=None, mime_type='application/vnd.openxmlformats-officedocument.wordprocessingml.document', size_bytes=155641, create_time=datetime.datetime(2025, 5, 28, 10, 53, 24, 409804, tzinfo=TzInfo(UTC)), expiration_time=datetime.datetime(2025, 5, 30, 10, 53, 24, 366745, tzinfo=TzInfo(UTC)), update_time=datetime.datetime(2025, 5, 28, 10, 53, 24, 409804, tzinfo=TzInfo(UTC)), sha256_hash='ZmI3MmUzZGE1ZWE3MmQ0NDMyY2FmNzE3YjE5YmI0YjI5ZjI3NjkxNDJkZjZiOTUwODk3NzE0OTA2YmNlZGVmZg==', uri='https://generativelanguage.googleapis.com/v1beta/files/41rci73bsvn4', download_uri=None, state=<FileState.ACTIVE: 'ACTIVE'>, source=<FileSource.UPLOADED: 'UPLOADED'>, video_metadata=None, error=None), File(name='files/hryafoznf6am', display_name=None, mime_type='application/pdf', size_bytes=3428931, create_time=datetime.datetime(2025, 5, 28, 10, 51, 50, 569791, tzinfo=TzInfo(UTC)), expiration_time=datetime.datetime(2025, 5, 30, 10, 51, 50, 504594, tzinfo=TzInfo(UTC)), update_time=datetime.datetime(2025, 5, 28, 10, 51, 50, 569791, tzinfo=TzInfo(UTC)), sha256_hash='MWQyZTVhYjVhZjdiYWFiODZjNzQ0ZmJmM2U4OGVlNTJkNDQ3ZGIyYjRkMjUyOTZiYTgwODFiOTE5YTgwZjk0ZQ==', uri='https://generativelanguage.googleapis.com/v1beta/files/hryafoznf6am', download_uri=None, state=<FileState.ACTIVE: 'ACTIVE'>, source=<FileSource.UPLOADED: 'UPLOADED'>, video_metadata=None, error=None), File(name='files/79bl44kmzfxa', display_name=None, mime_type='application/pdf', size_bytes=1067831, create_time=datetime.datetime(2025, 5, 28, 10, 51, 49, 22516, tzinfo=TzInfo(UTC)), expiration_time=datetime.datetime(2025, 5, 30, 10, 51, 48, 965198, tzinfo=TzInfo(UTC)), update_time=datetime.datetime(2025, 5, 28, 10, 51, 49, 22516, tzinfo=TzInfo(UTC)), sha256_hash='Yzk5OGYyMDM3ZGI5M2I4ZWMwZjU1MTQ2OTUzYzMwNWZkYTU3N2FiNzVlYTQ4YmU2YWQ2YzFjYmM4NThjNjIwNQ==', uri='https://generativelanguage.googleapis.com/v1beta/files/79bl44kmzfxa', download_uri=None, state=<FileState.ACTIVE: 'ACTIVE'>, source=<FileSource.UPLOADED: 'UPLOADED'>, video_metadata=None, error=None), File(name='files/yjvu05e3bxca', display_name=None, mime_type='application/pdf', size_bytes=1067831, create_time=datetime.datetime(2025, 5, 28, 10, 49, 41, 49896, tzinfo=TzInfo(UTC)), expiration_time=datetime.datetime(2025, 5, 30, 10, 49, 40, 980349, tzinfo=TzInfo(UTC)), update_time=datetime.datetime(2025, 5, 28, 10, 49, 41, 49896, tzinfo=TzInfo(UTC)), sha256_hash='Yzk5OGYyMDM3ZGI5M2I4ZWMwZjU1MTQ2OTUzYzMwNWZkYTU3N2FiNzVlYTQ4YmU2YWQ2YzFjYmM4NThjNjIwNQ==', uri='https://generativelanguage.googleapis.com/v1beta/files/yjvu05e3bxca', download_uri=None, state=<FileState.ACTIVE: 'ACTIVE'>, source=<FileSource.UPLOADED: 'UPLOADED'>, video_metadata=None, error=None), File(name='files/8uh43i82019v', display_name=None, mime_type='application/pdf', size_bytes=3428931, create_time=datetime.datetime(2025, 5, 28, 9, 0, 9, 727895, tzinfo=TzInfo(UTC)), expiration_time=datetime.datetime(2025, 5, 30, 9, 0, 9, 255958, tzinfo=TzInfo(UTC)), update_time=datetime.datetime(2025, 5, 28, 9, 0, 9, 727895, tzinfo=TzInfo(UTC)), sha256_hash='MWQyZTVhYjVhZjdiYWFiODZjNzQ0ZmJmM2U4OGVlNTJkNDQ3ZGIyYjRkMjUyOTZiYTgwODFiOTE5YTgwZjk0ZQ==', uri='https://generativelanguage.googleapis.com/v1beta/files/8uh43i82019v', download_uri=None, state=<FileState.ACTIVE: 'ACTIVE'>, source=<FileSource.UPLOADED: 'UPLOADED'>, video_metadata=None, error=None), File(name='files/zf7pf9barfcs', display_name=None, mime_type='application/pdf', size_bytes=1067831, create_time=datetime.datetime(2025, 5, 28, 9, 0, 7, 727199, tzinfo=TzInfo(UTC)), expiration_time=datetime.datetime(2025, 5, 30, 9, 0, 7, 669449, tzinfo=TzInfo(UTC)), update_time=datetime.datetime(2025, 5, 28, 9, 0, 7, 727199, tzinfo=TzInfo(UTC)), sha256_hash='Yzk5OGYyMDM3ZGI5M2I4ZWMwZjU1MTQ2OTUzYzMwNWZkYTU3N2FiNzVlYTQ4YmU2YWQ2YzFjYmM4NThjNjIwNQ==', uri='https://generativelanguage.googleapis.com/v1beta/files/zf7pf9barfcs', download_uri=None, state=<FileState.ACTIVE: 'ACTIVE'>, source=<FileSource.UPLOADED: 'UPLOADED'>, video_metadata=None, error=None)])"
      ]
     },
     "execution_count": 12,
     "metadata": {},
     "output_type": "execute_result"
    }
   ],
   "source": [
    "client=genai.Client()\n",
    "client.files._list()"
   ]
  }
 ],
 "metadata": {
  "kernelspec": {
   "display_name": ".venv",
   "language": "python",
   "name": "python3"
  },
  "language_info": {
   "codemirror_mode": {
    "name": "ipython",
    "version": 3
   },
   "file_extension": ".py",
   "mimetype": "text/x-python",
   "name": "python",
   "nbconvert_exporter": "python",
   "pygments_lexer": "ipython3",
   "version": "3.12.9"
  }
 },
 "nbformat": 4,
 "nbformat_minor": 2
}
