{
 "cells": [
  {
   "cell_type": "code",
   "execution_count": 5,
   "metadata": {},
   "outputs": [],
   "source": [
    "import torch\n",
    "import pickle\n",
    "import numpy as np\n",
    "import pandas as pd\n",
    "import matplotlib.pyplot as plt"
   ]
  },
  {
   "cell_type": "code",
   "execution_count": 6,
   "metadata": {},
   "outputs": [],
   "source": [
    "def unpickle(file):\n",
    "    with open(file, 'rb') as fo:\n",
    "        dict = pickle.load(fo, encoding='bytes')\n",
    "    return dict"
   ]
  },
  {
   "cell_type": "code",
   "execution_count": 7,
   "metadata": {},
   "outputs": [],
   "source": [
    "batch1 = unpickle('cifar-10-batches-py/data_batch_1')\n",
    "batch2 = unpickle('cifar-10-batches-py/data_batch_2')\n",
    "batch3 = unpickle('cifar-10-batches-py/data_batch_3')\n",
    "batch4 = unpickle('cifar-10-batches-py/data_batch_4')\n",
    "batch5 = unpickle('cifar-10-batches-py/data_batch_5')\n",
    "batch_meta = unpickle('cifar-10-batches-py/batches.meta')"
   ]
  },
  {
   "cell_type": "code",
   "execution_count": 8,
   "metadata": {},
   "outputs": [],
   "source": [
    "\n",
    "df1 = pd.DataFrame(batch1[b'data'])\n",
    "df2 = pd.DataFrame(batch2[b'data'])\n",
    "df3 = pd.DataFrame(batch3[b'data'])\n",
    "df4 = pd.DataFrame(batch4[b'data'])\n",
    "df5 = pd.DataFrame(batch5[b'data']) \n",
    "\n",
    "#load the labels into a dataframe\n",
    "df1_labels = pd.DataFrame(batch1[b'labels'])\n",
    "df2_labels = pd.DataFrame(batch2[b'labels'])\n",
    "df3_labels = pd.DataFrame(batch3[b'labels'])\n",
    "df4_labels = pd.DataFrame(batch4[b'labels'])\n",
    "df5_labels = pd.DataFrame(batch5[b'labels'])"
   ]
  },
  {
   "cell_type": "code",
   "execution_count": 9,
   "metadata": {},
   "outputs": [],
   "source": [
    "\n",
    "\n",
    "\n",
    "#concatenate the dataframes\n",
    "df = pd.concat([df1, df2, df3, df4, df5], ignore_index=True)\n",
    "df_labels = pd.concat([df1_labels, df2_labels, df3_labels, df4_labels, df5_labels], ignore_index=True)\n",
    "\n",
    "#load the data into a tensor\n",
    "\n",
    "data = torch.from_numpy(df.values)\n",
    "labels = torch.from_numpy(df_labels.values)\n",
    "\n",
    "#reshape the data into a 4D tensor\n",
    "data = data.reshape(50000, 3, 32, 32)\n",
    "\n"
   ]
  }
 ],
 "metadata": {
  "kernelspec": {
   "display_name": "ai_env",
   "language": "python",
   "name": "python3"
  },
  "language_info": {
   "codemirror_mode": {
    "name": "ipython",
    "version": 3
   },
   "file_extension": ".py",
   "mimetype": "text/x-python",
   "name": "python",
   "nbconvert_exporter": "python",
   "pygments_lexer": "ipython3",
   "version": "3.10.11"
  },
  "orig_nbformat": 4
 },
 "nbformat": 4,
 "nbformat_minor": 2
}
