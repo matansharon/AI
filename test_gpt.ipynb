{
 "cells": [
  {
   "cell_type": "code",
   "execution_count": 1,
   "metadata": {},
   "outputs": [
    {
     "name": "stdout",
     "output_type": "stream",
     "text": [
      "Running on CPU\n",
      "Epoch 1/10\n",
      "469/469 [==============================] - 51s 106ms/step - loss: 2.2726 - accuracy: 0.1569 - val_loss: 2.2290 - val_accuracy: 0.3072\n",
      "Epoch 2/10\n",
      "469/469 [==============================] - 50s 106ms/step - loss: 2.2013 - accuracy: 0.2686 - val_loss: 2.1410 - val_accuracy: 0.4539\n",
      "Epoch 3/10\n",
      "469/469 [==============================] - 50s 107ms/step - loss: 2.1093 - accuracy: 0.3672 - val_loss: 2.0252 - val_accuracy: 0.5708\n",
      "Epoch 4/10\n",
      "469/469 [==============================] - 50s 106ms/step - loss: 1.9902 - accuracy: 0.4439 - val_loss: 1.8776 - val_accuracy: 0.6511\n",
      "Epoch 5/10\n",
      "469/469 [==============================] - 50s 106ms/step - loss: 1.8446 - accuracy: 0.5102 - val_loss: 1.6971 - val_accuracy: 0.7135\n",
      "Epoch 6/10\n",
      "469/469 [==============================] - 50s 106ms/step - loss: 1.6783 - accuracy: 0.5599 - val_loss: 1.4940 - val_accuracy: 0.7558\n",
      "Epoch 7/10\n",
      "469/469 [==============================] - 50s 107ms/step - loss: 1.5030 - accuracy: 0.6058 - val_loss: 1.2905 - val_accuracy: 0.7812\n",
      "Epoch 8/10\n",
      "469/469 [==============================] - 49s 105ms/step - loss: 1.3441 - accuracy: 0.6396 - val_loss: 1.1103 - val_accuracy: 0.7961\n",
      "Epoch 9/10\n",
      "469/469 [==============================] - 49s 105ms/step - loss: 1.2104 - accuracy: 0.6632 - val_loss: 0.9624 - val_accuracy: 0.8105\n",
      "Epoch 10/10\n",
      "469/469 [==============================] - 49s 105ms/step - loss: 1.0992 - accuracy: 0.6866 - val_loss: 0.8478 - val_accuracy: 0.8204\n"
     ]
    },
    {
     "data": {
      "text/plain": [
       "<keras.callbacks.History at 0x28828c433a0>"
      ]
     },
     "execution_count": 1,
     "metadata": {},
     "output_type": "execute_result"
    }
   ],
   "source": [
    "import tensorflow as tf\n",
    "from tensorflow.keras.datasets import mnist\n",
    "from tensorflow.keras.models import Sequential\n",
    "from tensorflow.keras.layers import Dense, Dropout, Flatten\n",
    "from tensorflow.keras.layers import Conv2D, MaxPooling2D\n",
    "from tensorflow.keras import backend as K\n",
    "\n",
    "# Check if the code runs on GPU or CPU\n",
    "physical_devices = tf.config.list_physical_devices('GPU')\n",
    "if len(physical_devices) > 0:\n",
    "    print('Running on GPU')\n",
    "    tf.config.experimental.set_memory_growth(physical_devices[0], True)\n",
    "else:\n",
    "    print('Running on CPU')\n",
    "\n",
    "# the data, split between train and test sets\n",
    "(x_train, y_train), (x_test, y_test) = mnist.load_data()\n",
    "\n",
    "# Reshape data\n",
    "if K.image_data_format() == 'channels_first':\n",
    "    x_train = x_train.reshape(x_train.shape[0], 1, 28, 28)\n",
    "    x_test = x_test.reshape(x_test.shape[0], 1, 28, 28)\n",
    "    input_shape = (1, 28, 28)\n",
    "else:\n",
    "    x_train = x_train.reshape(x_train.shape[0], 28, 28, 1)\n",
    "    x_test = x_test.reshape(x_test.shape[0], 28, 28, 1)\n",
    "    input_shape = (28, 28, 1)\n",
    "\n",
    "x_train = x_train.astype('float32')\n",
    "x_test = x_test.astype('float32')\n",
    "\n",
    "# Normalize to 0 to 1 range\n",
    "x_train /= 255\n",
    "x_test /= 255\n",
    "\n",
    "# Convert class vectors to binary class matrices\n",
    "y_train = tf.keras.utils.to_categorical(y_train, 10)\n",
    "y_test = tf.keras.utils.to_categorical(y_test, 10)\n",
    "\n",
    "# Define model\n",
    "model = Sequential()\n",
    "model.add(Conv2D(32, kernel_size=(3, 3),\n",
    "                 activation='relu',\n",
    "                 input_shape=input_shape))\n",
    "model.add(Conv2D(64, (3, 3), activation='relu'))\n",
    "model.add(MaxPooling2D(pool_size=(2, 2)))\n",
    "model.add(Dropout(0.25))\n",
    "model.add(Flatten())\n",
    "model.add(Dense(128, activation='relu'))\n",
    "model.add(Dropout(0.5))\n",
    "model.add(Dense(10, activation='softmax'))\n",
    "\n",
    "# Compile the model\n",
    "model.compile(loss=tf.keras.losses.categorical_crossentropy,\n",
    "              optimizer=tf.keras.optimizers.Adadelta(),\n",
    "              metrics=['accuracy'])\n",
    "\n",
    "# Train the model\n",
    "model.fit(x_train, y_train,\n",
    "          batch_size=128,\n",
    "          epochs=10,\n",
    "          verbose=1,\n",
    "          validation_data=(x_test, y_test))\n"
   ]
  }
 ],
 "metadata": {
  "kernelspec": {
   "display_name": "Data",
   "language": "python",
   "name": "python3"
  },
  "language_info": {
   "codemirror_mode": {
    "name": "ipython",
    "version": 3
   },
   "file_extension": ".py",
   "mimetype": "text/x-python",
   "name": "python",
   "nbconvert_exporter": "python",
   "pygments_lexer": "ipython3",
   "version": "3.10.11"
  },
  "orig_nbformat": 4
 },
 "nbformat": 4,
 "nbformat_minor": 2
}
