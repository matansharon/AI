{
 "cells": [
  {
   "cell_type": "code",
   "execution_count": 1,
   "metadata": {},
   "outputs": [],
   "source": [
    "import torch"
   ]
  },
  {
   "cell_type": "code",
   "execution_count": 3,
   "metadata": {},
   "outputs": [
    {
     "data": {
      "text/plain": [
       "False"
      ]
     },
     "execution_count": 3,
     "metadata": {},
     "output_type": "execute_result"
    }
   ],
   "source": [
    "torch.cuda.is_available()"
   ]
  },
  {
   "cell_type": "code",
   "execution_count": 1,
   "metadata": {},
   "outputs": [
    {
     "ename": "NameError",
     "evalue": "name 'torch' is not defined",
     "output_type": "error",
     "traceback": [
      "\u001b[1;31m---------------------------------------------------------------------------\u001b[0m",
      "\u001b[1;31mNameError\u001b[0m                                 Traceback (most recent call last)",
      "Cell \u001b[1;32mIn[1], line 1\u001b[0m\n\u001b[1;32m----> 1\u001b[0m a_full \u001b[39m=\u001b[39m torch\u001b[39m.\u001b[39mrandn(\u001b[39m10240\u001b[39m, \u001b[39m10240\u001b[39m, dtype\u001b[39m=\u001b[39mtorch\u001b[39m.\u001b[39mdouble, device\u001b[39m=\u001b[39m\u001b[39m'\u001b[39m\u001b[39mcuda\u001b[39m\u001b[39m'\u001b[39m)\n\u001b[0;32m      2\u001b[0m b_full \u001b[39m=\u001b[39m torch\u001b[39m.\u001b[39mrandn(\u001b[39m10240\u001b[39m, \u001b[39m10240\u001b[39m, dtype\u001b[39m=\u001b[39mtorch\u001b[39m.\u001b[39mdouble, device\u001b[39m=\u001b[39m\u001b[39m'\u001b[39m\u001b[39mcuda\u001b[39m\u001b[39m'\u001b[39m)\n\u001b[0;32m      3\u001b[0m ab_full \u001b[39m=\u001b[39m a_full \u001b[39m@\u001b[39m b_full\n",
      "\u001b[1;31mNameError\u001b[0m: name 'torch' is not defined"
     ]
    }
   ],
   "source": [
    "a_full = torch.randn(10240, 10240, dtype=torch.double, device='cuda')\n",
    "b_full = torch.randn(10240, 10240, dtype=torch.double, device='cuda')\n",
    "ab_full = a_full @ b_full\n",
    "mean = ab_full.abs().mean()  # 80.7277\n",
    "\n",
    "a = a_full.float()\n",
    "b = b_full.float()\n",
    "\n",
    "# Do matmul at TF32 mode.\n",
    "torch.backends.cuda.matmul.allow_tf32 = True\n",
    "ab_tf32 = a @ b  # takes 0.016s on GA100\n",
    "error = (ab_tf32 - ab_full).abs().max()  # 0.1747\n",
    "relative_error = error / mean  # 0.0022\n",
    "\n",
    "# Do matmul with TF32 disabled.\n",
    "torch.backends.cuda.matmul.allow_tf32 = False\n",
    "ab_fp32 = a @ b  # takes 0.11s on GA100\n",
    "error = (ab_fp32 - ab_full).abs().max()  # 0.0031\n",
    "relative_error = error / mean  # 0.000039     # Number of devices"
   ]
  },
  {
   "cell_type": "code",
   "execution_count": null,
   "metadata": {},
   "outputs": [],
   "source": [
    "\n",
    "print(torch.version.cuda)"
   ]
  },
  {
   "cell_type": "code",
   "execution_count": 4,
   "metadata": {},
   "outputs": [],
   "source": [
    "from transformers import AutoTokenizer, AutoModelForCausalLM\n",
    "import transformers\n",
    "import torch\n",
    "from langchain import HuggingFaceHub\n",
    "import os\n",
    "from dotenv import load_dotenv\n",
    "import tensorflow as tf"
   ]
  },
  {
   "cell_type": "code",
   "execution_count": null,
   "metadata": {},
   "outputs": [],
   "source": [
    "os.environ[\"huggingfacehub_api_token\"]"
   ]
  },
  {
   "cell_type": "code",
   "execution_count": null,
   "metadata": {},
   "outputs": [],
   "source": [
    "llm=HuggingFaceHub(repo_id='tiiuae/falcon-7b-instruct',model_kwargs={'max_length': 1024,'temperature':0.1})"
   ]
  },
  {
   "cell_type": "code",
   "execution_count": null,
   "metadata": {},
   "outputs": [],
   "source": [
    "llm('who is the president of the united states?')"
   ]
  }
 ],
 "metadata": {
  "kernelspec": {
   "display_name": "AI_env",
   "language": "python",
   "name": "python3"
  },
  "language_info": {
   "codemirror_mode": {
    "name": "ipython",
    "version": 3
   },
   "file_extension": ".py",
   "mimetype": "text/x-python",
   "name": "python",
   "nbconvert_exporter": "python",
   "pygments_lexer": "ipython3",
   "version": "3.10.11"
  },
  "orig_nbformat": 4,
  "vscode": {
   "interpreter": {
    "hash": "667b181c630d0c2792b671a6ac5fb5e28e75373882d6e85ca3fd7749e63b4f48"
   }
  }
 },
 "nbformat": 4,
 "nbformat_minor": 2
}
