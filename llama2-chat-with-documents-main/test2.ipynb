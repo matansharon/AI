{
 "cells": [
  {
   "cell_type": "code",
   "execution_count": 5,
   "metadata": {},
   "outputs": [],
   "source": [
    "import os\n",
    "\n",
    "from langchain.document_loaders import (\n",
    "    DirectoryLoader,\n",
    "    PyPDFLoader,\n",
    "    TextLoader,\n",
    "    UnstructuredMarkdownLoader,\n",
    ")\n",
    "from langchain.embeddings import HuggingFaceEmbeddings\n",
    "from langchain.text_splitter import RecursiveCharacterTextSplitter\n",
    "from langchain.vectorstores import Chroma\n",
    "\n",
    "ABS_PATH: str = os.path.dirname(os.path.abspath(os.path.abspath(os.getcwd())))\n",
    "DB_DIR: str = os.path.join(ABS_PATH, \"db\")"
   ]
  },
  {
   "cell_type": "code",
   "execution_count": 2,
   "metadata": {},
   "outputs": [
    {
     "name": "stdout",
     "output_type": "stream",
     "text": [
      "[]\n"
     ]
    }
   ],
   "source": [
    "import nltk\n",
    "from nltk.tokenize import word_tokenize, sent_tokenize\n",
    "\n",
    "# read the raw text file\n",
    "with open('F:\\python\\AI\\llama2-chat-with-documents-main\\data\\state_of_the_union.txt', 'r',encoding='utf-8') as f:\n",
    "    raw_text = f.read()\n",
    "\n",
    "# split the raw text into questions and answers\n",
    "raw_qa_pairs = raw_text.split('Q: ')[1:]\n",
    "qa_pairs = []\n",
    "for pair in raw_qa_pairs:\n",
    "    q, a = pair.split('A: ')\n",
    "    qa_pairs.append((q.strip(), a.strip()))\n",
    "\n",
    "# tokenize the questions and answers\n",
    "tokenized_qa_pairs = []\n",
    "for q, a in qa_pairs:\n",
    "    tokenized_q = sent_tokenize(q)\n",
    "    tokenized_a = sent_tokenize(a)\n",
    "    tokenized_qa_pairs.append((tokenized_q, tokenized_a))\n",
    "\n",
    "# print the resulting Q&A dataset\n",
    "print(tokenized_qa_pairs)"
   ]
  }
 ],
 "metadata": {
  "kernelspec": {
   "display_name": ".venv",
   "language": "python",
   "name": "python3"
  },
  "language_info": {
   "codemirror_mode": {
    "name": "ipython",
    "version": 3
   },
   "file_extension": ".py",
   "mimetype": "text/x-python",
   "name": "python",
   "nbconvert_exporter": "python",
   "pygments_lexer": "ipython3",
   "version": "3.10.9"
  },
  "orig_nbformat": 4
 },
 "nbformat": 4,
 "nbformat_minor": 2
}
