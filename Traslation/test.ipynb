{
 "cells": [
  {
   "cell_type": "code",
   "execution_count": 7,
   "metadata": {},
   "outputs": [
    {
     "ename": "DefaultCredentialsError",
     "evalue": "Could not automatically determine credentials. Please set GOOGLE_APPLICATION_CREDENTIALS or explicitly create credentials and re-run the application. For more information, please see https://cloud.google.com/docs/authentication/getting-started",
     "output_type": "error",
     "traceback": [
      "\u001b[31m---------------------------------------------------------------------------\u001b[39m",
      "\u001b[31mDefaultCredentialsError\u001b[39m                   Traceback (most recent call last)",
      "\u001b[36mCell\u001b[39m\u001b[36m \u001b[39m\u001b[32mIn[7]\u001b[39m\u001b[32m, line 34\u001b[39m\n\u001b[32m     30\u001b[39m         \u001b[38;5;28mprint\u001b[39m(\u001b[33mf\u001b[39m\u001b[33m\"\u001b[39m\u001b[33mTranslated text: \u001b[39m\u001b[38;5;132;01m{\u001b[39;00mtranslation.translated_text\u001b[38;5;132;01m}\u001b[39;00m\u001b[33m\"\u001b[39m)\n\u001b[32m     32\u001b[39m     \u001b[38;5;28;01mreturn\u001b[39;00m response\n\u001b[32m---> \u001b[39m\u001b[32m34\u001b[39m \u001b[43mtranslate_text_with_model\u001b[49m\u001b[43m(\u001b[49m\n\u001b[32m     35\u001b[39m \u001b[43m    \u001b[49m\u001b[43mtext\u001b[49m\u001b[43m=\u001b[49m\u001b[33;43m\"\u001b[39;49m\u001b[33;43mשלום עולם\u001b[39;49m\u001b[33;43m\"\u001b[39;49m\u001b[43m)\u001b[49m\n",
      "\u001b[36mCell\u001b[39m\u001b[36m \u001b[39m\u001b[32mIn[7]\u001b[39m\u001b[32m, line 11\u001b[39m, in \u001b[36mtranslate_text_with_model\u001b[39m\u001b[34m(text, project_id, model_id)\u001b[39m\n\u001b[32m      4\u001b[39m \u001b[38;5;28;01mdef\u001b[39;00m\u001b[38;5;250m \u001b[39m\u001b[34mtranslate_text_with_model\u001b[39m(\n\u001b[32m      5\u001b[39m     text: \u001b[38;5;28mstr\u001b[39m = \u001b[33m\"\u001b[39m\u001b[33mHello world\u001b[39m\u001b[33m\"\u001b[39m,\n\u001b[32m      6\u001b[39m     project_id: \u001b[38;5;28mstr\u001b[39m = \u001b[33m\"\u001b[39m\u001b[33msearchapi-431418\u001b[39m\u001b[33m\"\u001b[39m,\n\u001b[32m      7\u001b[39m     model_id: \u001b[38;5;28mstr\u001b[39m = \u001b[33m\"\u001b[39m\u001b[33mgeneral/translation-llm\u001b[39m\u001b[33m\"\u001b[39m,\n\u001b[32m      8\u001b[39m ) -> translate.TranslationServiceClient:\n\u001b[32m      9\u001b[39m \u001b[38;5;250m    \u001b[39m\u001b[33;03m\"\"\"Translates a given text using Translation custom model.\"\"\"\u001b[39;00m\n\u001b[32m---> \u001b[39m\u001b[32m11\u001b[39m     client = \u001b[43mtranslate\u001b[49m\u001b[43m.\u001b[49m\u001b[43mTranslationServiceClient\u001b[49m\u001b[43m(\u001b[49m\u001b[43m)\u001b[49m\n\u001b[32m     13\u001b[39m     location = \u001b[33m\"\u001b[39m\u001b[33mus\u001b[39m\u001b[33m\"\u001b[39m\n\u001b[32m     14\u001b[39m     parent = \u001b[33mf\u001b[39m\u001b[33m\"\u001b[39m\u001b[33mprojects/\u001b[39m\u001b[38;5;132;01m{\u001b[39;00mproject_id\u001b[38;5;132;01m}\u001b[39;00m\u001b[33m/locations/\u001b[39m\u001b[38;5;132;01m{\u001b[39;00mlocation\u001b[38;5;132;01m}\u001b[39;00m\u001b[33m\"\u001b[39m\n",
      "\u001b[36mFile \u001b[39m\u001b[32m~/python/AI/.venv/lib/python3.12/site-packages/google/cloud/translate_v3/gapic/translation_service_client.py:186\u001b[39m, in \u001b[36mTranslationServiceClient.__init__\u001b[39m\u001b[34m(self, transport, channel, credentials, client_config, client_info, client_options)\u001b[39m\n\u001b[32m    184\u001b[39m         \u001b[38;5;28mself\u001b[39m.transport = transport\n\u001b[32m    185\u001b[39m \u001b[38;5;28;01melse\u001b[39;00m:\n\u001b[32m--> \u001b[39m\u001b[32m186\u001b[39m     \u001b[38;5;28mself\u001b[39m.transport = \u001b[43mtranslation_service_grpc_transport\u001b[49m\u001b[43m.\u001b[49m\u001b[43mTranslationServiceGrpcTransport\u001b[49m\u001b[43m(\u001b[49m\n\u001b[32m    187\u001b[39m \u001b[43m        \u001b[49m\u001b[43maddress\u001b[49m\u001b[43m=\u001b[49m\u001b[43mapi_endpoint\u001b[49m\u001b[43m,\u001b[49m\u001b[43m \u001b[49m\u001b[43mchannel\u001b[49m\u001b[43m=\u001b[49m\u001b[43mchannel\u001b[49m\u001b[43m,\u001b[49m\u001b[43m \u001b[49m\u001b[43mcredentials\u001b[49m\u001b[43m=\u001b[49m\u001b[43mcredentials\u001b[49m\n\u001b[32m    188\u001b[39m \u001b[43m    \u001b[49m\u001b[43m)\u001b[49m\n\u001b[32m    190\u001b[39m \u001b[38;5;28;01mif\u001b[39;00m client_info \u001b[38;5;129;01mis\u001b[39;00m \u001b[38;5;28;01mNone\u001b[39;00m:\n\u001b[32m    191\u001b[39m     client_info = google.api_core.gapic_v1.client_info.ClientInfo(\n\u001b[32m    192\u001b[39m         gapic_version=_GAPIC_LIBRARY_VERSION\n\u001b[32m    193\u001b[39m     )\n",
      "\u001b[36mFile \u001b[39m\u001b[32m~/python/AI/.venv/lib/python3.12/site-packages/google/cloud/translate_v3/gapic/transports/translation_service_grpc_transport.py:65\u001b[39m, in \u001b[36mTranslationServiceGrpcTransport.__init__\u001b[39m\u001b[34m(self, channel, credentials, address)\u001b[39m\n\u001b[32m     63\u001b[39m \u001b[38;5;66;03m# Create the channel.\u001b[39;00m\n\u001b[32m     64\u001b[39m \u001b[38;5;28;01mif\u001b[39;00m channel \u001b[38;5;129;01mis\u001b[39;00m \u001b[38;5;28;01mNone\u001b[39;00m:\n\u001b[32m---> \u001b[39m\u001b[32m65\u001b[39m     channel = \u001b[38;5;28;43mself\u001b[39;49m\u001b[43m.\u001b[49m\u001b[43mcreate_channel\u001b[49m\u001b[43m(\u001b[49m\n\u001b[32m     66\u001b[39m \u001b[43m        \u001b[49m\u001b[43maddress\u001b[49m\u001b[43m=\u001b[49m\u001b[43maddress\u001b[49m\u001b[43m,\u001b[49m\n\u001b[32m     67\u001b[39m \u001b[43m        \u001b[49m\u001b[43mcredentials\u001b[49m\u001b[43m=\u001b[49m\u001b[43mcredentials\u001b[49m\u001b[43m,\u001b[49m\n\u001b[32m     68\u001b[39m \u001b[43m        \u001b[49m\u001b[43moptions\u001b[49m\u001b[43m=\u001b[49m\u001b[43m{\u001b[49m\n\u001b[32m     69\u001b[39m \u001b[43m            \u001b[49m\u001b[33;43m\"\u001b[39;49m\u001b[33;43mgrpc.max_send_message_length\u001b[39;49m\u001b[33;43m\"\u001b[39;49m\u001b[43m:\u001b[49m\u001b[43m \u001b[49m\u001b[43m-\u001b[49m\u001b[32;43m1\u001b[39;49m\u001b[43m,\u001b[49m\n\u001b[32m     70\u001b[39m \u001b[43m            \u001b[49m\u001b[33;43m\"\u001b[39;49m\u001b[33;43mgrpc.max_receive_message_length\u001b[39;49m\u001b[33;43m\"\u001b[39;49m\u001b[43m:\u001b[49m\u001b[43m \u001b[49m\u001b[43m-\u001b[49m\u001b[32;43m1\u001b[39;49m\u001b[43m,\u001b[49m\n\u001b[32m     71\u001b[39m \u001b[43m        \u001b[49m\u001b[43m}\u001b[49m\u001b[43m.\u001b[49m\u001b[43mitems\u001b[49m\u001b[43m(\u001b[49m\u001b[43m)\u001b[49m\u001b[43m,\u001b[49m\n\u001b[32m     72\u001b[39m \u001b[43m    \u001b[49m\u001b[43m)\u001b[49m\n\u001b[32m     74\u001b[39m \u001b[38;5;28mself\u001b[39m._channel = channel\n\u001b[32m     76\u001b[39m \u001b[38;5;66;03m# gRPC uses objects called \"stubs\" that are bound to the\u001b[39;00m\n\u001b[32m     77\u001b[39m \u001b[38;5;66;03m# channel and provide a basic method for each RPC.\u001b[39;00m\n",
      "\u001b[36mFile \u001b[39m\u001b[32m~/python/AI/.venv/lib/python3.12/site-packages/google/cloud/translate_v3/gapic/transports/translation_service_grpc_transport.py:110\u001b[39m, in \u001b[36mTranslationServiceGrpcTransport.create_channel\u001b[39m\u001b[34m(cls, address, credentials, **kwargs)\u001b[39m\n\u001b[32m     91\u001b[39m \u001b[38;5;129m@classmethod\u001b[39m\n\u001b[32m     92\u001b[39m \u001b[38;5;28;01mdef\u001b[39;00m\u001b[38;5;250m \u001b[39m\u001b[34mcreate_channel\u001b[39m(\n\u001b[32m     93\u001b[39m     \u001b[38;5;28mcls\u001b[39m, address=\u001b[33m\"\u001b[39m\u001b[33mtranslate.googleapis.com:443\u001b[39m\u001b[33m\"\u001b[39m, credentials=\u001b[38;5;28;01mNone\u001b[39;00m, **kwargs\n\u001b[32m     94\u001b[39m ):\n\u001b[32m     95\u001b[39m \u001b[38;5;250m    \u001b[39m\u001b[33;03m\"\"\"Create and return a gRPC channel object.\u001b[39;00m\n\u001b[32m     96\u001b[39m \n\u001b[32m     97\u001b[39m \u001b[33;03m    Args:\u001b[39;00m\n\u001b[32m   (...)\u001b[39m\u001b[32m    108\u001b[39m \u001b[33;03m        grpc.Channel: A gRPC channel object.\u001b[39;00m\n\u001b[32m    109\u001b[39m \u001b[33;03m    \"\"\"\u001b[39;00m\n\u001b[32m--> \u001b[39m\u001b[32m110\u001b[39m     \u001b[38;5;28;01mreturn\u001b[39;00m \u001b[43mgoogle\u001b[49m\u001b[43m.\u001b[49m\u001b[43mapi_core\u001b[49m\u001b[43m.\u001b[49m\u001b[43mgrpc_helpers\u001b[49m\u001b[43m.\u001b[49m\u001b[43mcreate_channel\u001b[49m\u001b[43m(\u001b[49m\n\u001b[32m    111\u001b[39m \u001b[43m        \u001b[49m\u001b[43maddress\u001b[49m\u001b[43m,\u001b[49m\u001b[43m \u001b[49m\u001b[43mcredentials\u001b[49m\u001b[43m=\u001b[49m\u001b[43mcredentials\u001b[49m\u001b[43m,\u001b[49m\u001b[43m \u001b[49m\u001b[43mscopes\u001b[49m\u001b[43m=\u001b[49m\u001b[38;5;28;43mcls\u001b[39;49m\u001b[43m.\u001b[49m\u001b[43m_OAUTH_SCOPES\u001b[49m\u001b[43m,\u001b[49m\u001b[43m \u001b[49m\u001b[43m*\u001b[49m\u001b[43m*\u001b[49m\u001b[43mkwargs\u001b[49m\n\u001b[32m    112\u001b[39m \u001b[43m    \u001b[49m\u001b[43m)\u001b[49m\n",
      "\u001b[36mFile \u001b[39m\u001b[32m~/python/AI/.venv/lib/python3.12/site-packages/google/api_core/grpc_helpers.py:304\u001b[39m, in \u001b[36mcreate_channel\u001b[39m\u001b[34m(target, credentials, scopes, ssl_credentials, credentials_file, quota_project_id, default_scopes, default_host, **kwargs)\u001b[39m\n\u001b[32m    263\u001b[39m \u001b[38;5;28;01mdef\u001b[39;00m\u001b[38;5;250m \u001b[39m\u001b[34mcreate_channel\u001b[39m(\n\u001b[32m    264\u001b[39m     target,\n\u001b[32m    265\u001b[39m     credentials=\u001b[38;5;28;01mNone\u001b[39;00m,\n\u001b[32m   (...)\u001b[39m\u001b[32m    272\u001b[39m     **kwargs\n\u001b[32m    273\u001b[39m ):\n\u001b[32m    274\u001b[39m \u001b[38;5;250m    \u001b[39m\u001b[33;03m\"\"\"Create a secure channel with credentials.\u001b[39;00m\n\u001b[32m    275\u001b[39m \n\u001b[32m    276\u001b[39m \u001b[33;03m    Args:\u001b[39;00m\n\u001b[32m   (...)\u001b[39m\u001b[32m    301\u001b[39m \u001b[33;03m        google.api_core.DuplicateCredentialArgs: If both a credentials object and credentials_file are passed.\u001b[39;00m\n\u001b[32m    302\u001b[39m \u001b[33;03m    \"\"\"\u001b[39;00m\n\u001b[32m--> \u001b[39m\u001b[32m304\u001b[39m     composite_credentials = \u001b[43m_create_composite_credentials\u001b[49m\u001b[43m(\u001b[49m\n\u001b[32m    305\u001b[39m \u001b[43m        \u001b[49m\u001b[43mcredentials\u001b[49m\u001b[43m=\u001b[49m\u001b[43mcredentials\u001b[49m\u001b[43m,\u001b[49m\n\u001b[32m    306\u001b[39m \u001b[43m        \u001b[49m\u001b[43mcredentials_file\u001b[49m\u001b[43m=\u001b[49m\u001b[43mcredentials_file\u001b[49m\u001b[43m,\u001b[49m\n\u001b[32m    307\u001b[39m \u001b[43m        \u001b[49m\u001b[43mdefault_scopes\u001b[49m\u001b[43m=\u001b[49m\u001b[43mdefault_scopes\u001b[49m\u001b[43m,\u001b[49m\n\u001b[32m    308\u001b[39m \u001b[43m        \u001b[49m\u001b[43mscopes\u001b[49m\u001b[43m=\u001b[49m\u001b[43mscopes\u001b[49m\u001b[43m,\u001b[49m\n\u001b[32m    309\u001b[39m \u001b[43m        \u001b[49m\u001b[43mssl_credentials\u001b[49m\u001b[43m=\u001b[49m\u001b[43mssl_credentials\u001b[49m\u001b[43m,\u001b[49m\n\u001b[32m    310\u001b[39m \u001b[43m        \u001b[49m\u001b[43mquota_project_id\u001b[49m\u001b[43m=\u001b[49m\u001b[43mquota_project_id\u001b[49m\u001b[43m,\u001b[49m\n\u001b[32m    311\u001b[39m \u001b[43m        \u001b[49m\u001b[43mdefault_host\u001b[49m\u001b[43m=\u001b[49m\u001b[43mdefault_host\u001b[49m\u001b[43m,\u001b[49m\n\u001b[32m    312\u001b[39m \u001b[43m    \u001b[49m\u001b[43m)\u001b[49m\n\u001b[32m    314\u001b[39m     \u001b[38;5;28;01mif\u001b[39;00m HAS_GRPC_GCP:  \u001b[38;5;66;03m# pragma: NO COVER\u001b[39;00m\n\u001b[32m    315\u001b[39m         \u001b[38;5;28;01mreturn\u001b[39;00m grpc_gcp.secure_channel(target, composite_credentials, **kwargs)\n",
      "\u001b[36mFile \u001b[39m\u001b[32m~/python/AI/.venv/lib/python3.12/site-packages/google/api_core/grpc_helpers.py:235\u001b[39m, in \u001b[36m_create_composite_credentials\u001b[39m\u001b[34m(credentials, credentials_file, default_scopes, scopes, ssl_credentials, quota_project_id, default_host)\u001b[39m\n\u001b[32m    231\u001b[39m     credentials = google.auth.credentials.with_scopes_if_required(\n\u001b[32m    232\u001b[39m         credentials, scopes=scopes, default_scopes=default_scopes\n\u001b[32m    233\u001b[39m     )\n\u001b[32m    234\u001b[39m \u001b[38;5;28;01melse\u001b[39;00m:\n\u001b[32m--> \u001b[39m\u001b[32m235\u001b[39m     credentials, _ = \u001b[43mgoogle\u001b[49m\u001b[43m.\u001b[49m\u001b[43mauth\u001b[49m\u001b[43m.\u001b[49m\u001b[43mdefault\u001b[49m\u001b[43m(\u001b[49m\n\u001b[32m    236\u001b[39m \u001b[43m        \u001b[49m\u001b[43mscopes\u001b[49m\u001b[43m=\u001b[49m\u001b[43mscopes\u001b[49m\u001b[43m,\u001b[49m\u001b[43m \u001b[49m\u001b[43mdefault_scopes\u001b[49m\u001b[43m=\u001b[49m\u001b[43mdefault_scopes\u001b[49m\n\u001b[32m    237\u001b[39m \u001b[43m    \u001b[49m\u001b[43m)\u001b[49m\n\u001b[32m    239\u001b[39m \u001b[38;5;28;01mif\u001b[39;00m quota_project_id \u001b[38;5;129;01mand\u001b[39;00m \u001b[38;5;28misinstance\u001b[39m(\n\u001b[32m    240\u001b[39m     credentials, google.auth.credentials.CredentialsWithQuotaProject\n\u001b[32m    241\u001b[39m ):\n\u001b[32m    242\u001b[39m     credentials = credentials.with_quota_project(quota_project_id)\n",
      "\u001b[36mFile \u001b[39m\u001b[32m~/python/AI/.venv/lib/python3.12/site-packages/google/auth/_default.py:488\u001b[39m, in \u001b[36mdefault\u001b[39m\u001b[34m(scopes, request, quota_project_id, default_scopes)\u001b[39m\n\u001b[32m    480\u001b[39m             _LOGGER.warning(\n\u001b[32m    481\u001b[39m                 \u001b[33m\"\u001b[39m\u001b[33mNo project ID could be determined. Consider running \u001b[39m\u001b[33m\"\u001b[39m\n\u001b[32m    482\u001b[39m                 \u001b[33m\"\u001b[39m\u001b[33m`gcloud config set project` or setting the \u001b[39m\u001b[38;5;132;01m%s\u001b[39;00m\u001b[33m \u001b[39m\u001b[33m\"\u001b[39m\n\u001b[32m    483\u001b[39m                 \u001b[33m\"\u001b[39m\u001b[33menvironment variable\u001b[39m\u001b[33m\"\u001b[39m,\n\u001b[32m    484\u001b[39m                 environment_vars.PROJECT,\n\u001b[32m    485\u001b[39m             )\n\u001b[32m    486\u001b[39m         \u001b[38;5;28;01mreturn\u001b[39;00m credentials, effective_project_id\n\u001b[32m--> \u001b[39m\u001b[32m488\u001b[39m \u001b[38;5;28;01mraise\u001b[39;00m exceptions.DefaultCredentialsError(_HELP_MESSAGE)\n",
      "\u001b[31mDefaultCredentialsError\u001b[39m: Could not automatically determine credentials. Please set GOOGLE_APPLICATION_CREDENTIALS or explicitly create credentials and re-run the application. For more information, please see https://cloud.google.com/docs/authentication/getting-started"
     ]
    }
   ],
   "source": [
    "\n",
    "from google.cloud import translate\n",
    "\n",
    "\n",
    "def translate_text_with_model(\n",
    "    text: str = \"Hello world\",\n",
    "    project_id: str = \"searchapi-431418\",\n",
    "    model_id: str = \"general/translation-llm\",\n",
    ") -> translate.TranslationServiceClient:\n",
    "    \"\"\"Translates a given text using Translation custom model.\"\"\"\n",
    "\n",
    "    client = translate.TranslationServiceClient()\n",
    "    \n",
    "    location = \"us\"\n",
    "    parent = f\"projects/{project_id}/locations/{location}\"\n",
    "    model_path = f\"{parent}/models/{model_id}\"\n",
    "\n",
    "    # Supported language codes: https://cloud.google.com/translate/docs/languages\n",
    "    response = client.translate_text(\n",
    "        request={\n",
    "            \"contents\": [text],\n",
    "            \"target_language_code\": \"ja\",\n",
    "            \"model\": model_path,\n",
    "            \"source_language_code\": \"he\",\n",
    "            \"parent\": parent,\n",
    "            \"mime_type\": \"text/plain\",  # mime types: text/plain, text/html\n",
    "        }\n",
    "    )\n",
    "    # Display the translation for each input text provided\n",
    "    for translation in response.translations:\n",
    "        print(f\"Translated text: {translation.translated_text}\")\n",
    "\n",
    "    return response\n",
    "\n",
    "translate_text_with_model(\n",
    "    text=\"שלום עולם\")"
   ]
  }
 ],
 "metadata": {
  "kernelspec": {
   "display_name": ".venv",
   "language": "python",
   "name": "python3"
  },
  "language_info": {
   "codemirror_mode": {
    "name": "ipython",
    "version": 3
   },
   "file_extension": ".py",
   "mimetype": "text/x-python",
   "name": "python",
   "nbconvert_exporter": "python",
   "pygments_lexer": "ipython3",
   "version": "3.12.9"
  }
 },
 "nbformat": 4,
 "nbformat_minor": 2
}
