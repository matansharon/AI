{
 "cells": [
  {
   "cell_type": "code",
   "execution_count": 17,
   "metadata": {},
   "outputs": [
    {
     "data": {
      "text/plain": [
       "['\\nThe Ring and the Road\\nIn lands where shadows twist and creep,\\nWhere mountains brood and rivers sleep,\\nA whisper stirs of power',\n",
       " 'creep,\\nWhere mountains brood and rivers sleep,\\nA whisper stirs of power old—\\nA ring of fire, a band of gold.\\n\\nForged by flame',\n",
       " \"old—\\nA ring of fire, a band of gold.\\n\\nForged by flame in Mordor's night,\\nIt seeks the dark, it shuns the light.\\nOne\",\n",
       " \"in Mordor's night,\\nIt seeks the dark, it shuns the light.\\nOne ring to rule, to bind, to bring\\nAll under shadow's smothering\",\n",
       " \"ring to rule, to bind, to bring\\nAll under shadow's smothering wing.\\n\\nFrom gentle Shire where hobbits dwell,\\nA tale begins, too vast\",\n",
       " 'wing.\\n\\nFrom gentle Shire where hobbits dwell,\\nA tale begins, too vast to tell.\\nWith Frodo, bearer frail but true,\\nAnd Sam, whose heart',\n",
       " \"to tell.\\nWith Frodo, bearer frail but true,\\nAnd Sam, whose heart was brave and blue.\\n\\nThrough ancient woods and haunted vale,\\nO'er snowy\",\n",
       " \"was brave and blue.\\n\\nThrough ancient woods and haunted vale,\\nO'er snowy peaks and paths grown pale,\\nThey marched with elf, with dwarf,\",\n",
       " 'peaks and paths grown pale,\\nThey marched with elf, with dwarf, with man,\\nUnited in a broken plan.\\n\\nAragorn with kingly grace,\\nLegolas swift',\n",
       " 'with man,\\nUnited in a broken plan.\\n\\nAragorn with kingly grace,\\nLegolas swift in deadly race,\\nGimli, stout with axe in hand,\\nThey swore to',\n",
       " 'in deadly race,\\nGimli, stout with axe in hand,\\nThey swore to free a sundered land.\\n\\nGandalf rose with fire and word,\\nThrough Balrog’s',\n",
       " 'free a sundered land.\\n\\nGandalf rose with fire and word,\\nThrough Balrog’s flame his soul was stirred.\\nReturned anew in robes of white,\\nTo',\n",
       " 'flame his soul was stirred.\\nReturned anew in robes of white,\\nTo turn the tide in darkest fight.\\n\\nAnd Gollum crept with poisoned',\n",
       " 'turn the tide in darkest fight.\\n\\nAnd Gollum crept with poisoned mind,\\nTwisted fate and truth entwined.\\nGuide and traitor, slave and thief,\\nHe',\n",
       " 'mind,\\nTwisted fate and truth entwined.\\nGuide and traitor, slave and thief,\\nHe bore the weight of endless grief.\\n\\nIn towers tall and caverns',\n",
       " 'bore the weight of endless grief.\\n\\nIn towers tall and caverns deep,\\nIn halls where even ghosts might weep,\\nThey battled death and',\n",
       " 'deep,\\nIn halls where even ghosts might weep,\\nThey battled death and time and fear,\\nTo cast the ring in fire sear.\\n\\nTill Mount',\n",
       " 'time and fear,\\nTo cast the ring in fire sear.\\n\\nTill Mount Doom’s fire did wane and cry,\\nAnd Sauron fell with one',\n",
       " 'Doom’s fire did wane and cry,\\nAnd Sauron fell with one last eye.\\nThe eagles soared, the darkness broke,\\nThe world awoke in',\n",
       " 'last eye.\\nThe eagles soared, the darkness broke,\\nThe world awoke in hope and oak.\\n\\nSo sing, O bards, of Elven grace,\\nOf Dúnedain',\n",
       " 'hope and oak.\\n\\nSo sing, O bards, of Elven grace,\\nOf Dúnedain and Entish face.\\nOf hobbits bold and battles grim,\\nOf stars that',\n",
       " 'and Entish face.\\nOf hobbits bold and battles grim,\\nOf stars that shone when days were dim.\\n\\nFor in the end, when all',\n",
       " 'shone when days were dim.\\n\\nFor in the end, when all was lost,\\nThe smallest hearts paid dearest cost.\\nAnd though the Ring',\n",
       " 'was lost,\\nThe smallest hearts paid dearest cost.\\nAnd though the Ring has passed away,\\nIts echoes stir the soul today.\\n',\n",
       " 'has passed away,\\nIts echoes stir the soul today.\\n']"
      ]
     },
     "execution_count": 17,
     "metadata": {},
     "output_type": "execute_result"
    }
   ],
   "source": [
    "text=\"\"\"\n",
    "The Ring and the Road\n",
    "In lands where shadows twist and creep,\n",
    "Where mountains brood and rivers sleep,\n",
    "A whisper stirs of power old—\n",
    "A ring of fire, a band of gold.\n",
    "\n",
    "Forged by flame in Mordor's night,\n",
    "It seeks the dark, it shuns the light.\n",
    "One ring to rule, to bind, to bring\n",
    "All under shadow's smothering wing.\n",
    "\n",
    "From gentle Shire where hobbits dwell,\n",
    "A tale begins, too vast to tell.\n",
    "With Frodo, bearer frail but true,\n",
    "And Sam, whose heart was brave and blue.\n",
    "\n",
    "Through ancient woods and haunted vale,\n",
    "O'er snowy peaks and paths grown pale,\n",
    "They marched with elf, with dwarf, with man,\n",
    "United in a broken plan.\n",
    "\n",
    "Aragorn with kingly grace,\n",
    "Legolas swift in deadly race,\n",
    "Gimli, stout with axe in hand,\n",
    "They swore to free a sundered land.\n",
    "\n",
    "Gandalf rose with fire and word,\n",
    "Through Balrog’s flame his soul was stirred.\n",
    "Returned anew in robes of white,\n",
    "To turn the tide in darkest fight.\n",
    "\n",
    "And Gollum crept with poisoned mind,\n",
    "Twisted fate and truth entwined.\n",
    "Guide and traitor, slave and thief,\n",
    "He bore the weight of endless grief.\n",
    "\n",
    "In towers tall and caverns deep,\n",
    "In halls where even ghosts might weep,\n",
    "They battled death and time and fear,\n",
    "To cast the ring in fire sear.\n",
    "\n",
    "Till Mount Doom’s fire did wane and cry,\n",
    "And Sauron fell with one last eye.\n",
    "The eagles soared, the darkness broke,\n",
    "The world awoke in hope and oak.\n",
    "\n",
    "So sing, O bards, of Elven grace,\n",
    "Of Dúnedain and Entish face.\n",
    "Of hobbits bold and battles grim,\n",
    "Of stars that shone when days were dim.\n",
    "\n",
    "For in the end, when all was lost,\n",
    "The smallest hearts paid dearest cost.\n",
    "And though the Ring has passed away,\n",
    "Its echoes stir the soul today.\n",
    "\"\"\"\n",
    "text = text.split(' ')\n",
    "#grouped each 10 words together\n",
    "text = [text[i:i+20] for i in range(0, len(text), 10)]\n",
    "#join each group with a space\n",
    "text = [' '.join(group) for group in text]\n",
    "#join all groups with a newline\n",
    "# text = '\\n'.join(text)\n",
    "text\n"
   ]
  },
  {
   "cell_type": "code",
   "execution_count": 41,
   "metadata": {},
   "outputs": [],
   "source": [
    "from openai import OpenAI\n",
    "openai_client = OpenAI()\n",
    "def get_openai_response(text,src_lang='en', tgt_lang='he'):\n",
    "    completion = openai_client.chat.completions.create(\n",
    "        model=\"o4-mini-2025-04-16\",\n",
    "        messages=[\n",
    "            {\n",
    "                'role': 'assistant',\n",
    "                'content': f\"\"\"You are a professional translator. Your task is to translate the text from {src_lang} to {tgt_lang}. \n",
    "                'You must return the translation without any additional text. \n",
    "                'You must not return the original text. \n",
    "                the document are an engineering document,specific to the field manufacture engendering on the medical devices industry. \n",
    "                \"\"\"\n",
    "            },\n",
    "            {\n",
    "                \"role\": \"user\",\n",
    "                \"content\": f\"Translate this text to Hebrew: {text} just return the translation without any additional text.\"\n",
    "            }\n",
    "        ]\n",
    "    )\n",
    "\n",
    "    return completion.choices[0].message.content"
   ]
  },
  {
   "cell_type": "code",
   "execution_count": 19,
   "metadata": {},
   "outputs": [
    {
     "name": "stdout",
     "output_type": "stream",
     "text": [
      "\n",
      "The Ring and the Road\n",
      "In lands where shadows twist and creep,\n",
      "Where mountains brood and rivers sleep,\n",
      "A whisper stirs of power הטבעת והדרך  \n",
      "בארצות שבהן צללים מתפתלים וזוחלים,  \n",
      "בהרים השוקעים בקדרות והנהרות ישנים,  \n",
      "לוחש של כוח מתעורר.\n",
      "creep,\n",
      "Where mountains brood and rivers sleep,\n",
      "A whisper stirs of power old—\n",
      "A ring of fire, a band of gold.\n",
      "\n",
      "Forged by flame זוחל,  \n",
      "שם ההרים מהרהרים והנהרות ישנים,  \n",
      "לחש מעורר עוצמה עתיקה—  \n",
      "טבעת אש, חישוק זהב.  \n",
      "\n",
      "חושל באש\n",
      "old—\n",
      "A ring of fire, a band of gold.\n",
      "\n",
      "Forged by flame in Mordor's night,\n",
      "It seeks the dark, it shuns the light.\n",
      "One ישן— טבעת אש, חישוק זהב.  \n",
      "נוצקה בלהבות ליל מורדור,  \n",
      "מחפשת את החושך, דוחה את האור.\n",
      "in Mordor's night,\n",
      "It seeks the dark, it shuns the light.\n",
      "One ring to rule, to bind, to bring\n",
      "All under shadow's smothering בליל מורדור,  \n",
      "הוא מבקש את החושך, ומתנער מהאור.  \n",
      "טבעת אחת לשלוט, לקשור, להביא  \n",
      "את כולם תחת חניקת הצללים.\n",
      "ring to rule, to bind, to bring\n",
      "All under shadow's smothering wing.\n",
      "\n",
      "From gentle Shire where hobbits dwell,\n",
      "A tale begins, too vast טבעת למשול, לכבול, להביא  \n",
      "הכול תחת כנף הצל החונקת.  \n",
      "\n",
      "מן השייר העדינה שבה גרים ההוביטים,  \n",
      "אגדה מתחילה, עצומה מדי.\n",
      "wing.\n",
      "\n",
      "From gentle Shire where hobbits dwell,\n",
      "A tale begins, too vast to tell.\n",
      "With Frodo, bearer frail but true,\n",
      "And Sam, whose heart כנף.\n",
      "\n",
      "משיירה העדינה שבה שוהים הוביטים,  \n",
      "מתחיל סיפור, נרחב מדי על-מנת לספר.  \n",
      "עם פרודו, הנושא חלש אך נאמן,  \n",
      "וסאם, שלבו פשוט...\n",
      "to tell.\n",
      "With Frodo, bearer frail but true,\n",
      "And Sam, whose heart was brave and blue.\n",
      "\n",
      "Through ancient woods and haunted vale,\n",
      "O'er snowy לספר.  \n",
      "עם פרודו, נשא שברירי אך נאמן,  \n",
      "ולסם, שבלבו אמיץ ותכול.  \n",
      "דרך יערות עתיקים ועמק רדוף,  \n",
      "מעל מושלג\n",
      "was brave and blue.\n",
      "\n",
      "Through ancient woods and haunted vale,\n",
      "O'er snowy peaks and paths grown pale,\n",
      "They marched with elf, with dwarf, היה אמיץ וכחול.\n",
      "\n",
      "בין יערות עתיקים ועמק רדוף,\n",
      "מלבדי פסגות מושלגות ושבילים שהוזהו,\n",
      "הם צעדו עם אלף, עם גמד.\n",
      "peaks and paths grown pale,\n",
      "They marched with elf, with dwarf, with man,\n",
      "United in a broken plan.\n",
      "\n",
      "Aragorn with kingly grace,\n",
      "Legolas swift פסגות ושבילים הלבינו,  \n",
      "הם צעדו עם עלפים, גמדים ואנשים,  \n",
      "מאוחדים בתוכנית שבורה.  \n",
      "\n",
      "אראגורן בחן מלכותי,  \n",
      "לגולס המהיר\n",
      "with man,\n",
      "United in a broken plan.\n",
      "\n",
      "Aragorn with kingly grace,\n",
      "Legolas swift in deadly race,\n",
      "Gimli, stout with axe in hand,\n",
      "They swore to עם האדם,\n",
      "מאוחדים בתכנית שבורה.\n",
      "\n",
      "אראגורן בחן מלכותי,\n",
      "לגולאס זריז במירוץ קטלני,\n",
      "גימלי, חסון עם גרזן ביד,\n",
      "הם נשבעו להחזיר אך ורק את התרגום, ללא כל טקסט נוסף.\n"
     ]
    }
   ],
   "source": [
    "for i in range(0,10):\n",
    "    word = get_openai_response(text[i])\n",
    "    print(text[i],word)"
   ]
  },
  {
   "cell_type": "code",
   "execution_count": null,
   "metadata": {},
   "outputs": [],
   "source": [
    "import os, json\n",
    "\n",
    "import unstructured_client\n",
    "from unstructured_client.models import operations, shared\n",
    "\n",
    "# client = unstructured_client.UnstructuredClient(\n",
    "#     api_key_auth=os.getenv(\"UNSTRUCTURED_API_KEY\")\n",
    "# )\n",
    "def get_list_of_elements_from_file_with_unstructured_client(file_path:str,src_lang='he', tgt_lang='en'):\n",
    "    \"\"\"\n",
    "    This function uses the Unstructured Client to process a file and return a list of elements.\n",
    "    :param filename: The path to the input file.\n",
    "    :param src_lang: Source language for translation.\n",
    "    :param tgt_lang: Target language for translation.\n",
    "    :return: List of elements processed from the file.\n",
    "    \"\"\"\n",
    "    unstructured_client = unstructured_client.UnstructuredClient(\n",
    "        api_key_auth=os.getenv(\"UNSTRUCTURED_API_KEY\")\n",
    "    )\n",
    "    filename = file_path\n",
    "\n",
    "    req = operations.PartitionRequest(\n",
    "        partition_parameters=shared.PartitionParameters(\n",
    "            files=shared.Files(\n",
    "                content=open(filename, \"rb\"),\n",
    "                file_name=filename,\n",
    "            ),\n",
    "            strategy=shared.Strategy.HI_RES,\n",
    "            languages=[src_lang, tgt_lang],  # Specify source and target languages for translation.\n",
    "        #     strategy=shared.Strategy.VLM,\n",
    "        #     vlm_model=\"gpt-4o\",\n",
    "        #     vlm_model_provider=\"openai\",\n",
    "        #     languages=['eng'],\n",
    "        #     split_pdf_page=True,            # If True, splits the PDF file into smaller chunks of pages.\n",
    "        #     split_pdf_allow_failed=True,    # If True, the partitioning continues even if some pages fail.\n",
    "        #     split_pdf_concurrency_level=15  # Set the number of concurrent request to the maximum value: 15.\n",
    "        ),\n",
    "    )\n",
    "\n",
    "    try:\n",
    "        res = unstructured_client.general.partition(\n",
    "            request=req\n",
    "        )\n",
    "        element_dicts = [element for element in res.elements]\n",
    "        \n",
    "        # Print the processed data's first element only.\n",
    "        print(element_dicts[0])\n",
    "\n",
    "        # Write the processed data to a local file.\n",
    "        # json_elements = json.dumps(element_dicts, indent=2)\n",
    "        return element_dicts\n",
    "\n",
    "        \n",
    "    except Exception as e:\n",
    "        print(f\"An error occurred: {e}\")\n",
    "        return None"
   ]
  },
  {
   "cell_type": "code",
   "execution_count": 75,
   "metadata": {},
   "outputs": [
    {
     "ename": "UnboundLocalError",
     "evalue": "cannot access local variable 'unstructured_client' where it is not associated with a value",
     "output_type": "error",
     "traceback": [
      "\u001b[31m---------------------------------------------------------------------------\u001b[39m",
      "\u001b[31mUnboundLocalError\u001b[39m                         Traceback (most recent call last)",
      "\u001b[36mCell\u001b[39m\u001b[36m \u001b[39m\u001b[32mIn[75]\u001b[39m\u001b[32m, line 1\u001b[39m\n\u001b[32m----> \u001b[39m\u001b[32m1\u001b[39m response= \u001b[43mget_list_of_elements_from_file_with_unstructured_client\u001b[49m\u001b[43m(\u001b[49m\u001b[33;43m\"\u001b[39;49m\u001b[33;43mהחלפת קם תחנות בדיקה.docx\u001b[39;49m\u001b[33;43m\"\u001b[39;49m\u001b[43m)\u001b[49m\n",
      "\u001b[36mCell\u001b[39m\u001b[36m \u001b[39m\u001b[32mIn[73]\u001b[39m\u001b[32m, line 17\u001b[39m, in \u001b[36mget_list_of_elements_from_file_with_unstructured_client\u001b[39m\u001b[34m(file_path, src_lang, tgt_lang)\u001b[39m\n\u001b[32m      9\u001b[39m \u001b[38;5;28;01mdef\u001b[39;00m\u001b[38;5;250m \u001b[39m\u001b[34mget_list_of_elements_from_file_with_unstructured_client\u001b[39m(file_path:\u001b[38;5;28mstr\u001b[39m,src_lang=\u001b[33m'\u001b[39m\u001b[33mhe\u001b[39m\u001b[33m'\u001b[39m, tgt_lang=\u001b[33m'\u001b[39m\u001b[33men\u001b[39m\u001b[33m'\u001b[39m):\n\u001b[32m     10\u001b[39m \u001b[38;5;250m    \u001b[39m\u001b[33;03m\"\"\"\u001b[39;00m\n\u001b[32m     11\u001b[39m \u001b[33;03m    This function uses the Unstructured Client to process a file and return a list of elements.\u001b[39;00m\n\u001b[32m     12\u001b[39m \u001b[33;03m    :param filename: The path to the input file.\u001b[39;00m\n\u001b[32m   (...)\u001b[39m\u001b[32m     15\u001b[39m \u001b[33;03m    :return: List of elements processed from the file.\u001b[39;00m\n\u001b[32m     16\u001b[39m \u001b[33;03m    \"\"\"\u001b[39;00m\n\u001b[32m---> \u001b[39m\u001b[32m17\u001b[39m     unstructured_client = \u001b[43munstructured_client\u001b[49m.UnstructuredClient(\n\u001b[32m     18\u001b[39m         api_key_auth=os.getenv(\u001b[33m\"\u001b[39m\u001b[33mUNSTRUCTURED_API_KEY\u001b[39m\u001b[33m\"\u001b[39m)\n\u001b[32m     19\u001b[39m     )\n\u001b[32m     20\u001b[39m     filename = file_path\n\u001b[32m     22\u001b[39m     req = operations.PartitionRequest(\n\u001b[32m     23\u001b[39m         partition_parameters=shared.PartitionParameters(\n\u001b[32m     24\u001b[39m             files=shared.Files(\n\u001b[32m   (...)\u001b[39m\u001b[32m     37\u001b[39m         ),\n\u001b[32m     38\u001b[39m     )\n",
      "\u001b[31mUnboundLocalError\u001b[39m: cannot access local variable 'unstructured_client' where it is not associated with a value"
     ]
    }
   ],
   "source": [
    "response= get_list_of_elements_from_file_with_unstructured_client(\"החלפת קם תחנות בדיקה.docx\")"
   ]
  },
  {
   "cell_type": "code",
   "execution_count": null,
   "metadata": {},
   "outputs": [],
   "source": [
    "for el in response:\n",
    "    print(el)"
   ]
  },
  {
   "cell_type": "code",
   "execution_count": 47,
   "metadata": {},
   "outputs": [
    {
     "name": "stdout",
     "output_type": "stream",
     "text": [
      "{'type': 'NarrativeText', 'element_id': 'aacb8d6078f4f69252e06efdfe043cda', 'text': 'החלפת קאם (532550) המניע ממרכז המכונה את תחנות התמיכה והבדיקה במכונה 222', 'metadata': {'category_depth': 0, 'emphasized_text_contents': ['החלפת ק', 'א', 'ם (532550) המניע', 'ממרכז המכונה', 'את תחנות', 'התמיכה ו', 'הבדיקה במכונה 222'], 'emphasized_text_tags': ['b', 'b', 'b', 'b', 'b', 'b', 'b'], 'page_number': 1, 'languages': ['heb'], 'filename': 'החלפת קם תחנות בדיקה.docx', 'filetype': 'application/vnd.openxmlformats-officedocument.wordprocessingml.document'}}\n"
     ]
    },
    {
     "name": "stderr",
     "output_type": "stream",
     "text": [
      "INFO: HTTP Request: POST https://api.openai.com/v1/chat/completions \"HTTP/1.1 200 OK\"\n"
     ]
    },
    {
     "name": "stdout",
     "output_type": "stream",
     "text": [
      "{'type': 'UncategorizedText', 'element_id': 'c8cf54a405a20ba89e5c5015033beaba', 'text': 'רשם: צביקה איבגי ופאדי סלימאן. 12.12.2024', 'metadata': {'category_depth': 0, 'page_number': 1, 'languages': ['heb'], 'filename': 'החלפת קם תחנות בדיקה.docx', 'filetype': 'application/vnd.openxmlformats-officedocument.wordprocessingml.document'}}\n"
     ]
    },
    {
     "name": "stderr",
     "output_type": "stream",
     "text": [
      "INFO: HTTP Request: POST https://api.openai.com/v1/chat/completions \"HTTP/1.1 200 OK\"\n"
     ]
    },
    {
     "name": "stdout",
     "output_type": "stream",
     "text": [
      "{'type': 'UncategorizedText', 'element_id': '05eb9af97472376b97cdde5ea35c0ddf', 'text': 'צוות טכני מבצע: אוסטין אשמוז, גסאן מארון.', 'metadata': {'category_depth': 0, 'page_number': 1, 'languages': ['heb'], 'filename': 'החלפת קם תחנות בדיקה.docx', 'filetype': 'application/vnd.openxmlformats-officedocument.wordprocessingml.document'}}\n"
     ]
    },
    {
     "name": "stderr",
     "output_type": "stream",
     "text": [
      "INFO: HTTP Request: POST https://api.openai.com/v1/chat/completions \"HTTP/1.1 200 OK\"\n"
     ]
    },
    {
     "name": "stdout",
     "output_type": "stream",
     "text": [
      "{'type': 'NarrativeText', 'element_id': '86c80792062065239e81986ba980a628', 'text': 'רקע: בשנה האחרונה הוחלף אותו קאם פעמיים (לפני 11/2024), וגם בוכנת הקפיץ הוחלפה פעם אחת (לייתר בטחון). בכל פעם כעבור כמעט חודשיים הקאם נשחק שוב.', 'metadata': {'category_depth': 0, 'page_number': 1, 'languages': ['heb'], 'filename': 'החלפת קם תחנות בדיקה.docx', 'filetype': 'application/vnd.openxmlformats-officedocument.wordprocessingml.document'}}\n"
     ]
    },
    {
     "name": "stderr",
     "output_type": "stream",
     "text": [
      "INFO: HTTP Request: POST https://api.openai.com/v1/chat/completions \"HTTP/1.1 200 OK\"\n"
     ]
    },
    {
     "name": "stdout",
     "output_type": "stream",
     "text": [
      "{'type': 'ListItem', 'element_id': '6e304e816895565e133493c5a7760ad6', 'text': 'בתאריך 12.11.2024 בעבודה מק\"ט 581433 לוט 242668277-03 מספר שקית 291, נבדקה המכונה שוב ולהלן הממצאים:', 'metadata': {'category_depth': 0, 'page_number': 1, 'languages': ['heb'], 'filename': 'החלפת קם תחנות בדיקה.docx', 'filetype': 'application/vnd.openxmlformats-officedocument.wordprocessingml.document'}}\n"
     ]
    },
    {
     "name": "stderr",
     "output_type": "stream",
     "text": [
      "INFO: HTTP Request: POST https://api.openai.com/v1/chat/completions \"HTTP/1.1 200 OK\"\n"
     ]
    },
    {
     "name": "stdout",
     "output_type": "stream",
     "text": [
      "{'type': 'ListItem', 'element_id': '105f88536e4216e876cb63427bb14bf1', 'text': 'הקאם ועוקב הקאם נשחקו - הוחלפו בחדשים', 'metadata': {'category_depth': 0, 'emphasized_text_contents': ['הוחלפו בחדשים'], 'emphasized_text_tags': ['b'], 'page_number': 1, 'languages': ['heb'], 'filename': 'החלפת קם תחנות בדיקה.docx', 'filetype': 'application/vnd.openxmlformats-officedocument.wordprocessingml.document'}}\n"
     ]
    },
    {
     "name": "stderr",
     "output_type": "stream",
     "text": [
      "INFO: HTTP Request: POST https://api.openai.com/v1/chat/completions \"HTTP/1.1 200 OK\"\n"
     ]
    },
    {
     "name": "stdout",
     "output_type": "stream",
     "text": [
      "{'type': 'ListItem', 'element_id': 'a54de43a8ebf532d1ba22cec218e0e94', 'text': 'תחנה 24 - כשהתחנה יורדת הכי למטה, היא נעצרת על הבלוק, ז\"א לא היה רווח בין הבלוק הקבוע לבלוק הדינמי, אבל במצב הזה נבדק עוקב הקאם ונראה שהוא לא מסתובב ז\"א שהתחנה תקינה והקאם לא נפרד מעוקב הקאם. בכל זה נדרש לכוון שיהיה רווח בטחון- לפחות כמה מ\"מטרים.', 'metadata': {'category_depth': 0, 'emphasized_text_contents': ['תחנה 24'], 'emphasized_text_tags': ['b'], 'page_number': 2, 'languages': ['heb'], 'filename': 'החלפת קם תחנות בדיקה.docx', 'filetype': 'application/vnd.openxmlformats-officedocument.wordprocessingml.document'}}\n"
     ]
    },
    {
     "name": "stderr",
     "output_type": "stream",
     "text": [
      "INFO: HTTP Request: POST https://api.openai.com/v1/chat/completions \"HTTP/1.1 200 OK\"\n"
     ]
    },
    {
     "name": "stdout",
     "output_type": "stream",
     "text": [
      "{'type': 'ListItem', 'element_id': 'daa345baa72261756a6a2ed3aff365e9', 'text': 'תחנת האומים- תמיכת הגוף בזמן נעיצת האום:', 'metadata': {'category_depth': 0, 'page_number': 2, 'languages': ['heb'], 'filename': 'החלפת קם תחנות בדיקה.docx', 'filetype': 'application/vnd.openxmlformats-officedocument.wordprocessingml.document'}}\n"
     ]
    },
    {
     "name": "stderr",
     "output_type": "stream",
     "text": [
      "INFO: HTTP Request: POST https://api.openai.com/v1/chat/completions \"HTTP/1.1 200 OK\"\n"
     ]
    },
    {
     "name": "stdout",
     "output_type": "stream",
     "text": [
      "{'type': 'ListItem', 'element_id': '3c17097b39c108fc1bab18c6e244cba9', 'text': 'כשהתחנה במצב נעיצה הבורג (המעצור המכני) נגע בבלוק שמחזיק אותו - הושחז הבלוק.', 'metadata': {'category_depth': 1, 'page_number': 2, 'languages': ['heb'], 'filename': 'החלפת קם תחנות בדיקה.docx', 'filetype': 'application/vnd.openxmlformats-officedocument.wordprocessingml.document', 'parent_id': 'daa345baa72261756a6a2ed3aff365e9'}}\n"
     ]
    },
    {
     "name": "stderr",
     "output_type": "stream",
     "text": [
      "INFO: HTTP Request: POST https://api.openai.com/v1/chat/completions \"HTTP/1.1 200 OK\"\n"
     ]
    },
    {
     "name": "stdout",
     "output_type": "stream",
     "text": [
      "{'type': 'ListItem', 'element_id': 'a00c264cac8fed795a8cd8acd867d265', 'text': 'הבורג העליון שמחזיק את כל המכלול של המעצור המכני נשבר- הוחלף בחדש.', 'metadata': {'category_depth': 1, 'page_number': 2, 'languages': ['heb'], 'filename': 'החלפת קם תחנות בדיקה.docx', 'filetype': 'application/vnd.openxmlformats-officedocument.wordprocessingml.document', 'parent_id': 'daa345baa72261756a6a2ed3aff365e9'}}\n"
     ]
    },
    {
     "name": "stderr",
     "output_type": "stream",
     "text": [
      "INFO: HTTP Request: POST https://api.openai.com/v1/chat/completions \"HTTP/1.1 200 OK\"\n"
     ]
    }
   ],
   "source": [
    "translated_dict = []\n",
    "for i in range(0,10):\n",
    "    print(response[i])\n",
    "    translated_text = get_openai_response(response[i]['text'],'he','en')\n",
    "    translated_dict.append({\"type\": response[i]['type'], \"text\": translated_text})\n",
    "    "
   ]
  },
  {
   "cell_type": "code",
   "execution_count": 48,
   "metadata": {},
   "outputs": [
    {
     "data": {
      "text/plain": [
       "[{'type': 'NarrativeText',\n",
       "  'text': 'Replacement of cam (532550) that drives the support and testing stations from the machine center on machine 222'},\n",
       " {'type': 'UncategorizedText',\n",
       "  'text': 'Registrar: Tzvika Ivgi and Fadi Slimiman. 12.12.2024'},\n",
       " {'type': 'UncategorizedText',\n",
       "  'text': 'Technical operations team: Austin Ashmoz, Ghassan Maroun.'},\n",
       " {'type': 'NarrativeText',\n",
       "  'text': 'Background: Over the past year the same cam has been replaced twice (before 11/2024), and the spring piston was replaced once (for extra safety). Each time, after almost two months, the cam wore out again.'},\n",
       " {'type': 'ListItem',\n",
       "  'text': 'On 12.11.2024, in work order No. 581433, lot 242668277-03, bag number 291, the machine was inspected again and the findings are as follows:'},\n",
       " {'type': 'ListItem',\n",
       "  'text': 'The cam and the cam follower were worn out – replaced with new ones.'},\n",
       " {'type': 'ListItem',\n",
       "  'text': 'Station 24 – when the station descends to its lowest position, it stops on the block, meaning there was no gap between the fixed block and the dynamic block. However, in this state the cam follower was checked and it appears not to rotate, meaning the station is functioning correctly and the cam has not separated from the cam follower. In all this, it is necessary to adjust for a safety clearance – at least a few millimetres.'},\n",
       " {'type': 'ListItem',\n",
       "  'text': 'Screw station – body support during screw insertion.'},\n",
       " {'type': 'ListItem',\n",
       "  'text': 'When the station is in clamping mode the screw (mechanical stop) touched the block holding it – the block was ground.'},\n",
       " {'type': 'ListItem',\n",
       "  'text': 'The upper screw holding the entire mechanical stop assembly broke and was replaced with a new one.'}]"
      ]
     },
     "execution_count": 48,
     "metadata": {},
     "output_type": "execute_result"
    }
   ],
   "source": [
    "translated_dict"
   ]
  }
 ],
 "metadata": {
  "kernelspec": {
   "display_name": ".venv",
   "language": "python",
   "name": "python3"
  },
  "language_info": {
   "codemirror_mode": {
    "name": "ipython",
    "version": 3
   },
   "file_extension": ".py",
   "mimetype": "text/x-python",
   "name": "python",
   "nbconvert_exporter": "python",
   "pygments_lexer": "ipython3",
   "version": "3.12.9"
  }
 },
 "nbformat": 4,
 "nbformat_minor": 2
}
