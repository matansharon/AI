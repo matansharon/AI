{
 "cells": [
  {
   "cell_type": "code",
   "execution_count": 41,
   "metadata": {},
   "outputs": [],
   "source": [
    "from openai import OpenAI\n",
    "openai_client = OpenAI()\n",
    "def get_openai_response(text,src_lang='en', tgt_lang='he'):\n",
    "    completion = openai_client.chat.completions.create(\n",
    "        model=\"o4-mini-2025-04-16\",\n",
    "        messages=[\n",
    "            {\n",
    "                'role': 'assistant',\n",
    "                'content': f\"\"\"You are a professional translator. Your task is to translate the text from {src_lang} to {tgt_lang}. \n",
    "                'You must return the translation without any additional text. \n",
    "                'You must not return the original text. \n",
    "                the document are an engineering document,specific to the field manufacture engendering on the medical devices industry. \n",
    "                \"\"\"\n",
    "            },\n",
    "            {\n",
    "                \"role\": \"user\",\n",
    "                \"content\": f\"Translate this text to Hebrew: {text} just return the translation without any additional text.\"\n",
    "            }\n",
    "        ]\n",
    "    )\n",
    "\n",
    "    return completion.choices[0].message.content"
   ]
  },
  {
   "cell_type": "code",
   "execution_count": 82,
   "metadata": {},
   "outputs": [],
   "source": [
    "import os, json\n",
    "\n",
    "import unstructured_client\n",
    "from unstructured_client.models import operations, shared\n",
    "\n",
    "client = unstructured_client.UnstructuredClient(\n",
    "    api_key_auth=os.getenv(\"UNSTRUCTURED_API_KEY\")\n",
    ")\n",
    "def get_list_of_elements_from_file_with_unstructured_client(file_path:str,src_lang='he', tgt_lang='en'):\n",
    "    \"\"\"\n",
    "    This function uses the Unstructured Client to process a file and return a list of elements.\n",
    "    :param filename: The path to the input file.\n",
    "    :param src_lang: Source language for translation.\n",
    "    :param tgt_lang: Target language for translation.\n",
    "    :return: List of elements processed from the file.\n",
    "    \"\"\"\n",
    "    \n",
    "\n",
    "    import unstructured_client\n",
    "    from unstructured_client.models import operations, shared\n",
    "\n",
    "    client = unstructured_client.UnstructuredClient(\n",
    "        api_key_auth=os.getenv(\"UNSTRUCTURED_API_KEY\")\n",
    "    )\n",
    "\n",
    "    filename = file_path\n",
    "\n",
    "    req = operations.PartitionRequest(\n",
    "        partition_parameters=shared.PartitionParameters(\n",
    "            files=shared.Files(\n",
    "                content=open(filename, \"rb\"),\n",
    "                file_name=filename,\n",
    "            ),\n",
    "            strategy=shared.Strategy.HI_RES,\n",
    "            # vlm_model=\"gpt-4o\",\n",
    "            # vlm_model_provider=\"openai\",\n",
    "            # languages=['eng'],\n",
    "            # split_pdf_page=True,            # If True, splits the PDF file into smaller chunks of pages.\n",
    "            # split_pdf_allow_failed=True,    # If True, the partitioning continues even if some pages fail.\n",
    "            # split_pdf_concurrency_level=15  # Set the number of concurrent request to the maximum value: 15.\n",
    "        ),\n",
    "    )\n",
    "\n",
    "    try:\n",
    "        res = client.general.partition(\n",
    "            request=req\n",
    "        )\n",
    "        element_dicts = [element for element in res.elements]\n",
    "        return element_dicts\n",
    "        # Print the processed data's first element only.\n",
    "        # print(element_dicts[0])\n",
    "\n",
    "        # Write the processed data to a local file.\n",
    "        # json_elements = json.dumps(element_dicts, indent=2)\n",
    "\n",
    "        # with open(\"PATH_TO_OUTPUT_FILE\", \"w\") as file:\n",
    "        #     file.write(json_elements)\n",
    "    except Exception as e:\n",
    "        print(e)"
   ]
  },
  {
   "cell_type": "code",
   "execution_count": 85,
   "metadata": {},
   "outputs": [
    {
     "name": "stderr",
     "output_type": "stream",
     "text": [
      "INFO: HTTP Request: POST https://api.unstructuredapp.io/general/v0/general \"HTTP/1.1 200 OK\"\n"
     ]
    }
   ],
   "source": [
    "response= get_list_of_elements_from_file_with_unstructured_client(\"החלפת קם תחנות בדיקה.docx\")"
   ]
  },
  {
   "cell_type": "code",
   "execution_count": 87,
   "metadata": {},
   "outputs": [
    {
     "name": "stdout",
     "output_type": "stream",
     "text": [
      "{'type': 'NarrativeText', 'element_id': 'aacb8d6078f4f69252e06efdfe043cda', 'text': 'החלפת קאם (532550) המניע ממרכז המכונה את תחנות התמיכה והבדיקה במכונה 222', 'metadata': {'category_depth': 0, 'emphasized_text_contents': ['החלפת ק', 'א', 'ם (532550) המניע', 'ממרכז המכונה', 'את תחנות', 'התמיכה ו', 'הבדיקה במכונה 222'], 'emphasized_text_tags': ['b', 'b', 'b', 'b', 'b', 'b', 'b'], 'page_number': 1, 'languages': ['heb'], 'filename': 'החלפת קם תחנות בדיקה.docx', 'filetype': 'application/vnd.openxmlformats-officedocument.wordprocessingml.document'}}\n",
      "{'type': 'UncategorizedText', 'element_id': 'c8cf54a405a20ba89e5c5015033beaba', 'text': 'רשם: צביקה איבגי ופאדי סלימאן. 12.12.2024', 'metadata': {'category_depth': 0, 'page_number': 1, 'languages': ['heb'], 'filename': 'החלפת קם תחנות בדיקה.docx', 'filetype': 'application/vnd.openxmlformats-officedocument.wordprocessingml.document'}}\n",
      "{'type': 'UncategorizedText', 'element_id': '05eb9af97472376b97cdde5ea35c0ddf', 'text': 'צוות טכני מבצע: אוסטין אשמוז, גסאן מארון.', 'metadata': {'category_depth': 0, 'page_number': 1, 'languages': ['heb'], 'filename': 'החלפת קם תחנות בדיקה.docx', 'filetype': 'application/vnd.openxmlformats-officedocument.wordprocessingml.document'}}\n",
      "{'type': 'NarrativeText', 'element_id': '86c80792062065239e81986ba980a628', 'text': 'רקע: בשנה האחרונה הוחלף אותו קאם פעמיים (לפני 11/2024), וגם בוכנת הקפיץ הוחלפה פעם אחת (לייתר בטחון). בכל פעם כעבור כמעט חודשיים הקאם נשחק שוב.', 'metadata': {'category_depth': 0, 'page_number': 1, 'languages': ['heb'], 'filename': 'החלפת קם תחנות בדיקה.docx', 'filetype': 'application/vnd.openxmlformats-officedocument.wordprocessingml.document'}}\n",
      "{'type': 'ListItem', 'element_id': '6e304e816895565e133493c5a7760ad6', 'text': 'בתאריך 12.11.2024 בעבודה מק\"ט 581433 לוט 242668277-03 מספר שקית 291, נבדקה המכונה שוב ולהלן הממצאים:', 'metadata': {'category_depth': 0, 'page_number': 1, 'languages': ['heb'], 'filename': 'החלפת קם תחנות בדיקה.docx', 'filetype': 'application/vnd.openxmlformats-officedocument.wordprocessingml.document'}}\n",
      "{'type': 'ListItem', 'element_id': '105f88536e4216e876cb63427bb14bf1', 'text': 'הקאם ועוקב הקאם נשחקו - הוחלפו בחדשים', 'metadata': {'category_depth': 0, 'emphasized_text_contents': ['הוחלפו בחדשים'], 'emphasized_text_tags': ['b'], 'page_number': 1, 'languages': ['heb'], 'filename': 'החלפת קם תחנות בדיקה.docx', 'filetype': 'application/vnd.openxmlformats-officedocument.wordprocessingml.document'}}\n",
      "{'type': 'ListItem', 'element_id': 'a54de43a8ebf532d1ba22cec218e0e94', 'text': 'תחנה 24 - כשהתחנה יורדת הכי למטה, היא נעצרת על הבלוק, ז\"א לא היה רווח בין הבלוק הקבוע לבלוק הדינמי, אבל במצב הזה נבדק עוקב הקאם ונראה שהוא לא מסתובב ז\"א שהתחנה תקינה והקאם לא נפרד מעוקב הקאם. בכל זה נדרש לכוון שיהיה רווח בטחון- לפחות כמה מ\"מטרים.', 'metadata': {'category_depth': 0, 'emphasized_text_contents': ['תחנה 24'], 'emphasized_text_tags': ['b'], 'page_number': 2, 'languages': ['heb'], 'filename': 'החלפת קם תחנות בדיקה.docx', 'filetype': 'application/vnd.openxmlformats-officedocument.wordprocessingml.document'}}\n",
      "{'type': 'ListItem', 'element_id': '2efe671e77a0b1a800f59a8339837720', 'text': 'תחנת האומים- תמיכת הגוף בזמן נעיצת האום:', 'metadata': {'category_depth': 0, 'page_number': 2, 'languages': ['heb'], 'filename': 'החלפת קם תחנות בדיקה.docx', 'filetype': 'application/vnd.openxmlformats-officedocument.wordprocessingml.document'}}\n",
      "{'type': 'ListItem', 'element_id': '2c83ac494b5e8a14633e2508ac16207f', 'text': 'כשהתחנה במצב נעיצה הבורג (המעצור המכני) נגע בבלוק שמחזיק אותו - הושחז הבלוק.', 'metadata': {'category_depth': 1, 'page_number': 2, 'languages': ['heb'], 'filename': 'החלפת קם תחנות בדיקה.docx', 'filetype': 'application/vnd.openxmlformats-officedocument.wordprocessingml.document', 'parent_id': '2efe671e77a0b1a800f59a8339837720'}}\n",
      "{'type': 'ListItem', 'element_id': 'cdb380683c0f06ba1b82616e81b0584e', 'text': 'הבורג העליון שמחזיק את כל המכלול של המעצור המכני נשבר- הוחלף בחדש.', 'metadata': {'category_depth': 1, 'page_number': 2, 'languages': ['heb'], 'filename': 'החלפת קם תחנות בדיקה.docx', 'filetype': 'application/vnd.openxmlformats-officedocument.wordprocessingml.document', 'parent_id': '2efe671e77a0b1a800f59a8339837720'}}\n",
      "{'type': 'ListItem', 'element_id': 'd0a54e47ea382db25b8223aabd1790fb', 'text': 'כשהתחנה במצב סרק (בסיבוב השולחן), ראש בורג המעצור פגע בפלטת הבסיס, דבר שיכול היה לגרום ללחיצה מכאנית על הקאם באזור הפגוע - תוקן כך שיש מרווח גדול בין הבורג לפלטה.', 'metadata': {'category_depth': 1, 'page_number': 2, 'languages': ['heb'], 'filename': 'החלפת קם תחנות בדיקה.docx', 'filetype': 'application/vnd.openxmlformats-officedocument.wordprocessingml.document', 'parent_id': '2efe671e77a0b1a800f59a8339837720'}}\n",
      "{'type': 'ListItem', 'element_id': 'f3e39069af0eb33aa5984fb608588912', 'text': 'כשהתומך של הגוף היה במצב הכי קידמי המפרק לא היה ישר – כוון שיהיה ישר.', 'metadata': {'category_depth': 1, 'page_number': 2, 'languages': ['heb'], 'filename': 'החלפת קם תחנות בדיקה.docx', 'filetype': 'application/vnd.openxmlformats-officedocument.wordprocessingml.document', 'parent_id': '2efe671e77a0b1a800f59a8339837720'}}\n",
      "{'type': 'NarrativeText', 'element_id': '992f3e4ad2d334301d863420cfe35853', 'text': 'הוגדל החריץ ממקם בוקסות תמיכות הגוף במישור הסיבובי ב כ 2מ\"מ, כמו כן כורסם ממנו 1 מ\"מ בחלק האחורי שלו', 'metadata': {'category_depth': 0, 'page_number': 3, 'languages': ['heb'], 'filename': 'החלפת קם תחנות בדיקה.docx', 'filetype': 'application/vnd.openxmlformats-officedocument.wordprocessingml.document'}}\n",
      "{'type': 'NarrativeText', 'element_id': 'e57dadd645e67d2e53fed75b0608620a', 'text': 'המכונה הופעלה לאחר הכיוונים, ונבדקה כעבור שבוע. נבדקה ע\"י טכנאי ולא נראו רעידות.', 'metadata': {'category_depth': 0, 'page_number': 3, 'languages': ['heb'], 'filename': 'החלפת קם תחנות בדיקה.docx', 'filetype': 'application/vnd.openxmlformats-officedocument.wordprocessingml.document'}}\n",
      "{'type': 'ListItem', 'element_id': '8e07ae99d13700df916405c7ab92978f', 'text': 'בתאריך 24/11/24 בבדיקה חוזרת נראו שוב רעידות בשולחן תחנות בדיקה.', 'metadata': {'category_depth': 0, 'emphasized_text_contents': ['בתאריך 24/', '11', '/24'], 'emphasized_text_tags': ['b', 'b', 'b'], 'page_number': 3, 'languages': ['heb'], 'filename': 'החלפת קם תחנות בדיקה.docx', 'filetype': 'application/vnd.openxmlformats-officedocument.wordprocessingml.document'}}\n",
      "{'type': 'ListItem', 'element_id': 'de7dfc6a947f5b2a5707b1ee8a965297', 'text': 'בבדיקה נראה שעוקב הקאם תפוס, ולא מגורז – הוחלף.', 'metadata': {'category_depth': 0, 'page_number': 3, 'languages': ['heb'], 'filename': 'החלפת קם תחנות בדיקה.docx', 'filetype': 'application/vnd.openxmlformats-officedocument.wordprocessingml.document'}}\n",
      "{'type': 'ListItem', 'element_id': '0bf1048dec207da19253da89c0807d1a', 'text': 'לאחר פירוקו נראו עליו סימני שחיקה ולא נראה גריז חדש.', 'metadata': {'category_depth': 0, 'page_number': 3, 'languages': ['heb'], 'filename': 'החלפת קם תחנות בדיקה.docx', 'filetype': 'application/vnd.openxmlformats-officedocument.wordprocessingml.document'}}\n",
      "{'type': 'ListItem', 'element_id': '3b9a26c85b502cc4ec72552dd32439a6', 'text': 'על הקאם החדש נראו סימני שחיקה בשפת הקאם, הוחלט להחליפו בפעולת המשך.', 'metadata': {'category_depth': 0, 'page_number': 3, 'languages': ['heb'], 'filename': 'החלפת קם תחנות בדיקה.docx', 'filetype': 'application/vnd.openxmlformats-officedocument.wordprocessingml.document'}}\n",
      "{'type': 'ListItem', 'element_id': '858d5f9e603063bed32163e17841c06e', 'text': 'פורק צינור הגירוז, בבדיקה נראה שהוא ריק מגריז, לא הצלחנו להחדיר לתוכו גריז באמצעות מגרזת ידנית – הוחלף השסתום שמתחבר לחנוכיית גירוז, והוחדר גריז לצינור.', 'metadata': {'category_depth': 0, 'page_number': 4, 'languages': ['heb'], 'filename': 'החלפת קם תחנות בדיקה.docx', 'filetype': 'application/vnd.openxmlformats-officedocument.wordprocessingml.document'}}\n",
      "{'type': 'ListItem', 'element_id': '307321643f045cb39980770f0e39c1c7', 'text': '         לאחר הרכבה מחדש על הזרוע עם עוקב קאם, נצפה שיוצא גריז מהמיסב בגירוז ידני.', 'metadata': {'category_depth': 0, 'page_number': 4, 'languages': ['heb'], 'filename': 'החלפת קם תחנות בדיקה.docx', 'filetype': 'application/vnd.openxmlformats-officedocument.wordprocessingml.document'}}\n",
      "{'type': 'ListItem', 'element_id': 'aa70b38f836cfc281da54acb51d5161f', 'text': 'בנוסף בוצעה בדיקה של הציר המרכזי לחופש תנועה לאחר ניתוק כל התחנות שמחוברות אליו - נמצא תקין.', 'metadata': {'category_depth': 0, 'page_number': 4, 'languages': ['heb'], 'filename': 'החלפת קם תחנות בדיקה.docx', 'filetype': 'application/vnd.openxmlformats-officedocument.wordprocessingml.document'}}\n",
      "{'type': 'ListItem', 'element_id': '2948876dea2b56b41d6fad8e8257cb6f', 'text': 'נבדק החלק התחתון של מיסב התנועה האנכי התחתון - נמצא שהמחזיק של', 'metadata': {'category_depth': 0, 'page_number': 4, 'languages': ['heb'], 'filename': 'החלפת קם תחנות בדיקה.docx', 'filetype': 'application/vnd.openxmlformats-officedocument.wordprocessingml.document'}}\n",
      "{'type': 'ListItem', 'element_id': '5e749e91f5ed9aaf891d78801d11b2a5', 'text': '       המיסב הממרכז תחתון, עלול לגעת בברגי המיסב – נמצא רווח של 0.4 ממ בלבד. ', 'metadata': {'category_depth': 0, 'page_number': 4, 'languages': ['heb'], 'filename': 'החלפת קם תחנות בדיקה.docx', 'filetype': 'application/vnd.openxmlformats-officedocument.wordprocessingml.document'}}\n",
      "{'type': 'ListItem', 'element_id': '9a3ea6656d8473b2012a5f75d419aad4', 'text': 'על הבלוק שמעל הברגים נמצאו סימני מגע מהבורג. ', 'metadata': {'category_depth': 0, 'page_number': 4, 'languages': ['heb'], 'filename': 'החלפת קם תחנות בדיקה.docx', 'filetype': 'application/vnd.openxmlformats-officedocument.wordprocessingml.document'}}\n",
      "{'type': 'ListItem', 'element_id': '93f488f443ef1df9a23ac333996d0073', 'text': 'הוחלט להגדיל את המרחק בפעולת המשך.', 'metadata': {'category_depth': 0, 'page_number': 4, 'languages': ['heb'], 'filename': 'החלפת קם תחנות בדיקה.docx', 'filetype': 'application/vnd.openxmlformats-officedocument.wordprocessingml.document'}}\n",
      "{'type': 'ListItem', 'element_id': '90835ddb368df8cceb9bf4c43339e463', 'text': 'בתאריך 2/12/24 ביצענו פעולת המשך:', 'metadata': {'category_depth': 0, 'page_number': 4, 'languages': ['heb'], 'filename': 'החלפת קם תחנות בדיקה.docx', 'filetype': 'application/vnd.openxmlformats-officedocument.wordprocessingml.document'}}\n",
      "{'type': 'ListItem', 'element_id': '405ab481941de393c40c2bb4a753bb93', 'text': 'החלפת קאם חדש, בדיקת יציאת גריז בעוקב הקאם וגירוז היקפי', 'metadata': {'category_depth': 0, 'page_number': 4, 'languages': ['heb'], 'filename': 'החלפת קם תחנות בדיקה.docx', 'filetype': 'application/vnd.openxmlformats-officedocument.wordprocessingml.document'}}\n",
      "{'type': 'ListItem', 'element_id': 'e6b4959daaab0793f1fc7f0241627dd5', 'text': 'הגדלת מרווח בין מיסב אנכי לבלוק עליון בכ – 5 מ\"מ', 'metadata': {'category_depth': 0, 'page_number': 4, 'languages': ['heb'], 'filename': 'החלפת קם תחנות בדיקה.docx', 'filetype': 'application/vnd.openxmlformats-officedocument.wordprocessingml.document'}}\n",
      "{'type': 'ListItem', 'element_id': '25870bfeb3a504370f7ec5eae3920ee8', 'text': 'הגדלנו את תדירות הגירוז האוטומטי במכונה מפעם ב 40,000 לפעם ב 30,000.', 'metadata': {'category_depth': 0, 'page_number': 4, 'languages': ['heb'], 'filename': 'החלפת קם תחנות בדיקה.docx', 'filetype': 'application/vnd.openxmlformats-officedocument.wordprocessingml.document'}}\n",
      "{'type': 'ListItem', 'element_id': 'ed814c5639cc7769a2d05836cb6cd5df', 'text': 'בתאריך 8/12/24 ביצענו בדיקה חוזרת לקירוז הקאם:', 'metadata': {'category_depth': 0, 'page_number': 5, 'languages': ['heb'], 'filename': 'החלפת קם תחנות בדיקה.docx', 'filetype': 'application/vnd.openxmlformats-officedocument.wordprocessingml.document'}}\n",
      "{'type': 'ListItem', 'element_id': '931752328d0d97c131207b9b8232c2ec', 'text': 'תוך כדי הבדיקה, מצאנו שיש חופש גדול בציר שעליו יושבת הזרוע.', 'metadata': {'category_depth': 0, 'page_number': 5, 'languages': ['heb'], 'filename': 'החלפת קם תחנות בדיקה.docx', 'filetype': 'application/vnd.openxmlformats-officedocument.wordprocessingml.document'}}\n",
      "{'type': 'ListItem', 'element_id': '7cd8bfe271e31705f3c673d1f5fdca82', 'text': 'ביצענו החלפה של המיסבים בזרוע זו, ובזרוע השנייה שיושבת על הציר (מסובב המקבע).', 'metadata': {'category_depth': 0, 'page_number': 5, 'languages': ['heb'], 'filename': 'החלפת קם תחנות בדיקה.docx', 'filetype': 'application/vnd.openxmlformats-officedocument.wordprocessingml.document'}}\n",
      "{'type': 'ListItem', 'element_id': '4525f832c24276a6aff22bf8ff00e6e1', 'text': 'ראינו שכמות הגריז שיוצאת מעוקב הקאם קטנה.', 'metadata': {'category_depth': 0, 'page_number': 5, 'languages': ['heb'], 'filename': 'החלפת קם תחנות בדיקה.docx', 'filetype': 'application/vnd.openxmlformats-officedocument.wordprocessingml.document'}}\n",
      "{'type': 'ListItem', 'element_id': '9facf953cefeed03ea669fe69b7a07ec', 'text': 'התקנו שסתום חדש על צינורית הגריז, אך לא יצא גריז כשהתחברנו למפצל.', 'metadata': {'category_depth': 0, 'page_number': 5, 'languages': ['heb'], 'filename': 'החלפת קם תחנות בדיקה.docx', 'filetype': 'application/vnd.openxmlformats-officedocument.wordprocessingml.document'}}\n",
      "{'type': 'ListItem', 'element_id': '62e3fb21ad1e70de5786651b27f5a109', 'text': 'עקב כך, חיברנו לעוקב הקאם הזה צינור גריז של זרוע אחרת (סמוכה ויותר נגישה), ולזרוע ממנה ניתקנו - חיברנו צינור גירוז עם מחבר Y מצינור גירוז אחר.', 'metadata': {'category_depth': 0, 'page_number': 5, 'languages': ['heb'], 'filename': 'החלפת קם תחנות בדיקה.docx', 'filetype': 'application/vnd.openxmlformats-officedocument.wordprocessingml.document'}}\n",
      "{'type': 'ListItem', 'element_id': '56ae2c94a725d39d48232697b71c90ac', 'text': 'ניר יחפש שסתומים עם חיבור לצינור 4 מובנה.', 'metadata': {'category_depth': 0, 'page_number': 5, 'languages': ['heb'], 'filename': 'החלפת קם תחנות בדיקה.docx', 'filetype': 'application/vnd.openxmlformats-officedocument.wordprocessingml.document'}}\n",
      "{'type': 'ListItem', 'element_id': '6ff8b834026df378af738538ac50e1ce', 'text': 'בבדיקה במכונה 221, ראינו שמוגדר בה גירוז כל 10,000 מחזורים.', 'metadata': {'category_depth': 0, 'page_number': 5, 'languages': ['heb'], 'filename': 'החלפת קם תחנות בדיקה.docx', 'filetype': 'application/vnd.openxmlformats-officedocument.wordprocessingml.document'}}\n",
      "{'type': 'ListItem', 'element_id': 'a99bdd324bda8f8b9c19e339782fda91', 'text': 'שינינו את ההגדרה ל 10,000 גם במכונה 222.', 'metadata': {'category_depth': 0, 'page_number': 5, 'languages': ['heb'], 'filename': 'החלפת קם תחנות בדיקה.docx', 'filetype': 'application/vnd.openxmlformats-officedocument.wordprocessingml.document'}}\n",
      "{'type': 'ListItem', 'element_id': '78396a1b3441480094567044f1884afc', 'text': 'בכל פולס גירוז – יוצאת טיפה קטנה של גריז בעוקב הקאם.', 'metadata': {'category_depth': 0, 'page_number': 5, 'languages': ['heb'], 'filename': 'החלפת קם תחנות בדיקה.docx', 'filetype': 'application/vnd.openxmlformats-officedocument.wordprocessingml.document'}}\n",
      "{'type': 'ListItem', 'element_id': '8a95e4e7ea997d3860c2b794c8a3871c', 'text': 'פעילות המשך שיש לבצע בשבועות הקרובים:', 'metadata': {'category_depth': 0, 'emphasized_text_contents': ['פעילות המשך שיש לבצע בשבועות הקרובים:'], 'emphasized_text_tags': ['b'], 'page_number': 5, 'languages': ['heb'], 'filename': 'החלפת קם תחנות בדיקה.docx', 'filetype': 'application/vnd.openxmlformats-officedocument.wordprocessingml.document'}}\n",
      "{'type': 'ListItem', 'element_id': '1016865ae6e57cbc314fc64ef661d03a', 'text': 'בדיקת גירוז עוקב הקאם בעוד שבוע, ולאחר מכן אחת לשבועיים למשך עד הטיפול התלת חודשי הבא.', 'metadata': {'category_depth': 0, 'page_number': 5, 'languages': ['heb'], 'filename': 'החלפת קם תחנות בדיקה.docx', 'filetype': 'application/vnd.openxmlformats-officedocument.wordprocessingml.document'}}\n",
      "{'type': 'ListItem', 'element_id': '8b3dc2ba4cf1a192ac936c6005c0be99', 'text': 'מעקב לאי הופעת רעידות בשולחן תחנות הבדיקה אחת לשבוע בחודש הקרוב, ולאחר מכן ניתן לרווח את תדירות הבדיקה.', 'metadata': {'category_depth': 0, 'page_number': 5, 'languages': ['heb'], 'filename': 'החלפת קם תחנות בדיקה.docx', 'filetype': 'application/vnd.openxmlformats-officedocument.wordprocessingml.document'}}\n",
      "{'type': 'ListItem', 'element_id': 'ca9dc5fb6e1c81f777c7d427a98f3a28', 'text': 'הזמנת שסתומי חיבור חדשים לצינורית הגריז, עם חיבור 4 ממ.', 'metadata': {'category_depth': 0, 'page_number': 5, 'languages': ['heb'], 'filename': 'החלפת קם תחנות בדיקה.docx', 'filetype': 'application/vnd.openxmlformats-officedocument.wordprocessingml.document'}}\n",
      "{'type': 'ListItem', 'element_id': '2ab9a4cb610aafa40d532a7a73095014', 'text': 'בתאריך 7/01/24 זיהנו רעידות קלות בתחנות הבדיקה', 'metadata': {'category_depth': 0, 'page_number': 5, 'languages': ['heb'], 'filename': 'החלפת קם תחנות בדיקה.docx', 'filetype': 'application/vnd.openxmlformats-officedocument.wordprocessingml.document'}}\n",
      "{'type': 'ListItem', 'element_id': '6e1f8b6b22595cea6349d2104fa250fa', 'text': 'בבדיקה התגלה שעוקב הקאם החל להישחק שוב. כמו כן הורגש שעוקב הקאם מתחמם בצורה לא סבירה. ', 'metadata': {'category_depth': 0, 'emphasized_text_contents': ['שעוקב הקאם'], 'emphasized_text_tags': ['b'], 'page_number': 5, 'languages': ['heb'], 'filename': 'החלפת קם תחנות בדיקה.docx', 'filetype': 'application/vnd.openxmlformats-officedocument.wordprocessingml.document'}}\n",
      "{'type': 'ListItem', 'element_id': '54d8639f87fd03b3324052af21d68d8a', 'text': 'בדקנו שוב את כל המכלול:', 'metadata': {'category_depth': 0, 'page_number': 5, 'languages': ['heb'], 'filename': 'החלפת קם תחנות בדיקה.docx', 'filetype': 'application/vnd.openxmlformats-officedocument.wordprocessingml.document'}}\n",
      "{'type': 'ListItem', 'element_id': '80955af037b62a279dd4f08f516dc6a5', 'text': 'נמצא שגם תפוח תחתון של המוט המקשר לזרוע נשחק.', 'metadata': {'category_depth': 0, 'emphasized_text_contents': ['תפוח תחתון'], 'emphasized_text_tags': ['b'], 'page_number': 5, 'languages': ['heb'], 'filename': 'החלפת קם תחנות בדיקה.docx', 'filetype': 'application/vnd.openxmlformats-officedocument.wordprocessingml.document'}}\n",
      "{'type': 'ListItem', 'element_id': '5afac98880b514abd8ec50f535540c6b', 'text': 'הוחלט להחליף שסתומי פריקה מהירה על הבוכנה, וכן להחליש את בולמי קצה המהלך בבוכנה.', 'metadata': {'category_depth': 0, 'page_number': 5, 'languages': ['heb'], 'filename': 'החלפת קם תחנות בדיקה.docx', 'filetype': 'application/vnd.openxmlformats-officedocument.wordprocessingml.document'}}\n",
      "{'type': 'ListItem', 'element_id': '60b1a3fffb561b8c3b1ef6776031998c', 'text': 'בנוסף צוות הנדסת ייצור (ליאור,  דובי, רותם) המליץ להעלות את הלחץ בתוך הבוכנה,  מתוך סברה שעוקב הקאם כן מתנתק מהזרוע בשלב ירידת הזרוע, ובהצמדות חזרה נוצרת מכה קטנה בין עוקב הקאם לקאם.', 'metadata': {'category_depth': 0, 'page_number': 5, 'languages': ['heb'], 'filename': 'החלפת קם תחנות בדיקה.docx', 'filetype': 'application/vnd.openxmlformats-officedocument.wordprocessingml.document'}}\n",
      "{'type': 'ListItem', 'element_id': '240ae1a41870ffcc3e1943b179ff4348', 'text': 'העלנו את הלחץ מ 4 בר ל 5 בר.', 'metadata': {'category_depth': 0, 'page_number': 5, 'languages': ['heb'], 'filename': 'החלפת קם תחנות בדיקה.docx', 'filetype': 'application/vnd.openxmlformats-officedocument.wordprocessingml.document'}}\n",
      "{'type': 'ListItem', 'element_id': '9adb08086ecd274418beda0c4562af88', 'text': '(ביצענו ניסוי בו הורדנו את הלחץ בבוכנה ל 2 בר, ואז ראינו שמתפתחות רעידות בתחנות הבדיקה גם בעלייה וגם בירידה)', 'metadata': {'category_depth': 0, 'page_number': 5, 'languages': ['heb'], 'filename': 'החלפת קם תחנות בדיקה.docx', 'filetype': 'application/vnd.openxmlformats-officedocument.wordprocessingml.document'}}\n",
      "{'type': 'ListItem', 'element_id': '422e3178f96e08dafd67912b551ec211', 'text': 'נבדק מהלך הבוכנה בשני מצבי הקיצון של הקאם:', 'metadata': {'category_depth': 0, 'page_number': 5, 'languages': ['heb'], 'filename': 'החלפת קם תחנות בדיקה.docx', 'filetype': 'application/vnd.openxmlformats-officedocument.wordprocessingml.document'}}\n",
      "{'type': 'ListItem', 'element_id': 'bd1f83ee4208a562e22184afe789c1f6', 'text': 'במצב שהבוכנה פתוחה לגמרי מול הזרוע - קיים חופש של 15 ממ  עד קצה מהלך הבוכנה.', 'metadata': {'category_depth': 0, 'page_number': 5, 'languages': ['heb'], 'filename': 'החלפת קם תחנות בדיקה.docx', 'filetype': 'application/vnd.openxmlformats-officedocument.wordprocessingml.document'}}\n",
      "{'type': 'ListItem', 'element_id': 'a5199c5e0f0559385952f1d755992701', 'text': 'במצב שהבוכנה סגורה לגמרי מול הזרוע - קיים חופש של 50 ממ  עד קצה מהלך הבוכנה.', 'metadata': {'category_depth': 0, 'page_number': 5, 'languages': ['heb'], 'filename': 'החלפת קם תחנות בדיקה.docx', 'filetype': 'application/vnd.openxmlformats-officedocument.wordprocessingml.document'}}\n",
      "{'type': 'ListItem', 'element_id': 'b24d43134db54ba55ebba6a1b8cce824', 'text': 'גירוז נבדק – תקין. עוקב הקאם נמצא עם גריז בתוכו.', 'metadata': {'category_depth': 0, 'emphasized_text_contents': ['גירוז'], 'emphasized_text_tags': ['b'], 'page_number': 5, 'languages': ['heb'], 'filename': 'החלפת קם תחנות בדיקה.docx', 'filetype': 'application/vnd.openxmlformats-officedocument.wordprocessingml.document'}}\n",
      "{'type': 'ListItem', 'element_id': 'd73f77069e4a616065aad7fc21ab7674', 'text': 'הקאם – יש פגיעה קטנה בנקודה בה הזרוע נמצאת במצב תחתון, כרגע גורם לרעידות מאוד קטנות.', 'metadata': {'category_depth': 0, 'emphasized_text_contents': ['הקאם'], 'emphasized_text_tags': ['b'], 'page_number': 5, 'languages': ['heb'], 'filename': 'החלפת קם תחנות בדיקה.docx', 'filetype': 'application/vnd.openxmlformats-officedocument.wordprocessingml.document'}}\n",
      "{'type': 'ListItem', 'element_id': 'f67a9a1d225d3345199c26c8f583c22a', 'text': 'בתאריך 20/01/20 בדקנו את הזרוע של תחנות הבדיקה במכונה 223 שבדלתון.', 'metadata': {'category_depth': 0, 'page_number': 6, 'languages': ['heb'], 'filename': 'החלפת קם תחנות בדיקה.docx', 'filetype': 'application/vnd.openxmlformats-officedocument.wordprocessingml.document'}}\n",
      "{'type': 'ListItem', 'element_id': 'ce6758ff22cd4dd221cab5d65bca87fc', 'text': 'הלחץ בבוכנת קפיץ – Bar 4 .', 'metadata': {'category_depth': 0, 'page_number': 6, 'languages': ['heb'], 'filename': 'החלפת קם תחנות בדיקה.docx', 'filetype': 'application/vnd.openxmlformats-officedocument.wordprocessingml.document'}}\n",
      "{'type': 'ListItem', 'element_id': 'b045b848c2ac10339e0d2666b66066ea', 'text': 'בתאריך 29/01/25 הופיעו רעידות בתחנה:', 'metadata': {'category_depth': 0, 'page_number': 6, 'languages': ['heb'], 'filename': 'החלפת קם תחנות בדיקה.docx', 'filetype': 'application/vnd.openxmlformats-officedocument.wordprocessingml.document'}}\n",
      "{'type': 'ListItem', 'element_id': '7a0c7b5513e632bdc88c5d18183253fd', 'text': 'עוקב הקאם מגורז היטב אבל יש סימני שחיקה.', 'metadata': {'category_depth': 0, 'page_number': 6, 'languages': ['heb'], 'filename': 'החלפת קם תחנות בדיקה.docx', 'filetype': 'application/vnd.openxmlformats-officedocument.wordprocessingml.document'}}\n",
      "{'type': 'ListItem', 'element_id': '09d05ab34d66021b938dff299202ed68', 'text': 'בתאריך 3/2/25 בוצעו הפעולות הבאות:', 'metadata': {'category_depth': 0, 'page_number': 7, 'languages': ['heb'], 'filename': 'החלפת קם תחנות בדיקה.docx', 'filetype': 'application/vnd.openxmlformats-officedocument.wordprocessingml.document'}}\n",
      "{'type': 'ListItem', 'element_id': '666da1efa7b7a8b31cbe37df3487bc49', 'text': 'החלפת מייסב תפוח תחתון במוט (היתה חסרה דיסקה בינו לבין בלוק המהלך)', 'metadata': {'category_depth': 0, 'page_number': 7, 'languages': ['heb'], 'filename': 'החלפת קם תחנות בדיקה.docx', 'filetype': 'application/vnd.openxmlformats-officedocument.wordprocessingml.document'}}\n",
      "{'type': 'ListItem', 'element_id': 'f4c93b33f7360388dc02305ac1f7e380', 'text': 'החלפת קאם ועוקב קאם (בתוספת טבעת בינו לזרוע)', 'metadata': {'category_depth': 0, 'page_number': 7, 'languages': ['heb'], 'filename': 'החלפת קם תחנות בדיקה.docx', 'filetype': 'application/vnd.openxmlformats-officedocument.wordprocessingml.document'}}\n",
      "{'type': 'ListItem', 'element_id': '1b7247f711f4805d9e808879eb451092', 'text': 'בדיקת חופשים במיסבי ציר הזרוע – תקין', 'metadata': {'category_depth': 0, 'page_number': 7, 'languages': ['heb'], 'filename': 'החלפת קם תחנות בדיקה.docx', 'filetype': 'application/vnd.openxmlformats-officedocument.wordprocessingml.document'}}\n",
      "{'type': 'ListItem', 'element_id': '5ebb1830f683d336a93490a5b145813b', 'text': 'בדיקת חופש תנועה של השולחן מעלה מטה, ובדיקת חוזרת מול תמיכת האום - תקין', 'metadata': {'category_depth': 0, 'page_number': 7, 'languages': ['heb'], 'filename': 'החלפת קם תחנות בדיקה.docx', 'filetype': 'application/vnd.openxmlformats-officedocument.wordprocessingml.document'}}\n",
      "{'type': 'ListItem', 'element_id': 'f9538ba184c44acc8911aa934ef1ef62', 'text': 'בדיקת מעבר גריז חופשי בין מחבר הצינור לתוך עוקב הקאם – תקין (תמונה 2+3)', 'metadata': {'category_depth': 0, 'page_number': 7, 'languages': ['heb'], 'filename': 'החלפת קם תחנות בדיקה.docx', 'filetype': 'application/vnd.openxmlformats-officedocument.wordprocessingml.document'}}\n",
      "{'type': 'ListItem', 'element_id': 'f2d37f44e23118d0add642204f6ffae8', 'text': 'העלאת לחץ הבוכנה ל 5.5 בר', 'metadata': {'category_depth': 0, 'page_number': 7, 'languages': ['heb'], 'filename': 'החלפת קם תחנות בדיקה.docx', 'filetype': 'application/vnd.openxmlformats-officedocument.wordprocessingml.document'}}\n",
      "{'type': 'ListItem', 'element_id': '128fa9a810ae8107b167309ada168d83', 'text': 'וידוא הגדרת גירוז אוטומטי – כל 10,000 מחזורים', 'metadata': {'category_depth': 0, 'page_number': 7, 'languages': ['heb'], 'filename': 'החלפת קם תחנות בדיקה.docx', 'filetype': 'application/vnd.openxmlformats-officedocument.wordprocessingml.document'}}\n",
      "{'type': 'ListItem', 'element_id': 'd0486a59997f885829776b2c103d03a6', 'text': 'כיוון מקבילות שני הבלוק שמובילים את המוט שמעלה ומוריד את השולחן הקטן (תמונה 1)', 'metadata': {'category_depth': 0, 'page_number': 7, 'languages': ['heb'], 'filename': 'החלפת קם תחנות בדיקה.docx', 'filetype': 'application/vnd.openxmlformats-officedocument.wordprocessingml.document'}}\n",
      "{'type': 'NarrativeText', 'element_id': '26f6ee894f0049f2abe8eec28c046efd', 'text': 'חשוב – באזור שנמצא מול תחנות 7-8 השולחן רועד קלות למרות החיזוקים ורעידות אלו נראות בתמיכות של תחנות הפלגים! אלו אינן רעידות שמגיעות מהקאם בשלב זה כשהכל תקין למטה.', 'metadata': {'category_depth': 0, 'page_number': 7, 'languages': ['heb'], 'filename': 'החלפת קם תחנות בדיקה.docx', 'filetype': 'application/vnd.openxmlformats-officedocument.wordprocessingml.document'}}\n",
      "{'type': 'NarrativeText', 'element_id': 'f6b2569a79de5404845452467352be30', 'text': 'בשלושת הקמים האחרונים הפגיעה הייתה באותה נקודה - במצב הסרק, בעת סיבוב השולחן.\\nבדקנו באזור הקאמים, תוך כדי תנועה. לא מצאנו גורמים אפשריים לפגיעה במקום שקורית בקאם.', 'metadata': {'category_depth': 0, 'emphasized_text_contents': ['בשלושת הקמים האחרונים הפגיעה הייתה באותה נקודה', '-', 'במצב הסרק', ', בעת סיבוב השולחן', '.'], 'emphasized_text_tags': ['b', 'b', 'b', 'b', 'b'], 'page_number': 8, 'languages': ['heb'], 'filename': 'החלפת קם תחנות בדיקה.docx', 'filetype': 'application/vnd.openxmlformats-officedocument.wordprocessingml.document'}}\n",
      "{'type': 'ListItem', 'element_id': '71c6bc9d08bd0fa1f485da2a5413bdf3', 'text': 'פעילות המשך שיש לבצע בשבועות הקרובים:', 'metadata': {'category_depth': 0, 'emphasized_text_contents': ['פעילות המשך שיש לבצע בשבועות הקרובים:'], 'emphasized_text_tags': ['b'], 'page_number': 9, 'languages': ['heb'], 'filename': 'החלפת קם תחנות בדיקה.docx', 'filetype': 'application/vnd.openxmlformats-officedocument.wordprocessingml.document'}}\n",
      "{'type': 'ListItem', 'element_id': 'df6051648bfd111c00dfc01842ac00e8', 'text': 'בדיקת גירוז עוקב הקאם בעוד שבוע, ולאחר מכן אחת לשבועיים למשך עד הטיפול התלת חודשי הבא.', 'metadata': {'category_depth': 0, 'page_number': 9, 'languages': ['heb'], 'filename': 'החלפת קם תחנות בדיקה.docx', 'filetype': 'application/vnd.openxmlformats-officedocument.wordprocessingml.document'}}\n",
      "{'type': 'ListItem', 'element_id': '596cd03c18d8e936ed74f925b43eb9b6', 'text': 'מעקב לאי הופעת רעידות בשולחן תחנות הבדיקה אחת לשבוע בחודש הקרוב, ולאחר מכן ניתן לרווח את תדירות הבדיקה.', 'metadata': {'category_depth': 0, 'page_number': 9, 'languages': ['heb'], 'filename': 'החלפת קם תחנות בדיקה.docx', 'filetype': 'application/vnd.openxmlformats-officedocument.wordprocessingml.document'}}\n",
      "{'type': 'ListItem', 'element_id': 'cfff3373dfd7742a6eebb8febebbd37f', 'text': 'העברת הממצאים לייעוץ עם סורטימט- ניר לוסטיג + הנדסת ייצור', 'metadata': {'category_depth': 0, 'page_number': 9, 'languages': ['heb'], 'filename': 'החלפת קם תחנות בדיקה.docx', 'filetype': 'application/vnd.openxmlformats-officedocument.wordprocessingml.document'}}\n",
      "{'type': 'ListItem', 'element_id': 'ec3e46de52561a02b387ffaf99d553e8', 'text': 'בתאריך 6/2/25 בוצעה בדיקה בשיתוף יאיר כפרי:', 'metadata': {'category_depth': 0, 'page_number': 9, 'languages': ['heb'], 'filename': 'החלפת קם תחנות בדיקה.docx', 'filetype': 'application/vnd.openxmlformats-officedocument.wordprocessingml.document'}}\n",
      "{'type': 'ListItem', 'element_id': '6569ea962ed1c939f3491c71bad8a216', 'text': 'בדקנו רעידות בלחץ 5 בר בבוכנה – לא הורגשו רעידות בקאם ובשולחן תחנות הבדיקה', 'metadata': {'category_depth': 0, 'page_number': 9, 'languages': ['heb'], 'filename': 'החלפת קם תחנות בדיקה.docx', 'filetype': 'application/vnd.openxmlformats-officedocument.wordprocessingml.document'}}\n",
      "{'type': 'ListItem', 'element_id': '5f5060e86406e992e6740bd4fea9d2ab', 'text': 'בדקנו רעידות בלחץ 3 בר בבוכנה – לא הורגשו רעידות בקאם ובשולחן תחנות הבדיקה', 'metadata': {'category_depth': 0, 'link_texts': ['בדקנו רעידות בלחץ 3 בר בבוכנה'], 'link_urls': ['עוקב%20הקאם%20ב%20222.%20לחץ%20בוכנת%20ההצמדה%203%20בר.%20איטי%20מאוד.mp4'], 'links': [{'text': 'בדקנו רעידות בלחץ 3 בר בבוכנה', 'url': 'עוקב%20הקאם%20ב%20222.%20לחץ%20בוכנת%20ההצמדה%203%20בר.%20איטי%20מאוד.mp4', 'start_index': 0}], 'page_number': 9, 'languages': ['heb'], 'filename': 'החלפת קם תחנות בדיקה.docx', 'filetype': 'application/vnd.openxmlformats-officedocument.wordprocessingml.document'}}\n",
      "{'type': 'ListItem', 'element_id': '387c9a875735cc99e474b32d99df94c9', 'text': 'בוצע צילום בהילוך איטי בשני המקרים הנ\"ל. לא נראה שעוקב הקאם נפרד מהקאם, בשני הלחצים.', 'metadata': {'category_depth': 0, 'emphasized_text_contents': ['לא נראה שעוקב הקאם נפרד מהקאם', ',', 'בשני הלחצים.'], 'emphasized_text_tags': ['b', 'b', 'b'], 'page_number': 9, 'languages': ['heb'], 'filename': 'החלפת קם תחנות בדיקה.docx', 'filetype': 'application/vnd.openxmlformats-officedocument.wordprocessingml.document'}}\n",
      "{'type': 'ListItem', 'element_id': '45835b7fb3eced3c5197808bfccf45be', 'text': 'בדקנו תומך אחורי בתחנת האום – תקין, ללא חופשים או התנגשויות', 'metadata': {'category_depth': 0, 'page_number': 9, 'languages': ['heb'], 'filename': 'החלפת קם תחנות בדיקה.docx', 'filetype': 'application/vnd.openxmlformats-officedocument.wordprocessingml.document'}}\n",
      "{'type': 'ListItem', 'element_id': 'bfe70a5efe9279cbcf1c1a3b2dd84349', 'text': 'בדקנו מוט מרכזי – אין חופשים – תנועת המוט במסב מעלה מטה חופשית', 'metadata': {'category_depth': 0, 'page_number': 9, 'languages': ['heb'], 'filename': 'החלפת קם תחנות בדיקה.docx', 'filetype': 'application/vnd.openxmlformats-officedocument.wordprocessingml.document'}}\n",
      "{'type': 'ListItem', 'element_id': 'd87401fdf7a09851dfcae9b7a5e01de8', 'text': 'ביקורת בתאריך 11/2/25:', 'metadata': {'category_depth': 0, 'page_number': 9, 'languages': ['heb'], 'filename': 'החלפת קם תחנות בדיקה.docx', 'filetype': 'application/vnd.openxmlformats-officedocument.wordprocessingml.document'}}\n",
      "{'type': 'ListItem', 'element_id': '32f928efd3c1dd19077150268f8ae318', 'text': 'תקין', 'metadata': {'category_depth': 0, 'page_number': 9, 'languages': ['heb'], 'filename': 'החלפת קם תחנות בדיקה.docx', 'filetype': 'application/vnd.openxmlformats-officedocument.wordprocessingml.document'}}\n",
      "{'type': 'ListItem', 'element_id': 'd01b51b5f694fa6ccfc5ac7a23c8878b', 'text': 'ביקורת בתאריך 3/3/25:', 'metadata': {'category_depth': 0, 'page_number': 10, 'languages': ['heb'], 'filename': 'החלפת קם תחנות בדיקה.docx', 'filetype': 'application/vnd.openxmlformats-officedocument.wordprocessingml.document'}}\n",
      "{'type': 'ListItem', 'element_id': '0c7ff61cc56912b36cc993142593332f', 'text': 'ישנם סימני שחיקה קלים על עוקב הקאם, הוחלף בעוקב קאם חדש שסופק ע\"י סורטימט.', 'metadata': {'category_depth': 0, 'page_number': 10, 'languages': ['heb'], 'filename': 'החלפת קם תחנות בדיקה.docx', 'filetype': 'application/vnd.openxmlformats-officedocument.wordprocessingml.document'}}\n",
      "{'type': 'ListItem', 'element_id': 'f150660d3b0508c9f3537671a5593af1', 'text': 'עוקב הקאם הישן פורק כשהוא מסתובב חופשי ומגורז תקין.', 'metadata': {'category_depth': 0, 'page_number': 10, 'languages': ['heb'], 'filename': 'החלפת קם תחנות בדיקה.docx', 'filetype': 'application/vnd.openxmlformats-officedocument.wordprocessingml.document'}}\n"
     ]
    }
   ],
   "source": [
    "for el in response:\n",
    "    if el['type']!= 'Image':\n",
    "        print(el)"
   ]
  },
  {
   "cell_type": "code",
   "execution_count": 47,
   "metadata": {},
   "outputs": [
    {
     "name": "stdout",
     "output_type": "stream",
     "text": [
      "{'type': 'NarrativeText', 'element_id': 'aacb8d6078f4f69252e06efdfe043cda', 'text': 'החלפת קאם (532550) המניע ממרכז המכונה את תחנות התמיכה והבדיקה במכונה 222', 'metadata': {'category_depth': 0, 'emphasized_text_contents': ['החלפת ק', 'א', 'ם (532550) המניע', 'ממרכז המכונה', 'את תחנות', 'התמיכה ו', 'הבדיקה במכונה 222'], 'emphasized_text_tags': ['b', 'b', 'b', 'b', 'b', 'b', 'b'], 'page_number': 1, 'languages': ['heb'], 'filename': 'החלפת קם תחנות בדיקה.docx', 'filetype': 'application/vnd.openxmlformats-officedocument.wordprocessingml.document'}}\n"
     ]
    },
    {
     "name": "stderr",
     "output_type": "stream",
     "text": [
      "INFO: HTTP Request: POST https://api.openai.com/v1/chat/completions \"HTTP/1.1 200 OK\"\n"
     ]
    },
    {
     "name": "stdout",
     "output_type": "stream",
     "text": [
      "{'type': 'UncategorizedText', 'element_id': 'c8cf54a405a20ba89e5c5015033beaba', 'text': 'רשם: צביקה איבגי ופאדי סלימאן. 12.12.2024', 'metadata': {'category_depth': 0, 'page_number': 1, 'languages': ['heb'], 'filename': 'החלפת קם תחנות בדיקה.docx', 'filetype': 'application/vnd.openxmlformats-officedocument.wordprocessingml.document'}}\n"
     ]
    },
    {
     "name": "stderr",
     "output_type": "stream",
     "text": [
      "INFO: HTTP Request: POST https://api.openai.com/v1/chat/completions \"HTTP/1.1 200 OK\"\n"
     ]
    },
    {
     "name": "stdout",
     "output_type": "stream",
     "text": [
      "{'type': 'UncategorizedText', 'element_id': '05eb9af97472376b97cdde5ea35c0ddf', 'text': 'צוות טכני מבצע: אוסטין אשמוז, גסאן מארון.', 'metadata': {'category_depth': 0, 'page_number': 1, 'languages': ['heb'], 'filename': 'החלפת קם תחנות בדיקה.docx', 'filetype': 'application/vnd.openxmlformats-officedocument.wordprocessingml.document'}}\n"
     ]
    },
    {
     "name": "stderr",
     "output_type": "stream",
     "text": [
      "INFO: HTTP Request: POST https://api.openai.com/v1/chat/completions \"HTTP/1.1 200 OK\"\n"
     ]
    },
    {
     "name": "stdout",
     "output_type": "stream",
     "text": [
      "{'type': 'NarrativeText', 'element_id': '86c80792062065239e81986ba980a628', 'text': 'רקע: בשנה האחרונה הוחלף אותו קאם פעמיים (לפני 11/2024), וגם בוכנת הקפיץ הוחלפה פעם אחת (לייתר בטחון). בכל פעם כעבור כמעט חודשיים הקאם נשחק שוב.', 'metadata': {'category_depth': 0, 'page_number': 1, 'languages': ['heb'], 'filename': 'החלפת קם תחנות בדיקה.docx', 'filetype': 'application/vnd.openxmlformats-officedocument.wordprocessingml.document'}}\n"
     ]
    },
    {
     "name": "stderr",
     "output_type": "stream",
     "text": [
      "INFO: HTTP Request: POST https://api.openai.com/v1/chat/completions \"HTTP/1.1 200 OK\"\n"
     ]
    },
    {
     "name": "stdout",
     "output_type": "stream",
     "text": [
      "{'type': 'ListItem', 'element_id': '6e304e816895565e133493c5a7760ad6', 'text': 'בתאריך 12.11.2024 בעבודה מק\"ט 581433 לוט 242668277-03 מספר שקית 291, נבדקה המכונה שוב ולהלן הממצאים:', 'metadata': {'category_depth': 0, 'page_number': 1, 'languages': ['heb'], 'filename': 'החלפת קם תחנות בדיקה.docx', 'filetype': 'application/vnd.openxmlformats-officedocument.wordprocessingml.document'}}\n"
     ]
    },
    {
     "name": "stderr",
     "output_type": "stream",
     "text": [
      "INFO: HTTP Request: POST https://api.openai.com/v1/chat/completions \"HTTP/1.1 200 OK\"\n"
     ]
    },
    {
     "name": "stdout",
     "output_type": "stream",
     "text": [
      "{'type': 'ListItem', 'element_id': '105f88536e4216e876cb63427bb14bf1', 'text': 'הקאם ועוקב הקאם נשחקו - הוחלפו בחדשים', 'metadata': {'category_depth': 0, 'emphasized_text_contents': ['הוחלפו בחדשים'], 'emphasized_text_tags': ['b'], 'page_number': 1, 'languages': ['heb'], 'filename': 'החלפת קם תחנות בדיקה.docx', 'filetype': 'application/vnd.openxmlformats-officedocument.wordprocessingml.document'}}\n"
     ]
    },
    {
     "name": "stderr",
     "output_type": "stream",
     "text": [
      "INFO: HTTP Request: POST https://api.openai.com/v1/chat/completions \"HTTP/1.1 200 OK\"\n"
     ]
    },
    {
     "name": "stdout",
     "output_type": "stream",
     "text": [
      "{'type': 'ListItem', 'element_id': 'a54de43a8ebf532d1ba22cec218e0e94', 'text': 'תחנה 24 - כשהתחנה יורדת הכי למטה, היא נעצרת על הבלוק, ז\"א לא היה רווח בין הבלוק הקבוע לבלוק הדינמי, אבל במצב הזה נבדק עוקב הקאם ונראה שהוא לא מסתובב ז\"א שהתחנה תקינה והקאם לא נפרד מעוקב הקאם. בכל זה נדרש לכוון שיהיה רווח בטחון- לפחות כמה מ\"מטרים.', 'metadata': {'category_depth': 0, 'emphasized_text_contents': ['תחנה 24'], 'emphasized_text_tags': ['b'], 'page_number': 2, 'languages': ['heb'], 'filename': 'החלפת קם תחנות בדיקה.docx', 'filetype': 'application/vnd.openxmlformats-officedocument.wordprocessingml.document'}}\n"
     ]
    },
    {
     "name": "stderr",
     "output_type": "stream",
     "text": [
      "INFO: HTTP Request: POST https://api.openai.com/v1/chat/completions \"HTTP/1.1 200 OK\"\n"
     ]
    },
    {
     "name": "stdout",
     "output_type": "stream",
     "text": [
      "{'type': 'ListItem', 'element_id': 'daa345baa72261756a6a2ed3aff365e9', 'text': 'תחנת האומים- תמיכת הגוף בזמן נעיצת האום:', 'metadata': {'category_depth': 0, 'page_number': 2, 'languages': ['heb'], 'filename': 'החלפת קם תחנות בדיקה.docx', 'filetype': 'application/vnd.openxmlformats-officedocument.wordprocessingml.document'}}\n"
     ]
    },
    {
     "name": "stderr",
     "output_type": "stream",
     "text": [
      "INFO: HTTP Request: POST https://api.openai.com/v1/chat/completions \"HTTP/1.1 200 OK\"\n"
     ]
    },
    {
     "name": "stdout",
     "output_type": "stream",
     "text": [
      "{'type': 'ListItem', 'element_id': '3c17097b39c108fc1bab18c6e244cba9', 'text': 'כשהתחנה במצב נעיצה הבורג (המעצור המכני) נגע בבלוק שמחזיק אותו - הושחז הבלוק.', 'metadata': {'category_depth': 1, 'page_number': 2, 'languages': ['heb'], 'filename': 'החלפת קם תחנות בדיקה.docx', 'filetype': 'application/vnd.openxmlformats-officedocument.wordprocessingml.document', 'parent_id': 'daa345baa72261756a6a2ed3aff365e9'}}\n"
     ]
    },
    {
     "name": "stderr",
     "output_type": "stream",
     "text": [
      "INFO: HTTP Request: POST https://api.openai.com/v1/chat/completions \"HTTP/1.1 200 OK\"\n"
     ]
    },
    {
     "name": "stdout",
     "output_type": "stream",
     "text": [
      "{'type': 'ListItem', 'element_id': 'a00c264cac8fed795a8cd8acd867d265', 'text': 'הבורג העליון שמחזיק את כל המכלול של המעצור המכני נשבר- הוחלף בחדש.', 'metadata': {'category_depth': 1, 'page_number': 2, 'languages': ['heb'], 'filename': 'החלפת קם תחנות בדיקה.docx', 'filetype': 'application/vnd.openxmlformats-officedocument.wordprocessingml.document', 'parent_id': 'daa345baa72261756a6a2ed3aff365e9'}}\n"
     ]
    },
    {
     "name": "stderr",
     "output_type": "stream",
     "text": [
      "INFO: HTTP Request: POST https://api.openai.com/v1/chat/completions \"HTTP/1.1 200 OK\"\n"
     ]
    }
   ],
   "source": [
    "translated_dict = []\n",
    "for i in range(0,10):\n",
    "    print(response[i])\n",
    "    translated_text = get_openai_response(response[i]['text'],'he','en')\n",
    "    translated_dict.append({\"type\": response[i]['type'], \"text\": translated_text})\n",
    "    "
   ]
  },
  {
   "cell_type": "code",
   "execution_count": 48,
   "metadata": {},
   "outputs": [
    {
     "data": {
      "text/plain": [
       "[{'type': 'NarrativeText',\n",
       "  'text': 'Replacement of cam (532550) that drives the support and testing stations from the machine center on machine 222'},\n",
       " {'type': 'UncategorizedText',\n",
       "  'text': 'Registrar: Tzvika Ivgi and Fadi Slimiman. 12.12.2024'},\n",
       " {'type': 'UncategorizedText',\n",
       "  'text': 'Technical operations team: Austin Ashmoz, Ghassan Maroun.'},\n",
       " {'type': 'NarrativeText',\n",
       "  'text': 'Background: Over the past year the same cam has been replaced twice (before 11/2024), and the spring piston was replaced once (for extra safety). Each time, after almost two months, the cam wore out again.'},\n",
       " {'type': 'ListItem',\n",
       "  'text': 'On 12.11.2024, in work order No. 581433, lot 242668277-03, bag number 291, the machine was inspected again and the findings are as follows:'},\n",
       " {'type': 'ListItem',\n",
       "  'text': 'The cam and the cam follower were worn out – replaced with new ones.'},\n",
       " {'type': 'ListItem',\n",
       "  'text': 'Station 24 – when the station descends to its lowest position, it stops on the block, meaning there was no gap between the fixed block and the dynamic block. However, in this state the cam follower was checked and it appears not to rotate, meaning the station is functioning correctly and the cam has not separated from the cam follower. In all this, it is necessary to adjust for a safety clearance – at least a few millimetres.'},\n",
       " {'type': 'ListItem',\n",
       "  'text': 'Screw station – body support during screw insertion.'},\n",
       " {'type': 'ListItem',\n",
       "  'text': 'When the station is in clamping mode the screw (mechanical stop) touched the block holding it – the block was ground.'},\n",
       " {'type': 'ListItem',\n",
       "  'text': 'The upper screw holding the entire mechanical stop assembly broke and was replaced with a new one.'}]"
      ]
     },
     "execution_count": 48,
     "metadata": {},
     "output_type": "execute_result"
    }
   ],
   "source": [
    "translated_dict"
   ]
  }
 ],
 "metadata": {
  "kernelspec": {
   "display_name": ".venv",
   "language": "python",
   "name": "python3"
  },
  "language_info": {
   "codemirror_mode": {
    "name": "ipython",
    "version": 3
   },
   "file_extension": ".py",
   "mimetype": "text/x-python",
   "name": "python",
   "nbconvert_exporter": "python",
   "pygments_lexer": "ipython3",
   "version": "3.12.9"
  }
 },
 "nbformat": 4,
 "nbformat_minor": 2
}
