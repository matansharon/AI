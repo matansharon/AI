{
 "cells": [
  {
   "cell_type": "code",
   "execution_count": 1,
   "metadata": {},
   "outputs": [
    {
     "ename": "ModuleNotFoundError",
     "evalue": "No module named 'langflow'",
     "output_type": "error",
     "traceback": [
      "\u001b[0;31m---------------------------------------------------------------------------\u001b[0m",
      "\u001b[0;31mModuleNotFoundError\u001b[0m                       Traceback (most recent call last)",
      "Cell \u001b[0;32mIn[1], line 1\u001b[0m\n\u001b[0;32m----> 1\u001b[0m \u001b[39mimport\u001b[39;00m \u001b[39mlangflow\u001b[39;00m\n\u001b[1;32m      2\u001b[0m \u001b[39mfrom\u001b[39;00m \u001b[39mlangflow\u001b[39;00m \u001b[39mimport\u001b[39;00m load_flow_from_json\n\u001b[1;32m      4\u001b[0m \u001b[39m# flow = load_flow_from_json(\"first_test_2.json\")\u001b[39;00m\n\u001b[1;32m      5\u001b[0m \u001b[39m# # Now you can use it like any chain\u001b[39;00m\n\u001b[1;32m      6\u001b[0m \u001b[39m# flow(\"what is the capital city of israel?\")\u001b[39;00m\n",
      "\u001b[0;31mModuleNotFoundError\u001b[0m: No module named 'langflow'"
     ]
    }
   ],
   "source": [
    "import langflow\n",
    "from langflow import load_flow_from_json\n",
    "\n",
    "# flow = load_flow_from_json(\"first_test_2.json\")\n",
    "# # Now you can use it like any chain\n",
    "# flow(\"what is the capital city of israel?\")"
   ]
  },
  {
   "cell_type": "code",
   "execution_count": 11,
   "metadata": {},
   "outputs": [],
   "source": [
    "flow2=load_flow_from_json(\"PDF_numpy_scipy .json\")"
   ]
  },
  {
   "cell_type": "code",
   "execution_count": 12,
   "metadata": {},
   "outputs": [
    {
     "name": "stdout",
     "output_type": "stream",
     "text": [
      "\n",
      "\n",
      "\u001b[1m> Entering new AgentExecutor chain...\u001b[0m\n",
      "\u001b[32;1m\u001b[1;3m I need to find out what the pdf is about\n",
      "Action: sample\n",
      "Action Input: the pdf\u001b[0m\n",
      "Observation: \u001b[36;1m\u001b[1;3m The PDF is a tutorial that gives you a quick walkthrough about building an end-to-end language model application with LangChain. It covers topics such as installation, environment setup, building a language model application, prompt templates, chains, agents, memory, and building a chat model.\u001b[0m\n",
      "Thought:\u001b[32;1m\u001b[1;3m I now know the final answer\n",
      "Final Answer: The PDF is a tutorial that gives you a quick walkthrough about building an end-to-end language model application with LangChain. It covers topics such as installation, environment setup, building a language model application, prompt templates, chains, agents, memory, and building a chat model.\u001b[0m\n",
      "\n",
      "\u001b[1m> Finished chain.\u001b[0m\n"
     ]
    },
    {
     "data": {
      "text/plain": [
       "{'input': 'what is the pdf about?',\n",
       " 'output': 'The PDF is a tutorial that gives you a quick walkthrough about building an end-to-end language model application with LangChain. It covers topics such as installation, environment setup, building a language model application, prompt templates, chains, agents, memory, and building a chat model.'}"
      ]
     },
     "execution_count": 12,
     "metadata": {},
     "output_type": "execute_result"
    }
   ],
   "source": [
    "flow2(\"what is the pdf about?\")"
   ]
  }
 ],
 "metadata": {
  "kernelspec": {
   "display_name": "AI_env",
   "language": "python",
   "name": "python3"
  },
  "language_info": {
   "codemirror_mode": {
    "name": "ipython",
    "version": 3
   },
   "file_extension": ".py",
   "mimetype": "text/x-python",
   "name": "python",
   "nbconvert_exporter": "python",
   "pygments_lexer": "ipython3",
   "version": "3.10.4"
  },
  "orig_nbformat": 4
 },
 "nbformat": 4,
 "nbformat_minor": 2
}
