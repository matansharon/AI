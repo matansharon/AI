{
 "cells": [
  {
   "cell_type": "code",
   "execution_count": 22,
   "metadata": {},
   "outputs": [],
   "source": [
    "from fpdf import FPDF"
   ]
  },
  {
   "cell_type": "code",
   "execution_count": 23,
   "metadata": {},
   "outputs": [],
   "source": [
    "def convert_txt_to_pdf(file_path):\n",
    "\n",
    "\n",
    "    # Define the name of the input text file and output PDF file\n",
    "    input_text_file = 'guy.txt'\n",
    "    output_pdf_file = 'guy.pdf'\n",
    "\n",
    "    # Create an instance of the FPDF class\n",
    "    pdf = FPDF()\n",
    "    pdf.add_page()\n",
    "    pdf.set_font(\"Arial\", size=12)\n",
    "\n",
    "    # Open and read the text file\n",
    "    with open(input_text_file, 'r') as file:\n",
    "        # Loop through each line in the file\n",
    "        for line in file:\n",
    "            # Add a cell with the line of text\n",
    "            pdf.cell(200, 10, txt=line, ln=True)\n",
    "\n",
    "    # Output the PDF to a file\n",
    "    pdf.output(output_pdf_file)\n"
   ]
  },
  {
   "cell_type": "code",
   "execution_count": 26,
   "metadata": {},
   "outputs": [],
   "source": [
    "def convert_txt_to_pdf(file_path):\n",
    "    # Define the name of the input text file and output PDF file\n",
    "    input_text_file = file_path\n",
    "    output_pdf_file = 'hatib.pdf'\n",
    "\n",
    "    # Create an instance of the FPDF class\n",
    "    pdf = FPDF()\n",
    "    pdf.add_page()\n",
    "    pdf.set_font(\"Arial\", size=12)\n",
    "\n",
    "    # Open and read the text file with UTF-8 encoding\n",
    "    with open(input_text_file, 'r', encoding='utf-8') as file:\n",
    "        # Loop through each line in the file\n",
    "        for line in file:\n",
    "            # Add a cell with the line of text\n",
    "            pdf.cell(200, 10, txt=line.encode('latin-1', 'replace').decode('latin-1'), ln=True)\n",
    "\n",
    "    # Output the PDF to a file\n",
    "    pdf.output(output_pdf_file)\n"
   ]
  },
  {
   "cell_type": "code",
   "execution_count": 27,
   "metadata": {},
   "outputs": [],
   "source": [
    "convert_txt_to_pdf('/Users/matansharon/python/AI/chat-pdf/hatib.txt')"
   ]
  }
 ],
 "metadata": {
  "kernelspec": {
   "display_name": "ai_env",
   "language": "python",
   "name": "python3"
  },
  "language_info": {
   "codemirror_mode": {
    "name": "ipython",
    "version": 3
   },
   "file_extension": ".py",
   "mimetype": "text/x-python",
   "name": "python",
   "nbconvert_exporter": "python",
   "pygments_lexer": "ipython3",
   "version": "3.10.11"
  },
  "orig_nbformat": 4
 },
 "nbformat": 4,
 "nbformat_minor": 2
}
