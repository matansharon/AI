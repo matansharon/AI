{
 "cells": [
  {
   "cell_type": "code",
   "execution_count": 2,
   "metadata": {},
   "outputs": [],
   "source": [
    "import base64\n",
    "import anthropic\n",
    "from dotenv import load_dotenv\n",
    "load_dotenv()\n",
    "client = anthropic.Anthropic()"
   ]
  },
  {
   "cell_type": "code",
   "execution_count": 3,
   "metadata": {},
   "outputs": [],
   "source": [
    "def read_file_and_encode(file_path):\n",
    "    with open(file_path, 'rb') as pdf_file:\n",
    "        pdf_base64 = base64.standard_b64encode(pdf_file.read()).decode(\"utf-8\")\n",
    "    \n",
    "    return pdf_base64"
   ]
  },
  {
   "cell_type": "code",
   "execution_count": 23,
   "metadata": {},
   "outputs": [],
   "source": [
    "def sections_1_2_instructions():\n",
    "    return \"\"\"\n",
    "    ## Core Requirements\n",
    "        - Use ONLY information from the provided V&V document - no external knowledge or invented details\n",
    "        - Output a coherent, text-only narrative report with clear section headings\n",
    "        - If information is missing, omit that section or note it as unavailable\n",
    "        - Focus on stability-related content: look for keywords like \"stability testing,\" \"aging,\" \"shelf life,\" \"long-term performance\"\n",
    "    \n",
    "    ### 1. Summary (Executive Summary)\n",
    "        - Brief overview of study purpose and key findings\n",
    "        - Critical data points from stability testing\n",
    "        - Overall conclusion on product stability status and recommended shelf life\n",
    "\n",
    "    ### 2. Introduction\n",
    "        - Purpose and rationale of the stability study\n",
    "        - Product description and context from V&V\n",
    "        - Scope: duration, conditions, aspects evaluated, sample sizes\n",
    "        - Regulatory/standard framework if mentioned\n",
    "        - Key assumptions about test conditions\n",
    "        \n",
    "\n",
    "\"\"\""
   ]
  },
  {
   "cell_type": "code",
   "execution_count": null,
   "metadata": {},
   "outputs": [],
   "source": [
    "def get_system_instructions():\n",
    "    return \"\"\"\n",
    "    ## Core Requirements\n",
    "    - Use ONLY information from the provided V&V document - no external knowledge or invented details\n",
    "    - Output a coherent, text-only narrative report with clear section headings\n",
    "    - If information is missing, omit that section or note it as unavailable\n",
    "    - Focus on stability-related content: look for keywords like \"stability testing,\" \"aging,\" \"shelf life,\" \"long-term performance\"\n",
    "\n",
    "    ## Report Structure\n",
    "    Generate the following sections in order:\n",
    "\n",
    "    \n",
    "\n",
    "    ### 3. Stability Study Methodology\n",
    "    - Study design overview: what was tested, how long, under what conditions\n",
    "    - Materials and samples: batch numbers, sample sizes, packaging\n",
    "    - Test parameters and measurement methods\n",
    "    - Acceptance criteria and pass/fail standards\n",
    "    - Any deviations or protocol changes noted\n",
    "\n",
    "    ### 4. Results\n",
    "    - Present data chronologically or by parameter as organized in V&V\n",
    "    - Include all relevant numerical data and observations in narrative form\n",
    "    - Note trends and changes over time\n",
    "    - Report compliance with acceptance criteria\n",
    "    - Include visual/physical observations\n",
    "    - State facts only - no interpretation here\n",
    "\n",
    "    ### 5. Discussion\n",
    "    - Analyze overall trends and their significance\n",
    "    - Compare results to acceptance criteria\n",
    "    - Explain implications for product quality and real-world use\n",
    "    - Acknowledge study limitations\n",
    "    - Provide recommendations based on findings\n",
    "    - Synthesize rather than repeat raw data\n",
    "\n",
    "    ### 6. Conclusion and Recommendations\n",
    "    - Clear statement on overall product stability\n",
    "    - Specific shelf life and storage condition recommendations\n",
    "    - Summary of compliance with all criteria\n",
    "    - Key recommendations for labeling, handling, further testing, or process changes\n",
    "    - Confident closing statement\n",
    "\n",
    "    ## Writing Guidelines\n",
    "    - Write in complete sentences with clear, professional language\n",
    "    - Organize content logically with smooth transitions between sections\n",
    "    - Include specific data points with units when available\n",
    "    - Use comparative language for trends (e.g., \"remained constant,\" \"showed slight decline\")\n",
    "    - Maintain objectivity and base all statements on V&V evidence\n",
    "    - Ensure the report reads as a standalone document\n",
    "\n",
    "    Generate a thorough stability report that comprehensively converts the V&V data into the standard stability report format.\n",
    "    \"\"\""
   ]
  },
  {
   "cell_type": "code",
   "execution_count": null,
   "metadata": {},
   "outputs": [],
   "source": [
    "\n",
    "\n",
    "def get_anthropic_response(pdf_base64, query,system_instructions):\n",
    "    client = anthropic.Anthropic()\n",
    "\n",
    "    with client.messages.stream(\n",
    "        model=\"claude-opus-4-20250514\",\n",
    "        max_tokens=16000,\n",
    "        system=system_instructions,\n",
    "        thinking={\n",
    "            \"type\": \"enabled\",\n",
    "            \"budget_tokens\": 10000\n",
    "        },\n",
    "        messages=[\n",
    "            {\n",
    "                \"role\": \"user\",\n",
    "                \"content\": [\n",
    "                    {\n",
    "                        \"type\": \"document\",\n",
    "                        \"source\": {\n",
    "                            \"type\": \"base64\",\n",
    "                            \"media_type\": \"application/pdf\",\n",
    "                            \"data\": pdf_base64\n",
    "                        }\n",
    "                    },\n",
    "                    {\n",
    "                        \"type\": \"text\",\n",
    "                        \"text\": query\n",
    "                    }\n",
    "                ]\n",
    "            }\n",
    "        ],\n",
    "    ) as stream:\n",
    "        content = []\n",
    "        for event in stream:\n",
    "            if hasattr(event, 'delta') and hasattr(event.delta, 'text'):\n",
    "                content.append(event.delta.text)\n",
    "\n",
    "        return ''.join(content)\n",
    "\n",
    "\n"
   ]
  },
  {
   "cell_type": "code",
   "execution_count": null,
   "metadata": {},
   "outputs": [],
   "source": [
    "pdf_data = read_file_and_encode('docs/PRJ-0695-Silicon Change on NIP valve-Design Verification & Validation Report.pdf')\n",
    "section_1_2_response=get_anthropic_response(pdf_data, \"Generate a product stability report from the V&V document.\",sections_1_2_instructions())"
   ]
  },
  {
   "cell_type": "code",
   "execution_count": null,
   "metadata": {},
   "outputs": [
    {
     "data": {
      "text/plain": [
       "['# Product Stability Report\\n## Silicon Change on NIP Valve - Design Verification & Validation\\n### Document: Doc-331335, Project ID: 0695',\n",
       " '## Summary (Executive Summary)',\n",
       " 'This stability study evaluated the NIP Stand-Alone valve (PN 220808L) with new silicone septum material (SILPURAN® 6000/50 A+B, PN 590422) to establish shelf life following a material change from discontinued TSL097 Silicone QP1 50 LSR. Critical stability testing included accelerated aging at 52°C and 60°C for periods simulating up to 5 years, combined with sterilization exposure of up to 42.8 kGy gamma irradiation plus two ETO cycles. All functional performance tests passed successfully after 5-year equivalent aging, supporting a recommended shelf life of five years for products containing the new silicone valve material.',\n",
       " '## Introduction',\n",
       " \"The stability study was initiated due to Dow Corning's discontinuation of TSL097 Silicone QP1 50 LSR raw material, necessitating replacement with SILPURAN® 6000/50 A+B from Wacker for the NIP valve septum component. The study aimed to verify that products assembled with the new silicone material maintain functional performance over the intended shelf life.\",\n",
       " 'The scope encompassed accelerated aging studies simulating 1 month, 2 years, and 5 years of real-time aging, conducted at two temperature conditions (52°C and 60°C) with relative humidity of 50% ±5%. Multiple product groups underwent various sterilization combinations including gamma irradiation (25-40 kGy) and ETO cycles. Real-time aging studies at 2 and 5 years were also conducted in parallel according to stability test protocol Doc-332257.',\n",
       " \"The study followed Elcam's SOP# 3-01-39 based on ASTM F 1980 Rev 21, utilizing the Arrhenius reaction rate function with Q10=2.0, where 50 days at 52°C or 29 days at 60°C simulate one year of real-time aging at 23°C.\",\n",
       " 'Key assumptions included that accelerated aging at elevated temperatures accurately predicts real-time aging effects on the silicone material and product assembly.',\n",
       " '(Note: Sections 3-10 of the standard outline - Objectives through Design Validation Summary - contain insufficient stability-specific information in the source document to generate meaningful content for this stability report. The document focuses primarily on functional verification testing rather than detailed stability methodology, data analysis, or comprehensive aging study results beyond the pass/fail outcomes mentioned in the summary and recommendations.)']"
      ]
     },
     "execution_count": 26,
     "metadata": {},
     "output_type": "execute_result"
    }
   ],
   "source": [
    "section_1_2_response.split('\\n\\n')"
   ]
  },
  {
   "cell_type": "code",
   "execution_count": null,
   "metadata": {},
   "outputs": [],
   "source": [
    "def section_3_instructions():\n",
    "    return \"\"\"\n",
    "read the reference table at section 3 of the V&V document and a table with only the relevant refecnce data for section 3 of the stability report porotocol.\n",
    "    \"\"\""
   ]
  }
 ],
 "metadata": {
  "kernelspec": {
   "display_name": ".venv",
   "language": "python",
   "name": "python3"
  },
  "language_info": {
   "codemirror_mode": {
    "name": "ipython",
    "version": 3
   },
   "file_extension": ".py",
   "mimetype": "text/x-python",
   "name": "python",
   "nbconvert_exporter": "python",
   "pygments_lexer": "ipython3",
   "version": "3.12.9"
  }
 },
 "nbformat": 4,
 "nbformat_minor": 2
}
