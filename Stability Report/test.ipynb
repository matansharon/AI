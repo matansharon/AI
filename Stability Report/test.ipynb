{
 "cells": [
  {
   "cell_type": "code",
   "execution_count": 2,
   "metadata": {},
   "outputs": [],
   "source": [
    "import base64\n",
    "import anthropic\n",
    "from dotenv import load_dotenv\n",
    "load_dotenv()\n",
    "client = anthropic.Anthropic()"
   ]
  },
  {
   "cell_type": "code",
   "execution_count": 3,
   "metadata": {},
   "outputs": [],
   "source": [
    "def read_file_and_encode(file_path):\n",
    "    with open(file_path, 'rb') as pdf_file:\n",
    "        pdf_base64 = base64.standard_b64encode(pdf_file.read()).decode(\"utf-8\")\n",
    "    \n",
    "    return pdf_base64"
   ]
  },
  {
   "cell_type": "code",
   "execution_count": null,
   "metadata": {},
   "outputs": [],
   "source": [
    "def sections_1_2_instructions():\n",
    "    return \"\"\"\n",
    "    ## Core Requirements\n",
    "        - Use ONLY information from the provided V&V document - no external knowledge or invented details\n",
    "        - Output a coherent, text-only narrative report with clear section headings\n",
    "        - If information is missing, omit that section or note it as unavailable\n",
    "        - Focus on stability-related content: look for keywords like \"stability testing,\" \"aging,\" \"shelf life,\" \"long-term performance\"\n",
    "    \n",
    "    ### 1. Summary (Executive Summary)\n",
    "        - Brief overview of study purpose and key findings\n",
    "        - Critical data points from stability testing\n",
    "        - Overall conclusion on product stability status and recommended shelf life\n",
    "\n",
    "    ### 2. Introduction\n",
    "        - Purpose and rationale of the stability study\n",
    "        - Product description and context from V&V\n",
    "        - Scope: duration, conditions, aspects evaluated, sample sizes\n",
    "        - Regulatory/standard framework if mentioned\n",
    "        - Key assumptions about test conditions\n",
    "        \n",
    "\n",
    "\"\"\""
   ]
  },
  {
   "cell_type": "code",
   "execution_count": null,
   "metadata": {},
   "outputs": [],
   "source": [
    "def get_system_instructions():\n",
    "    return \"\"\"\n",
    "    ## Core Requirements\n",
    "    - Use ONLY information from the provided V&V document - no external knowledge or invented details\n",
    "    - Output a coherent, text-only narrative report with clear section headings\n",
    "    - If information is missing, omit that section or note it as unavailable\n",
    "    - Focus on stability-related content: look for keywords like \"stability testing,\" \"aging,\" \"shelf life,\" \"long-term performance\"\n",
    "\n",
    "    ## Report Structure\n",
    "    Generate the following sections in order:\n",
    "\n",
    "    \n",
    "\n",
    "    ### 3. Stability Study Methodology\n",
    "    - Study design overview: what was tested, how long, under what conditions\n",
    "    - Materials and samples: batch numbers, sample sizes, packaging\n",
    "    - Test parameters and measurement methods\n",
    "    - Acceptance criteria and pass/fail standards\n",
    "    - Any deviations or protocol changes noted\n",
    "\n",
    "    ### 4. Results\n",
    "    - Present data chronologically or by parameter as organized in V&V\n",
    "    - Include all relevant numerical data and observations in narrative form\n",
    "    - Note trends and changes over time\n",
    "    - Report compliance with acceptance criteria\n",
    "    - Include visual/physical observations\n",
    "    - State facts only - no interpretation here\n",
    "\n",
    "    ### 5. Discussion\n",
    "    - Analyze overall trends and their significance\n",
    "    - Compare results to acceptance criteria\n",
    "    - Explain implications for product quality and real-world use\n",
    "    - Acknowledge study limitations\n",
    "    - Provide recommendations based on findings\n",
    "    - Synthesize rather than repeat raw data\n",
    "\n",
    "    ### 6. Conclusion and Recommendations\n",
    "    - Clear statement on overall product stability\n",
    "    - Specific shelf life and storage condition recommendations\n",
    "    - Summary of compliance with all criteria\n",
    "    - Key recommendations for labeling, handling, further testing, or process changes\n",
    "    - Confident closing statement\n",
    "\n",
    "    ## Writing Guidelines\n",
    "    - Write in complete sentences with clear, professional language\n",
    "    - Organize content logically with smooth transitions between sections\n",
    "    - Include specific data points with units when available\n",
    "    - Use comparative language for trends (e.g., \"remained constant,\" \"showed slight decline\")\n",
    "    - Maintain objectivity and base all statements on V&V evidence\n",
    "    - Ensure the report reads as a standalone document\n",
    "\n",
    "    Generate a thorough stability report that comprehensively converts the V&V data into the standard stability report format.\n",
    "    \"\"\""
   ]
  },
  {
   "cell_type": "code",
   "execution_count": 18,
   "metadata": {},
   "outputs": [],
   "source": [
    "\n",
    "\n",
    "def get_anthropic_response(pdf_base64, query):\n",
    "    client = anthropic.Anthropic()\n",
    "\n",
    "    with client.messages.stream(\n",
    "        model=\"claude-opus-4-20250514\",\n",
    "        max_tokens=16000,\n",
    "        system=get_system_instructions(),\n",
    "        thinking={\n",
    "            \"type\": \"enabled\",\n",
    "            \"budget_tokens\": 10000\n",
    "        },\n",
    "        messages=[\n",
    "            {\n",
    "                \"role\": \"user\",\n",
    "                \"content\": [\n",
    "                    {\n",
    "                        \"type\": \"document\",\n",
    "                        \"source\": {\n",
    "                            \"type\": \"base64\",\n",
    "                            \"media_type\": \"application/pdf\",\n",
    "                            \"data\": pdf_base64\n",
    "                        }\n",
    "                    },\n",
    "                    {\n",
    "                        \"type\": \"text\",\n",
    "                        \"text\": query\n",
    "                    }\n",
    "                ]\n",
    "            }\n",
    "        ],\n",
    "    ) as stream:\n",
    "        content = []\n",
    "        for event in stream:\n",
    "            if hasattr(event, 'delta') and hasattr(event.delta, 'text'):\n",
    "                content.append(event.delta.text)\n",
    "\n",
    "        return ''.join(content)\n",
    "\n",
    "\n"
   ]
  },
  {
   "cell_type": "code",
   "execution_count": 19,
   "metadata": {},
   "outputs": [],
   "source": [
    "pdf_data = read_file_and_encode('docs/PRJ-0695-Silicon Change on NIP valve-Design Verification & Validation Report.pdf')\n",
    "response=get_anthropic_response(pdf_data, \"Generate a product stability report from the V&V document.\")"
   ]
  },
  {
   "cell_type": "code",
   "execution_count": 20,
   "metadata": {},
   "outputs": [
    {
     "data": {
      "text/plain": [
       "['# Product Stability Report: Silicon Change on NIP Valve',\n",
       " '## 1. Summary',\n",
       " 'This stability study evaluated the long-term performance of the NIP Stand-Alone Luer Activated Valve (LAV) with a new silicone septum material (SILPURAN® 6000/50 A+B, PN 590422) replacing the discontinued TSL097 Silicone QP1 50 LSR. The study demonstrated that products maintain full functionality and meet all performance specifications after accelerated aging equivalent to 5 years, including exposure to gamma irradiation up to 42.8 kGy and two EtO sterilization cycles. Based on comprehensive testing results, the new silicone septum valve is approved for a 5-year shelf life.',\n",
       " '## 2. Introduction',\n",
       " 'The stability study was initiated following notification from Dow Corning regarding discontinuation of the TSL097 Silicone QP1 50 LSR raw material. Haemopharm (Bonini), the septum manufacturer, selected SILPURAN® 6000/50 A+B from Wacker as the replacement material. This study aimed to verify that the new septum material (PN 590422) maintains product stability and performance equivalent to or better than the current septum (PN 590408) over the intended shelf life. The study evaluated NIP Stand-Alone assembly PN 220808L products under various accelerated aging conditions to simulate real-time aging up to 5 years. Testing was conducted according to ASTM F 1980 Rev 21 and AAMI ISO CN27-2021 standards to ensure the product meets all critical performance requirements throughout its intended shelf life.',\n",
       " '## 3. Stability Study Methodology',\n",
       " 'The study employed accelerated aging based on the Arrhenius reaction rate function, with Q10=2.0, room temperature of 23°C, and test temperatures of 52°C and 60°C. At 52°C, 50 days of accelerated aging simulates one year of real-time aging, while at 60°C, 29 days simulates one year. Multiple product groups were prepared and subjected to different combinations of sterilization (gamma radiation at 25-40 kGy plus two EtO cycles) and accelerated aging conditions (equivalent to 1 month, 2 years, and 5 years). Sample sizes were determined according to ISO 16269-6:2005, with critical performance tests requiring 299 parts and major performance tests requiring 59 parts. Each test group contained 650 products packed in 20x20x20 cm test boxes with dosimeters. Acceptance criteria were established based on AAMI ISO CN27-2021 requirements for LAVs, including leakage resistance, mechanical strength, flow rate, and microbial barrier properties. Real-time aging studies were conducted in parallel according to stability test protocol Doc-332257.',\n",
       " '## 4. Results',\n",
       " 'Visual inspection revealed no defects in any aged products, with all valve slits remaining open after single activation even following maximum gamma exposure of 47.3 kGy. Dimensional measurements confirmed all products remained within specified tolerances throughout the aging period. Particulate contamination testing showed no particles exceeding USP 788 limits across all test groups. Liquid leakage testing at 330 kPa for 35 seconds showed 100% pass rates for all aged products in both activated and unactivated states. Sub-atmospheric pressure testing demonstrated no air ingress or bubble movement at -20 kPa (unactivated) and -88 kPa (activated) for 15 seconds. Flow rate testing yielded consistent results averaging 363-368 ml/min, exceeding the 120 ml/min requirement by threefold. Products withstood 140 male Luer lock and 140 male Luer slip activations without functional degradation. Extended duration testing confirmed products maintained seal integrity for 11 days (264 hours) under continuous 0.2 bar pressure with periodic 2 bar challenges. Burst pressure testing showed average values of 45.1 PSI for new material versus 43.0 PSI for current material, both exceeding the 30 PSI minimum. All mechanical strength parameters including gauge insertion force (22.5N average) and tensile force resistance (15N for 15 seconds) met specifications. Chemical compatibility testing with 70% IPA and lipid exposure for 11 days showed no degradation or leakage.',\n",
       " '## 5. Discussion',\n",
       " \"The comprehensive stability testing demonstrates that the new SILPURAN® 6000/50 A+B silicone material provides superior performance compared to the discontinued QP1 50 LSR material. A critical improvement was observed in the valve's resistance to gamma radiation - while previous materials showed slit closure issues above 25 kGy, the new material maintained full functionality even at 47.3 kGy exposure. This enhanced radiation tolerance provides a significant safety margin for sterilization processes. The accelerated aging results at both 52°C and 60°C showed consistent performance across all time points, with no degradation trends observed in any critical parameters. The decision to use 60°C accelerated aging groups for primary testing was validated as these more aggressive conditions still yielded passing results, confirming product robustness. Flow rate performance remained stable at over three times the minimum requirement, ensuring adequate clinical performance throughout shelf life. The material change did not adversely affect dimensional stability, welding strength, or chemical compatibility. Some minor cosmetic tear marks were observed after multiple activations, but these did not impact functional performance or seal integrity. The study limitations include reliance on accelerated aging models and testing of a single lot of new material; however, the conservative test conditions and comprehensive test matrix provide confidence in the results.\",\n",
       " '## 6. Conclusion and Recommendations',\n",
       " 'The stability study conclusively demonstrates that NIP Stand-Alone products manufactured with the new SILPURAN® 6000/50 A+B septum material meet or exceed all performance requirements after accelerated aging equivalent to 5 years. Based on successful completion of all stability tests, including exposure to 42.8 kGy gamma radiation plus two EtO cycles, the product is approved for a 5-year shelf life when stored under standard conditions. The new silicone material is recommended for immediate implementation to replace the discontinued QP1 50 LSR, with approval for 140 activations with either male Luer slip or male Luer lock connectors. Product labeling should specify the 5-year shelf life and maximum gamma exposure of 42.8 kGy. No changes to storage conditions or handling procedures are required. Continued real-time aging studies are recommended to confirm accelerated aging predictions. The superior radiation tolerance of the new material provides enhanced product reliability and broader sterilization options, making it an excellent replacement for the discontinued material.']"
      ]
     },
     "execution_count": 20,
     "metadata": {},
     "output_type": "execute_result"
    }
   ],
   "source": [
    "response.split('\\n\\n')"
   ]
  }
 ],
 "metadata": {
  "kernelspec": {
   "display_name": ".venv",
   "language": "python",
   "name": "python3"
  },
  "language_info": {
   "codemirror_mode": {
    "name": "ipython",
    "version": 3
   },
   "file_extension": ".py",
   "mimetype": "text/x-python",
   "name": "python",
   "nbconvert_exporter": "python",
   "pygments_lexer": "ipython3",
   "version": "3.12.9"
  }
 },
 "nbformat": 4,
 "nbformat_minor": 2
}
