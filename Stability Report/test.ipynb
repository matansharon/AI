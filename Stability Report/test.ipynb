{
 "cells": [
  {
   "cell_type": "code",
   "execution_count": 2,
   "metadata": {},
   "outputs": [],
   "source": [
    "import base64\n",
    "import anthropic\n",
    "from dotenv import load_dotenv\n",
    "load_dotenv()\n",
    "client = anthropic.Anthropic()"
   ]
  },
  {
   "cell_type": "code",
   "execution_count": 3,
   "metadata": {},
   "outputs": [],
   "source": [
    "def read_file_and_encode(file_path):\n",
    "    with open(file_path, 'rb') as pdf_file:\n",
    "        pdf_base64 = base64.standard_b64encode(pdf_file.read()).decode(\"utf-8\")\n",
    "    \n",
    "    return pdf_base64"
   ]
  },
  {
   "cell_type": "code",
   "execution_count": 23,
   "metadata": {},
   "outputs": [],
   "source": [
    "def sections_1_2_instructions():\n",
    "    return \"\"\"\n",
    "    ## Core Requirements\n",
    "        - Use ONLY information from the provided V&V document - no external knowledge or invented details\n",
    "        - Output a coherent, text-only narrative report with clear section headings\n",
    "        - If information is missing, omit that section or note it as unavailable\n",
    "        - Focus on stability-related content: look for keywords like \"stability testing,\" \"aging,\" \"shelf life,\" \"long-term performance\"\n",
    "    \n",
    "    ### 1. Summary (Executive Summary)\n",
    "        - Brief overview of study purpose and key findings\n",
    "        - Critical data points from stability testing\n",
    "        - Overall conclusion on product stability status and recommended shelf life\n",
    "\n",
    "    ### 2. Introduction\n",
    "        - Purpose and rationale of the stability study\n",
    "        - Product description and context from V&V\n",
    "        - Scope: duration, conditions, aspects evaluated, sample sizes\n",
    "        - Regulatory/standard framework if mentioned\n",
    "        - Key assumptions about test conditions\n",
    "        \n",
    "\n",
    "\"\"\""
   ]
  },
  {
   "cell_type": "code",
   "execution_count": null,
   "metadata": {},
   "outputs": [],
   "source": [
    "def get_system_instructions():\n",
    "    return \"\"\"\n",
    "    ## Core Requirements\n",
    "    - Use ONLY information from the provided V&V document - no external knowledge or invented details\n",
    "    - Output a coherent, text-only narrative report with clear section headings\n",
    "    - If information is missing, omit that section or note it as unavailable\n",
    "    - Focus on stability-related content: look for keywords like \"stability testing,\" \"aging,\" \"shelf life,\" \"long-term performance\"\n",
    "\n",
    "    ## Report Structure\n",
    "    Generate the following sections in order:\n",
    "\n",
    "    \n",
    "\n",
    "    ### 3. Stability Study Methodology\n",
    "    - Study design overview: what was tested, how long, under what conditions\n",
    "    - Materials and samples: batch numbers, sample sizes, packaging\n",
    "    - Test parameters and measurement methods\n",
    "    - Acceptance criteria and pass/fail standards\n",
    "    - Any deviations or protocol changes noted\n",
    "\n",
    "    ### 4. Results\n",
    "    - Present data chronologically or by parameter as organized in V&V\n",
    "    - Include all relevant numerical data and observations in narrative form\n",
    "    - Note trends and changes over time\n",
    "    - Report compliance with acceptance criteria\n",
    "    - Include visual/physical observations\n",
    "    - State facts only - no interpretation here\n",
    "\n",
    "    ### 5. Discussion\n",
    "    - Analyze overall trends and their significance\n",
    "    - Compare results to acceptance criteria\n",
    "    - Explain implications for product quality and real-world use\n",
    "    - Acknowledge study limitations\n",
    "    - Provide recommendations based on findings\n",
    "    - Synthesize rather than repeat raw data\n",
    "\n",
    "    ### 6. Conclusion and Recommendations\n",
    "    - Clear statement on overall product stability\n",
    "    - Specific shelf life and storage condition recommendations\n",
    "    - Summary of compliance with all criteria\n",
    "    - Key recommendations for labeling, handling, further testing, or process changes\n",
    "    - Confident closing statement\n",
    "\n",
    "    ## Writing Guidelines\n",
    "    - Write in complete sentences with clear, professional language\n",
    "    - Organize content logically with smooth transitions between sections\n",
    "    - Include specific data points with units when available\n",
    "    - Use comparative language for trends (e.g., \"remained constant,\" \"showed slight decline\")\n",
    "    - Maintain objectivity and base all statements on V&V evidence\n",
    "    - Ensure the report reads as a standalone document\n",
    "\n",
    "    Generate a thorough stability report that comprehensively converts the V&V data into the standard stability report format.\n",
    "    \"\"\""
   ]
  },
  {
   "cell_type": "code",
   "execution_count": null,
   "metadata": {},
   "outputs": [],
   "source": [
    "\n",
    "\n",
    "def get_anthropic_response(pdf_base64, query,system_instructions):\n",
    "    client = anthropic.Anthropic()\n",
    "\n",
    "    with client.messages.stream(\n",
    "        model=\"claude-opus-4-20250514\",\n",
    "        max_tokens=16000,\n",
    "        system=system_instructions,\n",
    "        thinking={\n",
    "            \"type\": \"enabled\",\n",
    "            \"budget_tokens\": 10000\n",
    "        },\n",
    "        messages=[\n",
    "            {\n",
    "                \"role\": \"user\",\n",
    "                \"content\": [\n",
    "                    {\n",
    "                        \"type\": \"document\",\n",
    "                        \"source\": {\n",
    "                            \"type\": \"base64\",\n",
    "                            \"media_type\": \"application/pdf\",\n",
    "                            \"data\": pdf_base64\n",
    "                        }\n",
    "                    },\n",
    "                    {\n",
    "                        \"type\": \"text\",\n",
    "                        \"text\": query\n",
    "                    }\n",
    "                ]\n",
    "            }\n",
    "        ],\n",
    "    ) as stream:\n",
    "        content = []\n",
    "        for event in stream:\n",
    "            if hasattr(event, 'delta') and hasattr(event.delta, 'text'):\n",
    "                content.append(event.delta.text)\n",
    "\n",
    "        return ''.join(content)\n",
    "\n",
    "\n"
   ]
  },
  {
   "cell_type": "code",
   "execution_count": null,
   "metadata": {},
   "outputs": [],
   "source": [
    "pdf_data = read_file_and_encode('docs/PRJ-0695-Silicon Change on NIP valve-Design Verification & Validation Report.pdf')\n",
    "section_1_2_response=get_anthropic_response(pdf_data, \"Generate a product stability report from the V&V document.\",sections_1_2_instructions())"
   ]
  },
  {
   "cell_type": "code",
   "execution_count": null,
   "metadata": {},
   "outputs": [
    {
     "data": {
      "text/plain": [
       "['# Product Stability Report\\n## Silicon Change on NIP Valve - Design Verification & Validation\\n### Document: Doc-331335, Project ID: 0695',\n",
       " '## Summary (Executive Summary)',\n",
       " 'This stability study evaluated the NIP Stand-Alone valve (PN 220808L) with new silicone septum material (SILPURAN® 6000/50 A+B, PN 590422) to establish shelf life following a material change from discontinued TSL097 Silicone QP1 50 LSR. Critical stability testing included accelerated aging at 52°C and 60°C for periods simulating up to 5 years, combined with sterilization exposure of up to 42.8 kGy gamma irradiation plus two ETO cycles. All functional performance tests passed successfully after 5-year equivalent aging, supporting a recommended shelf life of five years for products containing the new silicone valve material.',\n",
       " '## Introduction',\n",
       " \"The stability study was initiated due to Dow Corning's discontinuation of TSL097 Silicone QP1 50 LSR raw material, necessitating replacement with SILPURAN® 6000/50 A+B from Wacker for the NIP valve septum component. The study aimed to verify that products assembled with the new silicone material maintain functional performance over the intended shelf life.\",\n",
       " 'The scope encompassed accelerated aging studies simulating 1 month, 2 years, and 5 years of real-time aging, conducted at two temperature conditions (52°C and 60°C) with relative humidity of 50% ±5%. Multiple product groups underwent various sterilization combinations including gamma irradiation (25-40 kGy) and ETO cycles. Real-time aging studies at 2 and 5 years were also conducted in parallel according to stability test protocol Doc-332257.',\n",
       " \"The study followed Elcam's SOP# 3-01-39 based on ASTM F 1980 Rev 21, utilizing the Arrhenius reaction rate function with Q10=2.0, where 50 days at 52°C or 29 days at 60°C simulate one year of real-time aging at 23°C.\",\n",
       " 'Key assumptions included that accelerated aging at elevated temperatures accurately predicts real-time aging effects on the silicone material and product assembly.',\n",
       " '(Note: Sections 3-10 of the standard outline - Objectives through Design Validation Summary - contain insufficient stability-specific information in the source document to generate meaningful content for this stability report. The document focuses primarily on functional verification testing rather than detailed stability methodology, data analysis, or comprehensive aging study results beyond the pass/fail outcomes mentioned in the summary and recommendations.)']"
      ]
     },
     "execution_count": 26,
     "metadata": {},
     "output_type": "execute_result"
    }
   ],
   "source": [
    "section_1_2_response.split('\\n\\n')"
   ]
  },
  {
   "cell_type": "code",
   "execution_count": 4,
   "metadata": {},
   "outputs": [],
   "source": [
    "def section_3_instructions():\n",
    "    return \"\"\"\n",
    "read the reference table at section 3 of the V&V document and a table with only the relevant refecnce data for section 3 of the stability report porotocol.\n",
    "    \"\"\""
   ]
  },
  {
   "cell_type": "code",
   "execution_count": 5,
   "metadata": {},
   "outputs": [
    {
     "name": "stdout",
     "output_type": "stream",
     "text": [
      "Below is the information requested in two parts:\n",
      "\n",
      "A. Complete reference list that appears in Section 3 of the “Design Verification & Validation Report – Silicon Change on NIP Valve” (pages 2-3).\n",
      "\n",
      "B. A condensed table that keeps ONLY those references that are directly useful for writing, executing or supporting Section 3 (References) of the “Product Stability Test Protocol – PRJ-0695-Silicon Change on NIP valve” (Doc-332257).  \n",
      "The filtering logic was: keep documents that (1) define or govern aging / shelf-life work, (2) document sterilisation history that may affect stability, or (3) capture stability/aging test results.\n",
      "\n",
      "\n",
      "\n",
      "──────────────────────────────────────────────────  \n",
      "A. Reference table in the V&V report (Section 3)\n",
      "\n",
      "| # | Description / Title (as written) | Doc-ID | Rev. |\n",
      "|---|----------------------------------|--------|------|\n",
      "| 3.1 | MRD – Marketing Requirements Document | – | – |\n",
      "| 3.2 | PRD – Product Requirements Document | Doc-310149 | B |\n",
      "| 3.3 | Product risk-management document (FMEA) | Doc-310418 | C |\n",
      "| 3.4 | Design V&V plan | Doc-3313350 | A |\n",
      "| 3.5 | PRJ-0501 – Haemopharm NIP – Design V&V Report | Doc-088691 | B |\n",
      "| 3.6 | PRJ-0567 – Improved Cap for LAV – Design V&V Report | Doc-115698 | C |\n",
      "| 3.7 | PRJ-0577 – Stand-Alone NIP – Design V&V Report | Doc-131742 | F |\n",
      "| 3.8 | ACT-0677 – AAMI ISO CN27-2021 – Design V&V Report | Doc-299806 | A |\n",
      "| 3.9 | Elcam Products Performance after Shipping – NIP Stand-Alone – Test Summary | Doc-157254 | A |\n",
      "| 3.10 | ECO-24-0005 – PN 590408 Silicone Change | Doc-301367 | 01 |\n",
      "| 3.11 | PRJ-0695 – Silicon Change on NIP Valve – Regulatory Review | Doc-311581 | A |\n",
      "| 3.12 | Test Protocol – Microbial Ingress Test (11 days) | Doc-330808 | A |\n",
      "| 3.13 | 1.10 Form, manufacturing documents & laboratory results | Doc-332798 | – |\n",
      "| 3.14 | Laboratory Test Results Report | Doc-332799 | – |\n",
      "| 3.15 | Aging Report | Doc-332102 | A |\n",
      "| 3.16 | Dimensional Report | Doc-332096 / Doc-332095 | A / A |\n",
      "| 3.17 | Gamma Sterilisation Report | Doc-332122 | A |\n",
      "| 3.18 | EtO Sterilisation Report | Doc-332113 | A |\n",
      "| 3.19 | PRJ-0695 – Silicon Change on NIP Valve – Product Stability Test Protocol | Doc-332257 | A |\n",
      "| 3.20 | PRJ-0695 – Silicon Change on NIP Valve – Design V&V Plan | 310150 | B |\n",
      "\n",
      "──────────────────────────────────────────────────  \n",
      "B. References RELEVANT for Section 3 of the Stability Test Protocol (Doc-332257)\n",
      "\n",
      "| Ref. # in V&V table | Why relevant to stability work | Document Title | Doc-ID | Rev. |\n",
      "|---------------------|--------------------------------|----------------|--------|------|\n",
      "| 3.15 | Primary report that summarises accelerated-aging calculations & results; forms the backbone of stability justification | Aging Report | Doc-332102 | A |\n",
      "| 3.17 | Gives actual irradiation dose map (Gamma 40–46 kGy) – needed to correlate radiation-induced aging in stability study | Gamma Sterilisation Report | Doc-332122 | A |\n",
      "| 3.18 | Provides EtO cycle parameters – part of total sterilisation exposure assessed in stability protocol | EtO Sterilisation Report | Doc-332113 | A |\n",
      "| 3.14 | Consolidated laboratory data; contains raw results that are trended in stability report (e.g., dimensional drift, leakage). | Laboratory Test Results Report | Doc-332799 | – |\n",
      "| 3.13 | 1.10 form captures production lot history & test boxes; provides traceability for samples placed on stability. | 1.10 Form / Mfg. documents | Doc-332798 | – |\n",
      "| 3.19 | The stability protocol itself – listed for completeness in Section 3 of the protocol (self-reference). | Product Stability Test Protocol | Doc-332257 | A |\n",
      "| 3.10 | ECO that formally drives the material-change project and sets the need for shelf-life re-verification. | ECO-24-0005 – PN 590408 Silicone Change | Doc-301367 | 01 |\n",
      "| 3.3 | FMEA contains identified aging-related risks; cited in protocol as rationale for test matrix. | Product Risk-Management Document (FMEA) | Doc-310418 | C |\n",
      "\n",
      "If the protocol keeps its reference section concise, you may list only the shaded items above (3.15, 3.17, 3.18, 3.14, 3.13 & 3.19).  \n",
      "Items 3.10 and 3.3 are optional but often retained for regulatory completeness because they provide traceability to the change-control order (ECO) and the risk assessment driving the stability study.\n"
     ]
    }
   ],
   "source": [
    "from openai import OpenAI\n",
    "from dotenv import load_dotenv\n",
    "load_dotenv()\n",
    "client = OpenAI()\n",
    "\n",
    "file = client.files.create(\n",
    "    file=open(\"docs/PRJ-0695-Silicon Change on NIP valve-Design Verification & Validation Report.pdf\", \"rb\"),\n",
    "    purpose=\"user_data\"\n",
    ")\n",
    "\n",
    "completion = client.chat.completions.create(\n",
    "    model=\"o3\",\n",
    "    reasoning_effort=\"high\",\n",
    "    messages=[\n",
    "        {\n",
    "            \"role\": \"user\",\n",
    "            \"content\": [\n",
    "                {\n",
    "                    \"type\": \"file\",\n",
    "                    \"file\": {\n",
    "                        \"file_id\": file.id,\n",
    "                    }\n",
    "                },\n",
    "                {\n",
    "                    \"type\": \"text\",\n",
    "                    \"text\": section_3_instructions(),\n",
    "                },\n",
    "            ]\n",
    "        }\n",
    "    ]\n",
    ")\n",
    "\n",
    "print(completion.choices[0].message.content)"
   ]
  },
  {
   "cell_type": "code",
   "execution_count": 15,
   "metadata": {},
   "outputs": [],
   "source": [
    "def get_openai_response(file, query):\n",
    "    client = OpenAI()\n",
    "\n",
    "    completion = client.chat.completions.create(\n",
    "    model=\"o3\",\n",
    "    reasoning_effort=\"high\",\n",
    "    messages=[\n",
    "        {\n",
    "            \"role\": \"user\",\n",
    "            \"content\": [\n",
    "                {\n",
    "                    \"type\": \"file\",\n",
    "                    \"file\": {\n",
    "                        \"file_id\": file.id,\n",
    "                    }\n",
    "                },\n",
    "                {\n",
    "                    \"type\": \"text\",\n",
    "                    \"text\": query,\n",
    "                },\n",
    "            ]\n",
    "        }\n",
    "    ]\n",
    ")\n",
    "\n",
    "    return completion.choices[0].message.content"
   ]
  },
  {
   "cell_type": "code",
   "execution_count": 20,
   "metadata": {},
   "outputs": [],
   "source": [
    "def load_file_to_openai(file_path):\n",
    "    client = OpenAI()\n",
    "    file = client.files.create(\n",
    "        file=open(file_path, \"rb\"),\n",
    "        purpose=\"user_data\"\n",
    "    )\n",
    "    return file"
   ]
  },
  {
   "cell_type": "code",
   "execution_count": 21,
   "metadata": {},
   "outputs": [],
   "source": [
    "file = load_file_to_openai(\"docs/PRJ-0695-Silicon Change on NIP valve-Design Verification & Validation Report.pdf\")"
   ]
  },
  {
   "cell_type": "code",
   "execution_count": 22,
   "metadata": {},
   "outputs": [
    {
     "data": {
      "text/plain": [
       "FileObject(id='file-S9XhiDCjcrkNSuvCpbgF6n', bytes=741819, created_at=1749217915, filename='PRJ-0695-Silicon Change on NIP valve-Design Verification & Validation Report.pdf', object='file', purpose='user_data', status='processed', expires_at=None, status_details=None)"
      ]
     },
     "execution_count": 22,
     "metadata": {},
     "output_type": "execute_result"
    }
   ],
   "source": [
    "file"
   ]
  },
  {
   "cell_type": "code",
   "execution_count": 23,
   "metadata": {},
   "outputs": [
    {
     "name": "stdout",
     "output_type": "stream",
     "text": [
      "Below is\n",
      "\n",
      "1.  A transcription of the complete “Section 3 – References” table that appears in the Design Verification & Validation Report “Silicon Change on NIP valve” (Doc-331335, Rev A, page 2).\n",
      "\n",
      "2.  A condensed table that keeps **only the items that would normally be cited in Section 3 of the Product-Stability Test Protocol (Doc-332257, Rev A)**—i.e., documents that are either:\n",
      "    • themselves the stability protocol, or  \n",
      "    • supply data/results that are fed into the stability study (aging, sterilization, dimensional or laboratory results, manufacturing batch records, risk inputs, etc.).\n",
      "\n",
      "--------------------------------------------------------------------\n",
      "1.  FULL REFERENCE TABLE – V&V REPORT (page 2)\n",
      "--------------------------------------------------------------------\n",
      "| # | Description                                                                                                                         | Doc-ID      | Rev |\n",
      "|---|-------------------------------------------------------------------------------------------------------------------------------------|-------------|-----|\n",
      "|3.1| MRD – Marketing Requirements Document                                                                                              | N.A.        | –   |\n",
      "|3.2| PRD – Product Requirements Document                                                                                                 | Doc-310149  | B   |\n",
      "|3.3| Product risk-management document (Product FMEA)                                                                                     | Doc-310418  | C   |\n",
      "|3.4| Design V&V Plan                                                                                                                     | Doc-3313350 | A   |\n",
      "|3.5| PRJ-0501 – Haemopharm NIP – Design V&V Report                                                                                       | Doc-088691  | B   |\n",
      "|3.6| PRJ-0567 – Improved Cap for LAV – Design V&V Report                                                                                 | Doc-115698  | C   |\n",
      "|3.7| PRJ-0577 – Stand-Alone NIP – Design V&V Report                                                                                      | Doc-131742  | F   |\n",
      "|3.8| ACT-0677 – AAMI ISO CN27-2021 – Design V&V Report                                                                                   | Doc-299806  | A   |\n",
      "|3.9| Elcam Products Performance after Shipping – Test Summary (Val-1514)                                                                 | Doc-157254  | A   |\n",
      "|3.10| ECO-24-0005 – PN 590408 Silicone Change                                                                                            | Doc-301367  | 01  |\n",
      "|3.11| PRJ-0695 – Silicon Change on NIP valve – Regulatory Review                                                                         | Doc-311581  | A   |\n",
      "|3.12| Test Protocol – Microbial Ingress (11 days, multiple activations, prolonged connection)                                            | Doc-330808  | A   |\n",
      "|3.13| 1.10 Form, manufacturing documents & laboratory results                                                                            | Doc-332798  | –   |\n",
      "|3.14| Laboratory Test-results report                                                                                                     | Doc-332799  | –   |\n",
      "|3.15| Aging report                                                                                                                       | Doc-332102  | A   |\n",
      "|3.16| Dimensional report                                                                                                                 | Doc-332096 / Doc-332095 | A / A |\n",
      "|3.17| Gamma-Sterilization report                                                                                                         | Doc-332122  | A   |\n",
      "|3.18| EtO-Sterilization report                                                                                                           | Doc-332113  | A   |\n",
      "|3.19| PRJ-0695 – Silicon Change on NIP valve – **Product-Stability Test Protocol**                                                       | Doc-332257  | A   |\n",
      "|3.20| PRJ-0695 – Silicon Change on NIP valve – Design V&V Plan                                                                           | 310150      | B   |\n",
      "\n",
      "--------------------------------------------------------------------\n",
      "2.  FILTERED REFERENCES – **RELEVANT FOR THE STABILITY-TEST PROTOCOL (Doc-332257)**\n",
      "--------------------------------------------------------------------\n",
      "| Ref. # in V&V | Why needed for Stability Report | Description (to cite in §3 of Stability Protocol)                           | Doc-ID           | Rev |\n",
      "|---------------|---------------------------------|--------------------------------------------------------------------------------|------------------|-----|\n",
      "|3.2            | Defines shelf-life & storage requirements that the stability study must verify.                             | Product Requirements Document (PRD)                                           | Doc-310149       | B   |\n",
      "|3.3            | Risk inputs driving the need for shelf-life / aging validation.                                             | Product Risk-Management File (FMEA)                                           | Doc-310418       | C   |\n",
      "|3.13           | Batch records & raw lab data used as input evidence for stability evaluation.                              | 1.10 Form – Manufacturing documents & laboratory results                       | Doc-332798       | –   |\n",
      "|3.14           | Consolidated laboratory results referenced in stability report tables/graphs.                              | Laboratory Test-results report                                                | Doc-332799       | –   |\n",
      "|3.15           | Core outcome of accelerated-aging portion of the stability study.                                          | Aging Report                                                                   | Doc-332102       | A   |\n",
      "|3.16           | Post-aging dimensional confirmation included in stability assessment.                                      | Dimensional Report (post-aging)                                               | Doc-332096 / 332095 | A / A |\n",
      "|3.17           | Sterilization (Gamma) exposure history of samples under stability test.                                    | Gamma Sterilization Report                                                     | Doc-332122       | A   |\n",
      "|3.18           | Sterilization (EtO) exposure history of samples under stability test.                                      | EtO Sterilization Report                                                       | Doc-332113       | A   |\n",
      "|3.19           | The stability protocol itself (master document for the study).                                             | Product-Stability Test Protocol – Silicon Change on NIP Valve                 | Doc-332257       | A   |\n",
      "\n",
      "(Items such as previous V&V studies, shipping simulation, ECO, microbial-ingress protocol, etc., are not normally cited inside the stability-report reference section and were therefore omitted.)\n"
     ]
    }
   ],
   "source": [
    "response=get_openai_response(file, section_3_instructions())\n",
    "print(response)"
   ]
  }
 ],
 "metadata": {
  "kernelspec": {
   "display_name": ".venv",
   "language": "python",
   "name": "python3"
  },
  "language_info": {
   "codemirror_mode": {
    "name": "ipython",
    "version": 3
   },
   "file_extension": ".py",
   "mimetype": "text/x-python",
   "name": "python",
   "nbconvert_exporter": "python",
   "pygments_lexer": "ipython3",
   "version": "3.12.9"
  }
 },
 "nbformat": 4,
 "nbformat_minor": 2
}
