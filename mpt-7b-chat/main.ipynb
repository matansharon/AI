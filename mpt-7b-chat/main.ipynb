{
 "cells": [
  {
   "cell_type": "code",
   "execution_count": 1,
   "metadata": {},
   "outputs": [
    {
     "name": "stderr",
     "output_type": "stream",
     "text": [
      "Explicitly passing a `revision` is encouraged when loading a configuration with custom code to ensure no malicious code has been contributed in a newer revision.\n",
      "Explicitly passing a `revision` is encouraged when loading a model with custom code to ensure no malicious code has been contributed in a newer revision.\n"
     ]
    },
    {
     "ename": "ImportError",
     "evalue": "This modeling file requires the following packages that were not found in your environment: flash_attn, einops. Run `pip install flash_attn einops`",
     "output_type": "error",
     "traceback": [
      "\u001b[0;31m---------------------------------------------------------------------------\u001b[0m",
      "\u001b[0;31mImportError\u001b[0m                               Traceback (most recent call last)",
      "Cell \u001b[0;32mIn[1], line 2\u001b[0m\n\u001b[1;32m      1\u001b[0m \u001b[39mimport\u001b[39;00m \u001b[39mtransformers\u001b[39;00m\n\u001b[0;32m----> 2\u001b[0m model \u001b[39m=\u001b[39m transformers\u001b[39m.\u001b[39;49mAutoModelForCausalLM\u001b[39m.\u001b[39;49mfrom_pretrained(\n\u001b[1;32m      3\u001b[0m \u001b[39m'\u001b[39;49m\u001b[39mmosaicml/mpt-7b-chat\u001b[39;49m\u001b[39m'\u001b[39;49m,\n\u001b[1;32m      4\u001b[0m trust_remote_code\u001b[39m=\u001b[39;49m\u001b[39mTrue\u001b[39;49;00m\n\u001b[1;32m      5\u001b[0m )\n",
      "File \u001b[0;32m~/anaconda3/envs/AI_env/lib/python3.10/site-packages/transformers/models/auto/auto_factory.py:455\u001b[0m, in \u001b[0;36m_BaseAutoModelClass.from_pretrained\u001b[0;34m(cls, pretrained_model_name_or_path, *model_args, **kwargs)\u001b[0m\n\u001b[1;32m    453\u001b[0m     class_ref \u001b[39m=\u001b[39m config\u001b[39m.\u001b[39mauto_map[\u001b[39mcls\u001b[39m\u001b[39m.\u001b[39m\u001b[39m__name__\u001b[39m]\n\u001b[1;32m    454\u001b[0m     module_file, class_name \u001b[39m=\u001b[39m class_ref\u001b[39m.\u001b[39msplit(\u001b[39m\"\u001b[39m\u001b[39m.\u001b[39m\u001b[39m\"\u001b[39m)\n\u001b[0;32m--> 455\u001b[0m     model_class \u001b[39m=\u001b[39m get_class_from_dynamic_module(\n\u001b[1;32m    456\u001b[0m         pretrained_model_name_or_path, module_file \u001b[39m+\u001b[39;49m \u001b[39m\"\u001b[39;49m\u001b[39m.py\u001b[39;49m\u001b[39m\"\u001b[39;49m, class_name, \u001b[39m*\u001b[39;49m\u001b[39m*\u001b[39;49mhub_kwargs, \u001b[39m*\u001b[39;49m\u001b[39m*\u001b[39;49mkwargs\n\u001b[1;32m    457\u001b[0m     )\n\u001b[1;32m    458\u001b[0m     \u001b[39mreturn\u001b[39;00m model_class\u001b[39m.\u001b[39mfrom_pretrained(\n\u001b[1;32m    459\u001b[0m         pretrained_model_name_or_path, \u001b[39m*\u001b[39mmodel_args, config\u001b[39m=\u001b[39mconfig, \u001b[39m*\u001b[39m\u001b[39m*\u001b[39mhub_kwargs, \u001b[39m*\u001b[39m\u001b[39m*\u001b[39mkwargs\n\u001b[1;32m    460\u001b[0m     )\n\u001b[1;32m    461\u001b[0m \u001b[39melif\u001b[39;00m \u001b[39mtype\u001b[39m(config) \u001b[39min\u001b[39;00m \u001b[39mcls\u001b[39m\u001b[39m.\u001b[39m_model_mapping\u001b[39m.\u001b[39mkeys():\n",
      "File \u001b[0;32m~/anaconda3/envs/AI_env/lib/python3.10/site-packages/transformers/dynamic_module_utils.py:363\u001b[0m, in \u001b[0;36mget_class_from_dynamic_module\u001b[0;34m(pretrained_model_name_or_path, module_file, class_name, cache_dir, force_download, resume_download, proxies, use_auth_token, revision, local_files_only, **kwargs)\u001b[0m\n\u001b[1;32m    301\u001b[0m \u001b[39m\u001b[39m\u001b[39m\"\"\"\u001b[39;00m\n\u001b[1;32m    302\u001b[0m \u001b[39mExtracts a class from a module file, present in the local folder or repository of a model.\u001b[39;00m\n\u001b[1;32m    303\u001b[0m \n\u001b[0;32m   (...)\u001b[0m\n\u001b[1;32m    360\u001b[0m \u001b[39mcls = get_class_from_dynamic_module(\"sgugger/my-bert-model\", \"modeling.py\", \"MyBertModel\")\u001b[39;00m\n\u001b[1;32m    361\u001b[0m \u001b[39m```\"\"\"\u001b[39;00m\n\u001b[1;32m    362\u001b[0m \u001b[39m# And lastly we get the class inside our newly created module\u001b[39;00m\n\u001b[0;32m--> 363\u001b[0m final_module \u001b[39m=\u001b[39m get_cached_module_file(\n\u001b[1;32m    364\u001b[0m     pretrained_model_name_or_path,\n\u001b[1;32m    365\u001b[0m     module_file,\n\u001b[1;32m    366\u001b[0m     cache_dir\u001b[39m=\u001b[39;49mcache_dir,\n\u001b[1;32m    367\u001b[0m     force_download\u001b[39m=\u001b[39;49mforce_download,\n\u001b[1;32m    368\u001b[0m     resume_download\u001b[39m=\u001b[39;49mresume_download,\n\u001b[1;32m    369\u001b[0m     proxies\u001b[39m=\u001b[39;49mproxies,\n\u001b[1;32m    370\u001b[0m     use_auth_token\u001b[39m=\u001b[39;49muse_auth_token,\n\u001b[1;32m    371\u001b[0m     revision\u001b[39m=\u001b[39;49mrevision,\n\u001b[1;32m    372\u001b[0m     local_files_only\u001b[39m=\u001b[39;49mlocal_files_only,\n\u001b[1;32m    373\u001b[0m )\n\u001b[1;32m    374\u001b[0m \u001b[39mreturn\u001b[39;00m get_class_in_module(class_name, final_module\u001b[39m.\u001b[39mreplace(\u001b[39m\"\u001b[39m\u001b[39m.py\u001b[39m\u001b[39m\"\u001b[39m, \u001b[39m\"\u001b[39m\u001b[39m\"\u001b[39m))\n",
      "File \u001b[0;32m~/anaconda3/envs/AI_env/lib/python3.10/site-packages/transformers/dynamic_module_utils.py:274\u001b[0m, in \u001b[0;36mget_cached_module_file\u001b[0;34m(pretrained_model_name_or_path, module_file, cache_dir, force_download, resume_download, proxies, use_auth_token, revision, local_files_only)\u001b[0m\n\u001b[1;32m    272\u001b[0m     \u001b[39mfor\u001b[39;00m module_needed \u001b[39min\u001b[39;00m modules_needed:\n\u001b[1;32m    273\u001b[0m         \u001b[39mif\u001b[39;00m \u001b[39mnot\u001b[39;00m (submodule_path \u001b[39m/\u001b[39m module_needed)\u001b[39m.\u001b[39mexists():\n\u001b[0;32m--> 274\u001b[0m             get_cached_module_file(\n\u001b[1;32m    275\u001b[0m                 pretrained_model_name_or_path,\n\u001b[1;32m    276\u001b[0m                 \u001b[39mf\u001b[39;49m\u001b[39m\"\u001b[39;49m\u001b[39m{\u001b[39;49;00mmodule_needed\u001b[39m}\u001b[39;49;00m\u001b[39m.py\u001b[39;49m\u001b[39m\"\u001b[39;49m,\n\u001b[1;32m    277\u001b[0m                 cache_dir\u001b[39m=\u001b[39;49mcache_dir,\n\u001b[1;32m    278\u001b[0m                 force_download\u001b[39m=\u001b[39;49mforce_download,\n\u001b[1;32m    279\u001b[0m                 resume_download\u001b[39m=\u001b[39;49mresume_download,\n\u001b[1;32m    280\u001b[0m                 proxies\u001b[39m=\u001b[39;49mproxies,\n\u001b[1;32m    281\u001b[0m                 use_auth_token\u001b[39m=\u001b[39;49muse_auth_token,\n\u001b[1;32m    282\u001b[0m                 revision\u001b[39m=\u001b[39;49mrevision,\n\u001b[1;32m    283\u001b[0m                 local_files_only\u001b[39m=\u001b[39;49mlocal_files_only,\n\u001b[1;32m    284\u001b[0m             )\n\u001b[1;32m    285\u001b[0m \u001b[39mreturn\u001b[39;00m os\u001b[39m.\u001b[39mpath\u001b[39m.\u001b[39mjoin(full_submodule, module_file)\n",
      "File \u001b[0;32m~/anaconda3/envs/AI_env/lib/python3.10/site-packages/transformers/dynamic_module_utils.py:237\u001b[0m, in \u001b[0;36mget_cached_module_file\u001b[0;34m(pretrained_model_name_or_path, module_file, cache_dir, force_download, resume_download, proxies, use_auth_token, revision, local_files_only)\u001b[0m\n\u001b[1;32m    234\u001b[0m     \u001b[39mraise\u001b[39;00m\n\u001b[1;32m    236\u001b[0m \u001b[39m# Check we have all the requirements in our environment\u001b[39;00m\n\u001b[0;32m--> 237\u001b[0m modules_needed \u001b[39m=\u001b[39m check_imports(resolved_module_file)\n\u001b[1;32m    239\u001b[0m \u001b[39m# Now we move the module inside our cached dynamic modules.\u001b[39;00m\n\u001b[1;32m    240\u001b[0m full_submodule \u001b[39m=\u001b[39m TRANSFORMERS_DYNAMIC_MODULE_NAME \u001b[39m+\u001b[39m os\u001b[39m.\u001b[39mpath\u001b[39m.\u001b[39msep \u001b[39m+\u001b[39m submodule\n",
      "File \u001b[0;32m~/anaconda3/envs/AI_env/lib/python3.10/site-packages/transformers/dynamic_module_utils.py:134\u001b[0m, in \u001b[0;36mcheck_imports\u001b[0;34m(filename)\u001b[0m\n\u001b[1;32m    131\u001b[0m         missing_packages\u001b[39m.\u001b[39mappend(imp)\n\u001b[1;32m    133\u001b[0m \u001b[39mif\u001b[39;00m \u001b[39mlen\u001b[39m(missing_packages) \u001b[39m>\u001b[39m \u001b[39m0\u001b[39m:\n\u001b[0;32m--> 134\u001b[0m     \u001b[39mraise\u001b[39;00m \u001b[39mImportError\u001b[39;00m(\n\u001b[1;32m    135\u001b[0m         \u001b[39m\"\u001b[39m\u001b[39mThis modeling file requires the following packages that were not found in your environment: \u001b[39m\u001b[39m\"\u001b[39m\n\u001b[1;32m    136\u001b[0m         \u001b[39mf\u001b[39m\u001b[39m\"\u001b[39m\u001b[39m{\u001b[39;00m\u001b[39m'\u001b[39m\u001b[39m, \u001b[39m\u001b[39m'\u001b[39m\u001b[39m.\u001b[39mjoin(missing_packages)\u001b[39m}\u001b[39;00m\u001b[39m. Run `pip install \u001b[39m\u001b[39m{\u001b[39;00m\u001b[39m'\u001b[39m\u001b[39m \u001b[39m\u001b[39m'\u001b[39m\u001b[39m.\u001b[39mjoin(missing_packages)\u001b[39m}\u001b[39;00m\u001b[39m`\u001b[39m\u001b[39m\"\u001b[39m\n\u001b[1;32m    137\u001b[0m     )\n\u001b[1;32m    139\u001b[0m \u001b[39mreturn\u001b[39;00m get_relative_imports(filename)\n",
      "\u001b[0;31mImportError\u001b[0m: This modeling file requires the following packages that were not found in your environment: flash_attn, einops. Run `pip install flash_attn einops`"
     ]
    }
   ],
   "source": [
    "import transformers\n",
    "model = transformers.AutoModelForCausalLM.from_pretrained(\n",
    "'mosaicml/mpt-7b-chat',\n",
    "trust_remote_code=True\n",
    ")\n"
   ]
  },
  {
   "cell_type": "code",
   "execution_count": null,
   "metadata": {},
   "outputs": [],
   "source": [
    "config = transformers.AutoConfig.from_pretrained(\n",
    "'mosaicml/mpt-7b-chat',\n",
    "trust_remote_code=True\n",
    ")\n",
    "config.attn_config['attn_impl'] = 'triton'\n",
    "\n",
    "model = transformers.AutoModelForCausalLM.from_pretrained(\n",
    "'mosaicml/mpt-7b-chat',\n",
    "config=config,\n",
    "torch_dtype=torch.bfloat16,\n",
    "trust_remote_code=True\n",
    ")\n",
    "model.to(device='cuda:0')\n"
   ]
  }
 ],
 "metadata": {
  "kernelspec": {
   "display_name": "AI_env",
   "language": "python",
   "name": "python3"
  },
  "language_info": {
   "codemirror_mode": {
    "name": "ipython",
    "version": 3
   },
   "file_extension": ".py",
   "mimetype": "text/x-python",
   "name": "python",
   "nbconvert_exporter": "python",
   "pygments_lexer": "ipython3",
   "version": "3.10.11"
  },
  "orig_nbformat": 4,
  "vscode": {
   "interpreter": {
    "hash": "667b181c630d0c2792b671a6ac5fb5e28e75373882d6e85ca3fd7749e63b4f48"
   }
  }
 },
 "nbformat": 4,
 "nbformat_minor": 2
}
