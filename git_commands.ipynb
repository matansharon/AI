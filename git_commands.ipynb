{
 "cells": [
  {
   "cell_type": "code",
   "execution_count": 5,
   "metadata": {},
   "outputs": [
    {
     "name": "stdout",
     "output_type": "stream",
     "text": [
      "\n",
      "On branch master\n",
      "nothing to commit, working tree clean\n",
      "\n",
      "\n"
     ]
    }
   ],
   "source": [
    "import subprocess\n",
    "\n",
    "# Run a Git command\n",
    "\n",
    "result = subprocess.run('git add --all', capture_output=True, text=True)\n",
    "print(result.stdout)\n",
    "result = subprocess.run('git commit -m \"moving to liam solution\"', capture_output=True, text=True)\n",
    "print(result.stdout)\n",
    "result = subprocess.run('git push ai_github master', capture_output=True, text=True)\n",
    "# Print the output of the Git command\n",
    "print(result.stdout)"
   ]
  }
 ],
 "metadata": {
  "kernelspec": {
   "display_name": "ai_env",
   "language": "python",
   "name": "python3"
  },
  "language_info": {
   "codemirror_mode": {
    "name": "ipython",
    "version": 3
   },
   "file_extension": ".py",
   "mimetype": "text/x-python",
   "name": "python",
   "nbconvert_exporter": "python",
   "pygments_lexer": "ipython3",
   "version": "3.10.11"
  },
  "orig_nbformat": 4
 },
 "nbformat": 4,
 "nbformat_minor": 2
}
