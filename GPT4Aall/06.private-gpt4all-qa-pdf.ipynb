{
 "cells": [
  {
   "attachments": {},
   "cell_type": "markdown",
   "metadata": {},
   "source": [
    "loader = PyPDFLoader(\"C:/Users/matan.s/Desktop/python/AI/GPT4Aall/2022_Annual_Report.pdf\")"
   ]
  },
  {
   "cell_type": "code",
   "execution_count": 4,
   "metadata": {
    "id": "HF-QO_A9kcNW"
   },
   "outputs": [],
   "source": [
    "!pip install -Uqqq pip --progress-bar off\n",
    "!pip install -qqq langchain==0.0.173 --progress-bar off\n",
    "!pip install -qqq chromadb==0.3.23 --progress-bar off\n",
    "!pip install -qqq pypdf==3.8.1 --progress-bar off\n",
    "!pip install -qqq pygpt4all==1.1.0 --progress-bar off\n",
    "!pip install -qqq pdf2image==1.16.3 --progress-bar off"
   ]
  },
  {
   "cell_type": "code",
   "execution_count": 5,
   "metadata": {
    "id": "XtsFzzRUnOlS"
   },
   "outputs": [
    {
     "name": "stdout",
     "output_type": "stream",
     "text": [
      "Unexpected exception formatting exception. Falling back to standard exception\n"
     ]
    },
    {
     "name": "stderr",
     "output_type": "stream",
     "text": [
      "Traceback (most recent call last):\n",
      "  File \"/Users/matansharon/anaconda3/envs/ai_env/lib/python3.10/site-packages/requests/compat.py\", line 11, in <module>\n",
      "    import chardet\n",
      "ModuleNotFoundError: No module named 'chardet'\n",
      "\n",
      "During handling of the above exception, another exception occurred:\n",
      "\n",
      "Traceback (most recent call last):\n",
      "  File \"/Users/matansharon/anaconda3/envs/ai_env/lib/python3.10/site-packages/IPython/core/interactiveshell.py\", line 3505, in run_code\n",
      "    exec(code_obj, self.user_global_ns, self.user_ns)\n",
      "  File \"/var/folders/hh/bn85jql94k9dkgccvt0vbxf40000gn/T/ipykernel_82332/84865644.py\", line 1, in <module>\n",
      "    from langchain.chains import RetrievalQA\n",
      "  File \"/Users/matansharon/anaconda3/envs/ai_env/lib/python3.10/site-packages/langchain/__init__.py\", line 6, in <module>\n",
      "    from langchain.agents import MRKLChain, ReActChain, SelfAskWithSearchChain\n",
      "  File \"/Users/matansharon/anaconda3/envs/ai_env/lib/python3.10/site-packages/langchain/agents/__init__.py\", line 2, in <module>\n",
      "    from langchain.agents.agent import (\n",
      "  File \"/Users/matansharon/anaconda3/envs/ai_env/lib/python3.10/site-packages/langchain/agents/agent.py\", line 16, in <module>\n",
      "    from langchain.agents.tools import InvalidTool\n",
      "  File \"/Users/matansharon/anaconda3/envs/ai_env/lib/python3.10/site-packages/langchain/agents/tools.py\", line 4, in <module>\n",
      "    from langchain.callbacks.manager import (\n",
      "  File \"/Users/matansharon/anaconda3/envs/ai_env/lib/python3.10/site-packages/langchain/callbacks/__init__.py\", line 6, in <module>\n",
      "    from langchain.callbacks.manager import (\n",
      "  File \"/Users/matansharon/anaconda3/envs/ai_env/lib/python3.10/site-packages/langchain/callbacks/manager.py\", line 24, in <module>\n",
      "    from langchain.callbacks.tracers.langchain import LangChainTracer\n",
      "  File \"/Users/matansharon/anaconda3/envs/ai_env/lib/python3.10/site-packages/langchain/callbacks/tracers/__init__.py\", line 3, in <module>\n",
      "    from langchain.callbacks.tracers.langchain import LangChainTracer\n",
      "  File \"/Users/matansharon/anaconda3/envs/ai_env/lib/python3.10/site-packages/langchain/callbacks/tracers/langchain.py\", line 10, in <module>\n",
      "    import requests\n",
      "  File \"/Users/matansharon/anaconda3/envs/ai_env/lib/python3.10/site-packages/requests/__init__.py\", line 45, in <module>\n",
      "    from .exceptions import RequestsDependencyWarning\n",
      "  File \"/Users/matansharon/anaconda3/envs/ai_env/lib/python3.10/site-packages/requests/exceptions.py\", line 9, in <module>\n",
      "    from .compat import JSONDecodeError as CompatJSONDecodeError\n",
      "  File \"/Users/matansharon/anaconda3/envs/ai_env/lib/python3.10/site-packages/requests/compat.py\", line 13, in <module>\n",
      "    import charset_normalizer as chardet\n",
      "  File \"/Users/matansharon/anaconda3/envs/ai_env/lib/python3.10/site-packages/charset_normalizer/__init__.py\", line 23, in <module>\n",
      "    from charset_normalizer.api import from_fp, from_path, from_bytes, normalize\n",
      "  File \"/Users/matansharon/anaconda3/envs/ai_env/lib/python3.10/site-packages/charset_normalizer/api.py\", line 10, in <module>\n",
      "    from charset_normalizer.md import mess_ratio\n",
      "AttributeError: partially initialized module 'charset_normalizer' has no attribute 'md__mypyc' (most likely due to a circular import)\n",
      "\n",
      "During handling of the above exception, another exception occurred:\n",
      "\n",
      "Traceback (most recent call last):\n",
      "  File \"/Users/matansharon/anaconda3/envs/ai_env/lib/python3.10/site-packages/IPython/core/interactiveshell.py\", line 2102, in showtraceback\n",
      "    stb = self.InteractiveTB.structured_traceback(\n",
      "  File \"/Users/matansharon/anaconda3/envs/ai_env/lib/python3.10/site-packages/IPython/core/ultratb.py\", line 1310, in structured_traceback\n",
      "    return FormattedTB.structured_traceback(\n",
      "  File \"/Users/matansharon/anaconda3/envs/ai_env/lib/python3.10/site-packages/IPython/core/ultratb.py\", line 1199, in structured_traceback\n",
      "    return VerboseTB.structured_traceback(\n",
      "  File \"/Users/matansharon/anaconda3/envs/ai_env/lib/python3.10/site-packages/IPython/core/ultratb.py\", line 1052, in structured_traceback\n",
      "    formatted_exception = self.format_exception_as_a_whole(etype, evalue, etb, number_of_lines_of_context,\n",
      "  File \"/Users/matansharon/anaconda3/envs/ai_env/lib/python3.10/site-packages/IPython/core/ultratb.py\", line 978, in format_exception_as_a_whole\n",
      "    frames.append(self.format_record(record))\n",
      "  File \"/Users/matansharon/anaconda3/envs/ai_env/lib/python3.10/site-packages/IPython/core/ultratb.py\", line 878, in format_record\n",
      "    frame_info.lines, Colors, self.has_colors, lvals\n",
      "  File \"/Users/matansharon/anaconda3/envs/ai_env/lib/python3.10/site-packages/IPython/core/ultratb.py\", line 712, in lines\n",
      "    return self._sd.lines\n",
      "  File \"/Users/matansharon/anaconda3/envs/ai_env/lib/python3.10/site-packages/stack_data/utils.py\", line 145, in cached_property_wrapper\n",
      "    value = obj.__dict__[self.func.__name__] = self.func(obj)\n",
      "  File \"/Users/matansharon/anaconda3/envs/ai_env/lib/python3.10/site-packages/stack_data/core.py\", line 698, in lines\n",
      "    pieces = self.included_pieces\n",
      "  File \"/Users/matansharon/anaconda3/envs/ai_env/lib/python3.10/site-packages/stack_data/utils.py\", line 145, in cached_property_wrapper\n",
      "    value = obj.__dict__[self.func.__name__] = self.func(obj)\n",
      "  File \"/Users/matansharon/anaconda3/envs/ai_env/lib/python3.10/site-packages/stack_data/core.py\", line 649, in included_pieces\n",
      "    pos = scope_pieces.index(self.executing_piece)\n",
      "  File \"/Users/matansharon/anaconda3/envs/ai_env/lib/python3.10/site-packages/stack_data/utils.py\", line 145, in cached_property_wrapper\n",
      "    value = obj.__dict__[self.func.__name__] = self.func(obj)\n",
      "  File \"/Users/matansharon/anaconda3/envs/ai_env/lib/python3.10/site-packages/stack_data/core.py\", line 628, in executing_piece\n",
      "    return only(\n",
      "  File \"/Users/matansharon/anaconda3/envs/ai_env/lib/python3.10/site-packages/executing/executing.py\", line 164, in only\n",
      "    raise NotOneValueFound('Expected one value, found 0')\n",
      "executing.executing.NotOneValueFound: Expected one value, found 0\n"
     ]
    }
   ],
   "source": [
    "from langchain.chains import RetrievalQA\n",
    "from langchain.document_loaders import PyPDFLoader\n",
    "from langchain.embeddings import HuggingFaceEmbeddings\n",
    "from langchain.llms import GPT4All\n",
    "from langchain.text_splitter import RecursiveCharacterTextSplitter\n",
    "from langchain.vectorstores import Chroma\n",
    "from pdf2image import convert_from_path"
   ]
  },
  {
   "attachments": {},
   "cell_type": "markdown",
   "metadata": {
    "id": "C3T21B3R0hHH"
   },
   "source": [
    "## Load Data"
   ]
  },
  {
   "cell_type": "code",
   "execution_count": 6,
   "metadata": {
    "id": "BPMq8BWASZM0"
   },
   "outputs": [
    {
     "ename": "NameError",
     "evalue": "name 'PyPDFLoader' is not defined",
     "output_type": "error",
     "traceback": [
      "\u001b[0;31m---------------------------------------------------------------------------\u001b[0m",
      "\u001b[0;31mNameError\u001b[0m                                 Traceback (most recent call last)",
      "Cell \u001b[0;32mIn[6], line 1\u001b[0m\n\u001b[0;32m----> 1\u001b[0m loader \u001b[39m=\u001b[39m PyPDFLoader(\u001b[39m\"\u001b[39m\u001b[39mC:/Users/matan.s/Desktop/python/AI/GPT4Aall/2022_Annual_Report.pdf\u001b[39m\u001b[39m\"\u001b[39m)\n",
      "\u001b[0;31mNameError\u001b[0m: name 'PyPDFLoader' is not defined"
     ]
    }
   ],
   "source": [
    "loader = PyPDFLoader(\"C:/Users/matan.s/Desktop/python/AI/GPT4Aall/2022_Annual_Report.pdf\")"
   ]
  },
  {
   "cell_type": "code",
   "execution_count": 4,
   "metadata": {
    "id": "cEcersyxT_gl"
   },
   "outputs": [],
   "source": [
    "documents = loader.load_and_split()"
   ]
  },
  {
   "cell_type": "code",
   "execution_count": 5,
   "metadata": {
    "colab": {
     "base_uri": "https://localhost:8080/"
    },
    "id": "SvmNQEFFLelF",
    "outputId": "b0adcb2c-a65d-421d-f687-47b48aef45d5"
   },
   "outputs": [
    {
     "data": {
      "text/plain": [
       "115"
      ]
     },
     "execution_count": 5,
     "metadata": {},
     "output_type": "execute_result"
    }
   ],
   "source": [
    "len(documents)"
   ]
  },
  {
   "cell_type": "code",
   "execution_count": 6,
   "metadata": {
    "colab": {
     "base_uri": "https://localhost:8080/"
    },
    "id": "Al0yUjGiUAgj",
    "outputId": "ec8f8e69-60e4-44b4-fe91-89e0d5a6b2a9"
   },
   "outputs": [
    {
     "name": "stdout",
     "output_type": "stream",
     "text": [
      "1 Dear shareholders, colleagues, customers, and partners:  \n",
      "We are living through a period of historic economic, societal, and geopolitical change. The world in 2022 looks nothing like \n",
      "the world in 2019. As I write this, inflation is at a 40 -year high, supply chains are stretched, and the war in Ukraine is \n",
      "ongoing.  At the same time, we are entering a technological era with the potential to power awesome advancements \n",
      "across every sector of our economy and society. As the world’s largest software company, this places us at a historic \n",
      "intersection of opportunity and re sponsibility to the world around us.  \n",
      "Our mission to empower every person and every organization on the planet to achieve more has never been more \n",
      "urgent or more necessary. For all the uncertainty in the world, one thing is clear: People and organizations in every \n",
      "industry are increasingly looking to digital technology to overcome today’s challenges and emerge stronger. And no \n",
      "company is better positioned to help them than Microsoft.  \n",
      "Every day this past fiscal year I have had the privilege to witness our c ustomers use our platforms and tools to connect \n",
      "what technology can do with what the world needs  it to do.  \n",
      "Here are just a few examples:  \n",
      "• Ferrovial, which builds and manages some of the world’s busiest airports and highways, is using our cloud \n",
      "infrastructure to build safer roads as it prepares for a future of autonomous transportation.  \n",
      "• Peace Parks Foundation, a nonprofit helping protect n atural ecosystems in Southern Africa, is using Microsoft \n",
      "Dynamics 365 and Power BI to secure essential funding, as well as our Azure AI and IoT solutions to help \n",
      "rangers scale their park maintenance and wildlife crime prevention work.  \n",
      "• One of the world’s  largest robotics companies, Kawasaki Heavy Industries, is using the breadth of our tools —\n",
      "from Azure IoT and HoloLens —to create an industrial metaverse solution that brings its distributed workforce \n",
      "together with its network of connected equipment to impro ve productivity and keep employees safe.  \n",
      "• Globo, the biggest media and TV company in Brazil, is using Power Platform to empower its employees to \n",
      "build their own solutions for everything from booking sets to setting schedules.  \n",
      "• And Ørsted, which produce s a quarter of the world’s wind energy, is using the Microsoft Intelligent Data \n",
      "Platform to turn data from its offshore turbines into insights for predictive maintenance.  \n",
      "Amid this dynamic environment, we delivered record results in fiscal year 2022: We r eported $198  billion in revenue and \n",
      "$83 billion in operating income. And the Microsoft Cloud surpassed $100  billion in annualized revenue for the first time.  \n",
      "OUR RESPONSIBILITY  \n",
      "As a corporation, our purpose and actions must be aligned with addressing the  world’s problems, not creating new ones. \n",
      "At our very core, we need to deliver innovation that helps drive broad economic growth. We, as a company, will do well \n",
      "when the world around us does well.  \n",
      "That’s what I believe will lead to widespread human progre ss and ultimately improve the lives of everyone. There is no \n",
      "more powerful input than digital technology to drive the world’s economic output. This is the core thesis for our being as a \n",
      "company, but it’s not enough. As we drive global economic growth, we m ust also commit to creating a more inclusive, \n",
      "equitable, sustainable, and trusted future.  \n",
      "Support inclusive economic growth  \n",
      "We must ensure the growth we drive reaches every person, organization, community, and country. This starts with \n",
      "increasing access to digital skills. This year alone, more than 23  million people accessed digital skills training as part of \n",
      "our global skills initiative.\n"
     ]
    }
   ],
   "source": [
    "print(documents[0].page_content)"
   ]
  },
  {
   "cell_type": "code",
   "execution_count": 7,
   "metadata": {
    "id": "UVpykqFoWiWb"
   },
   "outputs": [],
   "source": [
    "text_splitter = RecursiveCharacterTextSplitter(chunk_size=1024, chunk_overlap=64)\n",
    "texts = text_splitter.split_documents(documents)"
   ]
  },
  {
   "cell_type": "code",
   "execution_count": 8,
   "metadata": {
    "colab": {
     "base_uri": "https://localhost:8080/"
    },
    "id": "ZoYnqSgCXKnp",
    "outputId": "13bf91f2-3bdd-466b-c60a-3f41c64dc2ac"
   },
   "outputs": [
    {
     "data": {
      "text/plain": [
       "359"
      ]
     },
     "execution_count": 8,
     "metadata": {},
     "output_type": "execute_result"
    }
   ],
   "source": [
    "len(texts)"
   ]
  },
  {
   "cell_type": "code",
   "execution_count": 9,
   "metadata": {
    "colab": {
     "base_uri": "https://localhost:8080/"
    },
    "id": "OiFYKMTPXNn_",
    "outputId": "4115112d-0cf0-47d0-ae8e-e8ac9dee70ed"
   },
   "outputs": [
    {
     "name": "stdout",
     "output_type": "stream",
     "text": [
      "1 Dear shareholders, colleagues, customers, and partners:  \n",
      "We are living through a period of historic economic, societal, and geopolitical change. The world in 2022 looks nothing like \n",
      "the world in 2019. As I write this, inflation is at a 40 -year high, supply chains are stretched, and the war in Ukraine is \n",
      "ongoing.  At the same time, we are entering a technological era with the potential to power awesome advancements \n",
      "across every sector of our economy and society. As the world’s largest software company, this places us at a historic \n",
      "intersection of opportunity and re sponsibility to the world around us.  \n",
      "Our mission to empower every person and every organization on the planet to achieve more has never been more \n",
      "urgent or more necessary. For all the uncertainty in the world, one thing is clear: People and organizations in every \n",
      "industry are increasingly looking to digital technology to overcome today’s challenges and emerge stronger. And no \n",
      "company is better positioned to help them than Microsoft.\n"
     ]
    }
   ],
   "source": [
    "print(texts[0].page_content)"
   ]
  },
  {
   "attachments": {},
   "cell_type": "markdown",
   "metadata": {
    "id": "FGlS3t9K0kTA"
   },
   "source": [
    "## Create Embeddings"
   ]
  },
  {
   "cell_type": "code",
   "execution_count": 10,
   "metadata": {
    "id": "bAcy1J0UXngi"
   },
   "outputs": [],
   "source": [
    "embeddings = HuggingFaceEmbeddings(model_name=\"sentence-transformers/all-MiniLM-L6-v2\")"
   ]
  },
  {
   "cell_type": "code",
   "execution_count": 11,
   "metadata": {
    "colab": {
     "base_uri": "https://localhost:8080/"
    },
    "id": "pyM7ySBRaKgV",
    "outputId": "1ffe7795-6145-4e59-cd11-f43ecacf95a9"
   },
   "outputs": [
    {
     "name": "stderr",
     "output_type": "stream",
     "text": [
      "Using embedded DuckDB with persistence: data will be stored in: db\n"
     ]
    }
   ],
   "source": [
    "db = Chroma.from_documents(texts, embeddings, persist_directory=\"db\")"
   ]
  },
  {
   "attachments": {},
   "cell_type": "markdown",
   "metadata": {
    "id": "LF1qakPS2MCD"
   },
   "source": [
    "## Create Chain"
   ]
  },
  {
   "cell_type": "code",
   "execution_count": 12,
   "metadata": {
    "id": "qBZOUYGVbKPZ"
   },
   "outputs": [],
   "source": [
    "model_n_ctx = 1000\n",
    "model_path = \"./ggml-gpt4all-j-v1.3-groovy.bin\"\n",
    "llm = GPT4All(model=model_path, n_ctx=1000, backend=\"gptj\", verbose=False)"
   ]
  },
  {
   "cell_type": "code",
   "execution_count": 13,
   "metadata": {
    "id": "POCnAlJAgstA"
   },
   "outputs": [],
   "source": [
    "qa = RetrievalQA.from_chain_type(\n",
    "    llm=llm,\n",
    "    chain_type=\"stuff\",\n",
    "    retriever=db.as_retriever(search_kwargs={\"k\": 3}),\n",
    "    return_source_documents=True,\n",
    "    verbose=False,\n",
    ")"
   ]
  },
  {
   "attachments": {},
   "cell_type": "markdown",
   "metadata": {
    "id": "QaMXzvcPhOM7"
   },
   "source": [
    "## Ask Questions"
   ]
  },
  {
   "cell_type": "code",
   "execution_count": 14,
   "metadata": {
    "colab": {
     "base_uri": "https://localhost:8080/"
    },
    "id": "FyZ0zw_zgu9v",
    "outputId": "0c94f00b-6af9-42ba-c12a-5c507ce68de6"
   },
   "outputs": [
    {
     "name": "stdout",
     "output_type": "stream",
     "text": [
      "[2023-06-22 08:44:11,744] {_common.py:120} ERROR - Giving up send_request(...) after 4 tries (requests.exceptions.SSLError: HTTPSConnectionPool(host='app.posthog.com', port=443): Max retries exceeded with url: /batch/ (Caused by SSLError(SSLCertVerificationError(1, '[SSL: CERTIFICATE_VERIFY_FAILED] certificate verify failed: self signed certificate in certificate chain (_ssl.c:1007)'))))\n",
      "CPU times: total: 14min 28s\n",
      "Wall time: 3min 38s\n"
     ]
    }
   ],
   "source": [
    "%%time\n",
    "res = qa(\n",
    "    \"How much is the dividend per share during during 2022? Extract it from the text.\"\n",
    ")"
   ]
  },
  {
   "cell_type": "code",
   "execution_count": 20,
   "metadata": {
    "colab": {
     "base_uri": "https://localhost:8080/"
    },
    "id": "TFpY1O989W12",
    "outputId": "52d0fb18-eafe-4e56-f39c-521a9dae1d71"
   },
   "outputs": [
    {
     "data": {
      "text/plain": [
       "{'query': 'How much is the dividend per share during during 2022? Extract it from the text.',\n",
       " 'result': '\\n\\nI cannot answer this question without knowing the year or period for which the dividend is being referred to.',\n",
       " 'source_documents': [Document(page_content='Year ended June  30, 2022  2021  2020  \\n        \\nDividends per share (quarterly amounts)  $   0.56 –  0.62  $   0.51 – 0.56  $ 0.46 – 0.51  \\nInterest rates   0.03%  – 3.6%    0.01%  – 1.5%    0.1%  – 2.2%', metadata={'source': 'C:/Users/matan.s/Desktop/python/AI/GPT4Aall/2022_Annual_Report.pdf', 'page': 80}),\n",
       "  Document(page_content='Total      $ 2.24  $ 16,871             \\nThe dividend declared on June  14, 2022 was included in other current liabilities as of June  30, 2022.', metadata={'source': 'C:/Users/matan.s/Desktop/python/AI/GPT4Aall/2022_Annual_Report.pdf', 'page': 10}),\n",
       "  Document(page_content='Balance, beginning of period   1,822    3,186    (340) \\nOther comprehensive income (loss)   (6,500 )  (1,374 )  3,526   \\nCumulative effect of accounting changes   0   10   0        \\nBalance, end of period   (4,678 )  1,822    3,186         \\nTotal stockholders’ equity  $  166,542   $   141,988   $  118,304           \\n        \\nCash dividends declared per common share  $ 2.48  $ 2.24  $ 2.04        \\nRefer to accompanying notes.', metadata={'source': 'C:/Users/matan.s/Desktop/python/AI/GPT4Aall/2022_Annual_Report.pdf', 'page': 52})]}"
      ]
     },
     "execution_count": 20,
     "metadata": {},
     "output_type": "execute_result"
    }
   ],
   "source": [
    "res"
   ]
  },
  {
   "cell_type": "code",
   "execution_count": 16,
   "metadata": {
    "colab": {
     "base_uri": "https://localhost:8080/"
    },
    "id": "59ACA33dEmYz",
    "outputId": "dff01e34-7410-40cd-eb1d-14d498189987"
   },
   "outputs": [],
   "source": []
  },
  {
   "cell_type": "code",
   "execution_count": 17,
   "metadata": {},
   "outputs": [],
   "source": [
    "# %%time\n",
    "# prompt = f\"\"\"How much is the investment amount in Microsoft on 6/22? Extract the answer from the text.\"\"\"\n",
    "# res = qa(prompt.strip())"
   ]
  },
  {
   "cell_type": "code",
   "execution_count": 18,
   "metadata": {
    "colab": {
     "base_uri": "https://localhost:8080/"
    },
    "id": "y-oaTK7eMYFf",
    "outputId": "40c9e505-c027-46c6-e750-5725c0a39563"
   },
   "outputs": [],
   "source": [
    "# #this cell is vanilen run\n",
    "# %%time\n",
    "# prompt = f\"\"\"How much is the investment amount in Microsoft on 6/22? Extract the answer from the text.\"\"\"\n",
    "# res = qa(prompt.strip())\n",
    "# CPU times: user 12min 41s, sys: 9.47 s, total: 12min 51s\n",
    "# Wall time: 3min 29s"
   ]
  },
  {
   "cell_type": "code",
   "execution_count": 19,
   "metadata": {
    "colab": {
     "base_uri": "https://localhost:8080/"
    },
    "id": "Lgwzya6JP_JL",
    "outputId": "8c3f2fb4-4fdc-4904-fc41-a939bdbead02"
   },
   "outputs": [
    {
     "name": "stdout",
     "output_type": "stream",
     "text": [
      "[2023-06-22 08:44:20,380] {_common.py:105} INFO - Backing off send_request(...) for 0.0s (requests.exceptions.SSLError: HTTPSConnectionPool(host='app.posthog.com', port=443): Max retries exceeded with url: /batch/ (Caused by SSLError(SSLCertVerificationError(1, '[SSL: CERTIFICATE_VERIFY_FAILED] certificate verify failed: self signed certificate in certificate chain (_ssl.c:1007)'))))\n",
      "[2023-06-22 08:44:20,559] {_common.py:105} INFO - Backing off send_request(...) for 1.8s (requests.exceptions.SSLError: HTTPSConnectionPool(host='app.posthog.com', port=443): Max retries exceeded with url: /batch/ (Caused by SSLError(SSLCertVerificationError(1, '[SSL: CERTIFICATE_VERIFY_FAILED] certificate verify failed: self signed certificate in certificate chain (_ssl.c:1007)'))))\n",
      "[2023-06-22 08:44:22,556] {_common.py:105} INFO - Backing off send_request(...) for 3.1s (requests.exceptions.SSLError: HTTPSConnectionPool(host='app.posthog.com', port=443): Max retries exceeded with url: /batch/ (Caused by SSLError(SSLCertVerificationError(1, '[SSL: CERTIFICATE_VERIFY_FAILED] certificate verify failed: self signed certificate in certificate chain (_ssl.c:1007)'))))\n",
      "[2023-06-22 08:44:25,847] {_common.py:120} ERROR - Giving up send_request(...) after 4 tries (requests.exceptions.SSLError: HTTPSConnectionPool(host='app.posthog.com', port=443): Max retries exceeded with url: /batch/ (Caused by SSLError(SSLCertVerificationError(1, '[SSL: CERTIFICATE_VERIFY_FAILED] certificate verify failed: self signed certificate in certificate chain (_ssl.c:1007)'))))\n"
     ]
    }
   ],
   "source": [
    "# print(res[\"result\"])"
   ]
  },
  {
   "attachments": {},
   "cell_type": "markdown",
   "metadata": {
    "id": "F-FofoJ5CCp0"
   },
   "source": [
    "## References\n",
    "\n",
    "- [GPT4All](https://gpt4all.io/)\n",
    "- [MICROSOFT 2022 ANNUAL REPORT](https://www.microsoft.com/investor/reports/ar22/download-center/)"
   ]
  }
 ],
 "metadata": {
  "colab": {
   "gpuType": "T4",
   "machine_shape": "hm",
   "provenance": []
  },
  "gpuClass": "standard",
  "kernelspec": {
   "display_name": "Python 3",
   "name": "python3"
  },
  "language_info": {
   "codemirror_mode": {
    "name": "ipython",
    "version": 3
   },
   "file_extension": ".py",
   "mimetype": "text/x-python",
   "name": "python",
   "nbconvert_exporter": "python",
   "pygments_lexer": "ipython3",
   "version": "3.10.11"
  }
 },
 "nbformat": 4,
 "nbformat_minor": 0
}
