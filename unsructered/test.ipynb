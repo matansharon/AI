{
 "cells": [
  {
   "cell_type": "code",
   "execution_count": null,
   "metadata": {},
   "outputs": [],
   "source": [
    "import os, json\n",
    "\n",
    "import unstructured_client\n",
    "from unstructured_client.models import operations, shared\n",
    "\n",
    "client = unstructured_client.UnstructuredClient(\n",
    "    api_key_auth=os.getenv(\"UNSTRUCTURED_API_KEY\")\n",
    ")\n",
    "\n",
    "filename = \"unsructered/docs/GaLore- Memory-Efficient LLM Training by Gradient Low-Rank Projection.pdf\"\n",
    "\n",
    "req = operations.PartitionRequest(\n",
    "    partition_parameters=shared.PartitionParameters(\n",
    "        files=shared.Files(\n",
    "            content=open(filename, \"rb\"),\n",
    "            file_name=filename,\n",
    "        ),\n",
    "        strategy=shared.Strategy.VLM,\n",
    "        vlm_model=\"gpt-4o\",\n",
    "        vlm_model_provider=\"openai\",\n",
    "        languages=['eng'],\n",
    "        split_pdf_page=False,            # If True, splits the PDF file into smaller chunks of pages.\n",
    "        split_pdf_allow_failed=True,    # If True, the partitioning continues even if some pages fail.\n",
    "        split_pdf_concurrency_level=15  # Set the number of concurrent request to the maximum value: 15.\n",
    "    ),\n",
    ")\n",
    "try:\n",
    "    res = client.general.partition(\n",
    "        request=req\n",
    "    )\n",
    "#     element_dicts = [element for element in res.elements]\n",
    "    \n",
    "#     # Print the processed data's first element only.\n",
    "#     print(element_dicts[0])\n",
    "\n",
    "#     # Write the processed data to a local file.\n",
    "#     json_elements = json.dumps(element_dicts, indent=2)\n",
    "\n",
    "#     with open(\"retule\", \"w\") as file:\n",
    "#         file.write(json_elements)\n",
    "except Exception as e:\n",
    "    print(e)"
   ]
  },
  {
   "cell_type": "code",
   "execution_count": 11,
   "metadata": {},
   "outputs": [
    {
     "name": "stdout",
     "output_type": "stream",
     "text": [
      "b'%PDF-1.4\\r%'\n"
     ]
    },
    {
     "name": "stderr",
     "output_type": "stream",
     "text": [
      "INFO: HTTP Request: GET https://api.unstructuredapp.io/general/docs \"HTTP/1.1 200 OK\"\n",
      "INFO: HTTP Request: POST https://api.unstructuredapp.io/general/v0/general \"HTTP/1.1 200 OK\"\n",
      "INFO: HTTP Request: POST https://api.unstructuredapp.io/general/v0/general \"HTTP/1.1 200 OK\"\n",
      "INFO: HTTP Request: POST https://api.unstructuredapp.io/general/v0/general \"HTTP/1.1 200 OK\"\n",
      "INFO: HTTP Request: POST https://api.unstructuredapp.io/general/v0/general \"HTTP/1.1 200 OK\"\n",
      "INFO: HTTP Request: POST https://api.unstructuredapp.io/general/v0/general \"HTTP/1.1 200 OK\"\n"
     ]
    },
    {
     "name": "stdout",
     "output_type": "stream",
     "text": [
      "{'type': 'Header', 'element_id': '8128c53297d5533b5514402debfca182', 'text': 'Elcam Medical BarAm 13860 Israel', 'metadata': {'filetype': 'application/pdf', 'languages': ['heb', 'eng'], 'page_number': 1, 'filename': 'RMF- DPT & DIPT Rev  C.pdf'}}\n"
     ]
    }
   ],
   "source": [
    "import os, json\n",
    "import unstructured_client\n",
    "from unstructured_client.models import operations, shared\n",
    "from unstructured_client.models.errors import SDKError\n",
    "from dotenv import load_dotenv\n",
    "load_dotenv()\n",
    "filename = \"docs/Products/Disposable PressureTransducer/obsolete/RMF- DPT & DIPT Rev  C.pdf\"\n",
    "\n",
    "with open(filename, \"rb\") as f:          # pass bytes, not a file handle\n",
    "    file_bytes = f.read()\n",
    "    print(file_bytes[:10])            # print first 10 bytes\n",
    "\n",
    "req = operations.PartitionRequest(\n",
    "    partition_parameters=shared.PartitionParameters(\n",
    "        files=shared.Files(\n",
    "            content=file_bytes,\n",
    "            file_name=filename,\n",
    "        ),\n",
    "        # strategy omitted ➜ defaults to \"auto\"\n",
    "        languages=[\"heb\", \"eng\"],\n",
    "    )\n",
    ")\n",
    "\n",
    "client = unstructured_client.UnstructuredClient(\n",
    "    api_key_auth=os.getenv(\"UNSTRUCTURED_API_KEY\")\n",
    ")\n",
    "\n",
    "try:  \n",
    "    res = client.general.partition(request=req)\n",
    "    elements = res.elements                          # list of Element objects\n",
    "    print(elements[0])\n",
    "    json.dump(elements, open(\"output.json\", \"w\"), indent=2, default=str)\n",
    "except SDKError as e:                                # friendlier error handling\n",
    "    print(f\"{e.status_code}: {e.message}\")\n"
   ]
  },
  {
   "cell_type": "code",
   "execution_count": 18,
   "metadata": {},
   "outputs": [
    {
     "name": "stdout",
     "output_type": "stream",
     "text": [
      "/Users/matansharon/python/AI/unsructered/docs/Products/Bonded Manifolds/obsolete/Risk Management Plan - Bonded Manifolds.doc\n",
      "/Users/matansharon/python/AI/unsructered/docs/Products/Bonded Manifolds/obsolete/RMP - Bonded Manifolds.doc\n",
      "/Users/matansharon/python/AI/unsructered/docs/Products/Disposable PressureTransducer/obsolete/Risk Management Plan - Disposable Pressure Transducer.doc\n",
      "/Users/matansharon/python/AI/unsructered/docs/Products/Disposable PressureTransducer/obsolete/RMP- Disposable Pressure Transducer modifications.doc\n",
      "/Users/matansharon/python/AI/unsructered/docs/Products/Closed Stopcock & MRVLS/Obsolete/RMP - Closed Stopcock & MRVLS.doc\n",
      "/Users/matansharon/python/AI/unsructered/docs/Products/Closed Stopcock & MRVLS/Obsolete/Risk Management Plan - CSTP & MRVLS לא לשימוש.doc\n"
     ]
    }
   ],
   "source": [
    "from pathlib import Path\n",
    "from typing import List\n",
    "\n",
    "def list_all_files(start: str | Path) -> List[str]:\n",
    "    \"\"\"\n",
    "    Return a list of full (absolute) paths for every file\n",
    "    inside *start* and all its sub-directories.\n",
    "\n",
    "    Parameters\n",
    "    ----------\n",
    "    start : str | Path\n",
    "        The root folder to walk. Tilde (~) is expanded; the\n",
    "        path is resolved so the result is always absolute.\n",
    "\n",
    "    Raises\n",
    "    ------\n",
    "    FileNotFoundError\n",
    "        If *start* does not exist or is not a directory.\n",
    "\n",
    "    Examples\n",
    "    --------\n",
    "    >>> list_all_files(\"~/projects/docs\")[:3]\n",
    "    ['/Users/you/projects/docs/report.pdf',\n",
    "     '/Users/you/projects/docs/img/logo.png',\n",
    "     '/Users/you/projects/docs/sub/notes.txt']\n",
    "    \"\"\"\n",
    "    root = Path(start).expanduser().resolve()\n",
    "\n",
    "    if not root.is_dir():\n",
    "        raise FileNotFoundError(f\"{root} is not an existing directory\")\n",
    "\n",
    "    # rglob('*') walks recursively; p.is_file() filters out folders\n",
    "    return [str(p) for p in root.rglob('*') if p.is_file()]\n",
    "\n",
    "pathes=list_all_files(\"docs\")\n",
    "for path in pathes:\n",
    "    filename=os.path.basename(path)\n",
    "    if filename.endswith(\".doc\"):\n",
    "        print(path)"
   ]
  }
 ],
 "metadata": {
  "kernelspec": {
   "display_name": ".venv",
   "language": "python",
   "name": "python3"
  },
  "language_info": {
   "codemirror_mode": {
    "name": "ipython",
    "version": 3
   },
   "file_extension": ".py",
   "mimetype": "text/x-python",
   "name": "python",
   "nbconvert_exporter": "python",
   "pygments_lexer": "ipython3",
   "version": "3.12.9"
  }
 },
 "nbformat": 4,
 "nbformat_minor": 2
}
